{
 "cells": [
  {
   "cell_type": "code",
   "execution_count": 1,
   "id": "adapted-method",
   "metadata": {},
   "outputs": [],
   "source": [
    "# Lec 00. 개요\n",
    "# Machine Learning에 대한 개괄적인 이해\n",
    "# Tensorflow와 Python을 사용하고 싶은 경우\n",
    "# 강의를 들어보자."
   ]
  },
  {
   "cell_type": "code",
   "execution_count": 1,
   "id": "opening-protocol",
   "metadata": {},
   "outputs": [],
   "source": [
    "# 참고 자료\n",
    "# Andrew Ng's ML class\n",
    "# https://class.coursera.org/ml-003/lecture\n",
    "# http://www.holehouse.org/mlclass/\n",
    "\n",
    "# Convolutional Neural Networks for Visual Recognition.\n",
    "# http://cs231n.github.io/\n",
    "\n",
    "# Tensorflow\n",
    "# https://www.tensorflow.org\n",
    "# https://github.com/aymericdamien/TensorFlow-Examples"
   ]
  },
  {
   "cell_type": "code",
   "execution_count": 2,
   "id": "visible-romania",
   "metadata": {},
   "outputs": [],
   "source": [
    "# 강의 순서\n",
    "\n",
    "# Machine Learning Basic Concepts\n",
    "\n",
    "# Linear Regression\n",
    "\n",
    "# Logisitic Regression (Classification)\n",
    "\n",
    "# Multivariable (Vector) Linear /Logistic regression\n",
    "\n",
    "# Neural networks\n",
    "\n",
    "# Deep Learning\n",
    " # - CNN\n",
    " # - RNN\n",
    " # - Bidirectional Neural Networks"
   ]
  },
  {
   "cell_type": "code",
   "execution_count": 4,
   "id": "fixed-dublin",
   "metadata": {},
   "outputs": [],
   "source": [
    "# Lec 01. Machine Learning Basic Concepts\n",
    "# What is ML?\n",
    "# What is Learning?\n",
    "# Supervised / Unsupervised\n",
    "# What is regression?\n",
    "# What is classification?"
   ]
  },
  {
   "cell_type": "code",
   "execution_count": 6,
   "id": "horizontal-territory",
   "metadata": {},
   "outputs": [],
   "source": [
    "# Supervised Learning \n",
    "# - Learning with labeled examples - training set\n",
    "# ex : cat / dog / mug / hat classification\n",
    "\n",
    "\n",
    "# Most Common problem type in ML :\n",
    "\n",
    "# Image Labeling : Learning from tagged images\n",
    "# == Multi Label Classification\n",
    "\n",
    "# Email spam filter : Learning from labeled\n",
    "\n",
    "\n",
    "# Predicting exam score : Learning from previous exam score and time spent\n",
    "# final exam score based on time spent : regression\n",
    "# Pass / Non-pass based on time spent : binary classification\n",
    "# Letter grade (A,B,C,E,F) based on time spent : multi-label classification\n",
    "\n",
    "\n",
    "\n",
    "# Unsupervised Learning\n",
    "# - Unlabeled Data\n",
    "# ex : google news grouping / word clustering"
   ]
  },
  {
   "cell_type": "code",
   "execution_count": 8,
   "id": "alive-imagination",
   "metadata": {},
   "outputs": [
    {
     "name": "stdout",
     "output_type": "stream",
     "text": [
      "Collecting tensorflow\n",
      "  Using cached tensorflow-2.4.1-cp37-cp37m-win_amd64.whl (370.7 MB)\n",
      "Requirement already satisfied: six~=1.15.0 in c:\\users\\user\\appdata\\local\\programs\\python\\python37\\lib\\site-packages (from tensorflow) (1.15.0)\n",
      "Collecting termcolor~=1.1.0\n",
      "  Using cached termcolor-1.1.0.tar.gz (3.9 kB)\n",
      "Collecting flatbuffers~=1.12.0\n",
      "  Using cached flatbuffers-1.12-py2.py3-none-any.whl (15 kB)\n",
      "Requirement already satisfied: typing-extensions~=3.7.4 in c:\\users\\user\\appdata\\local\\programs\\python\\python37\\lib\\site-packages (from tensorflow) (3.7.4.3)\n",
      "Collecting wrapt~=1.12.1\n",
      "  Using cached wrapt-1.12.1.tar.gz (27 kB)\n",
      "Collecting opt-einsum~=3.3.0\n",
      "  Using cached opt_einsum-3.3.0-py3-none-any.whl (65 kB)\n",
      "Collecting tensorboard~=2.4\n",
      "  Using cached tensorboard-2.4.1-py3-none-any.whl (10.6 MB)\n",
      "Collecting astunparse~=1.6.3\n",
      "  Using cached astunparse-1.6.3-py2.py3-none-any.whl (12 kB)\n",
      "Requirement already satisfied: numpy~=1.19.2 in c:\\users\\user\\appdata\\local\\programs\\python\\python37\\lib\\site-packages (from tensorflow) (1.19.5)\n",
      "Collecting google-pasta~=0.2\n",
      "  Using cached google_pasta-0.2.0-py3-none-any.whl (57 kB)\n",
      "Collecting h5py~=2.10.0\n",
      "  Using cached h5py-2.10.0-cp37-cp37m-win_amd64.whl (2.5 MB)\n",
      "Collecting absl-py~=0.10\n",
      "  Using cached absl_py-0.11.0-py3-none-any.whl (127 kB)\n",
      "Collecting protobuf>=3.9.2\n",
      "  Using cached protobuf-3.14.0-cp37-cp37m-win_amd64.whl (798 kB)\n",
      "Collecting wheel~=0.35\n",
      "  Using cached wheel-0.36.2-py2.py3-none-any.whl (35 kB)\n",
      "Collecting gast==0.3.3\n",
      "  Using cached gast-0.3.3-py2.py3-none-any.whl (9.7 kB)\n",
      "Collecting keras-preprocessing~=1.1.2\n",
      "  Using cached Keras_Preprocessing-1.1.2-py2.py3-none-any.whl (42 kB)\n",
      "Collecting tensorflow-estimator<2.5.0,>=2.4.0\n",
      "  Using cached tensorflow_estimator-2.4.0-py2.py3-none-any.whl (462 kB)\n",
      "Collecting grpcio~=1.32.0\n",
      "  Using cached grpcio-1.32.0-cp37-cp37m-win_amd64.whl (2.5 MB)\n",
      "Collecting google-auth-oauthlib<0.5,>=0.4.1\n",
      "  Using cached google_auth_oauthlib-0.4.2-py2.py3-none-any.whl (18 kB)\n",
      "Collecting werkzeug>=0.11.15\n",
      "  Using cached Werkzeug-1.0.1-py2.py3-none-any.whl (298 kB)\n",
      "Requirement already satisfied: setuptools>=41.0.0 in c:\\users\\user\\appdata\\local\\programs\\python\\python37\\lib\\site-packages (from tensorboard~=2.4->tensorflow) (41.2.0)\n",
      "Collecting markdown>=2.6.8\n",
      "  Using cached Markdown-3.3.3-py3-none-any.whl (96 kB)\n",
      "Collecting google-auth<2,>=1.6.3\n",
      "  Using cached google_auth-1.24.0-py2.py3-none-any.whl (114 kB)\n",
      "Requirement already satisfied: requests<3,>=2.21.0 in c:\\users\\user\\appdata\\local\\programs\\python\\python37\\lib\\site-packages (from tensorboard~=2.4->tensorflow) (2.25.1)\n",
      "Collecting tensorboard-plugin-wit>=1.6.0\n",
      "  Using cached tensorboard_plugin_wit-1.8.0-py3-none-any.whl (781 kB)\n",
      "Collecting rsa<5,>=3.1.4\n",
      "  Using cached rsa-4.7-py3-none-any.whl (34 kB)\n",
      "Collecting cachetools<5.0,>=2.0.0\n",
      "  Downloading cachetools-4.2.1-py3-none-any.whl (12 kB)\n",
      "Collecting pyasn1-modules>=0.2.1\n",
      "  Using cached pyasn1_modules-0.2.8-py2.py3-none-any.whl (155 kB)\n",
      "Collecting requests-oauthlib>=0.7.0\n",
      "  Using cached requests_oauthlib-1.3.0-py2.py3-none-any.whl (23 kB)\n",
      "Requirement already satisfied: importlib-metadata in c:\\users\\user\\appdata\\local\\programs\\python\\python37\\lib\\site-packages (from markdown>=2.6.8->tensorboard~=2.4->tensorflow) (3.4.0)\n",
      "Collecting pyasn1<0.5.0,>=0.4.6\n",
      "  Using cached pyasn1-0.4.8-py2.py3-none-any.whl (77 kB)\n",
      "Requirement already satisfied: urllib3<1.27,>=1.21.1 in c:\\users\\user\\appdata\\local\\programs\\python\\python37\\lib\\site-packages (from requests<3,>=2.21.0->tensorboard~=2.4->tensorflow) (1.26.3)\n",
      "Requirement already satisfied: chardet<5,>=3.0.2 in c:\\users\\user\\appdata\\local\\programs\\python\\python37\\lib\\site-packages (from requests<3,>=2.21.0->tensorboard~=2.4->tensorflow) (3.0.4)\n",
      "Requirement already satisfied: certifi>=2017.4.17 in c:\\users\\user\\appdata\\local\\programs\\python\\python37\\lib\\site-packages (from requests<3,>=2.21.0->tensorboard~=2.4->tensorflow) (2020.12.5)\n",
      "Requirement already satisfied: idna<3,>=2.5 in c:\\users\\user\\appdata\\local\\programs\\python\\python37\\lib\\site-packages (from requests<3,>=2.21.0->tensorboard~=2.4->tensorflow) (2.10)\n",
      "Collecting oauthlib>=3.0.0\n",
      "  Using cached oauthlib-3.1.0-py2.py3-none-any.whl (147 kB)\n",
      "Requirement already satisfied: zipp>=0.5 in c:\\users\\user\\appdata\\local\\programs\\python\\python37\\lib\\site-packages (from importlib-metadata->markdown>=2.6.8->tensorboard~=2.4->tensorflow) (3.4.0)\n",
      "Using legacy 'setup.py install' for termcolor, since package 'wheel' is not installed.\n",
      "Using legacy 'setup.py install' for wrapt, since package 'wheel' is not installed.\n",
      "Installing collected packages: pyasn1, rsa, pyasn1-modules, oauthlib, cachetools, requests-oauthlib, google-auth, wheel, werkzeug, tensorboard-plugin-wit, protobuf, markdown, grpcio, google-auth-oauthlib, absl-py, wrapt, termcolor, tensorflow-estimator, tensorboard, opt-einsum, keras-preprocessing, h5py, google-pasta, gast, flatbuffers, astunparse, tensorflow\n",
      "    Running setup.py install for wrapt: started\n",
      "    Running setup.py install for wrapt: finished with status 'done'\n",
      "    Running setup.py install for termcolor: started\n",
      "    Running setup.py install for termcolor: finished with status 'done'\n",
      "Successfully installed absl-py-0.11.0 astunparse-1.6.3 cachetools-4.2.1 flatbuffers-1.12 gast-0.3.3 google-auth-1.24.0 google-auth-oauthlib-0.4.2 google-pasta-0.2.0 grpcio-1.32.0 h5py-2.10.0 keras-preprocessing-1.1.2 markdown-3.3.3 oauthlib-3.1.0 opt-einsum-3.3.0 protobuf-3.14.0 pyasn1-0.4.8 pyasn1-modules-0.2.8 requests-oauthlib-1.3.0 rsa-4.7 tensorboard-2.4.1 tensorboard-plugin-wit-1.8.0 tensorflow-2.4.1 tensorflow-estimator-2.4.0 termcolor-1.1.0 werkzeug-1.0.1 wheel-0.36.2 wrapt-1.12.1\n",
      "Note: you may need to restart the kernel to use updated packages.\n"
     ]
    }
   ],
   "source": [
    "pip install tensorflow"
   ]
  },
  {
   "cell_type": "code",
   "execution_count": 12,
   "id": "intellectual-correspondence",
   "metadata": {},
   "outputs": [
    {
     "name": "stdout",
     "output_type": "stream",
     "text": [
      "WARNING:tensorflow:From c:\\users\\user\\appdata\\local\\programs\\python\\python37\\lib\\site-packages\\tensorflow\\python\\compat\\v2_compat.py:96: disable_resource_variables (from tensorflow.python.ops.variable_scope) is deprecated and will be removed in a future version.\n",
      "Instructions for updating:\n",
      "non-resource variables are not supported in the long term\n"
     ]
    }
   ],
   "source": [
    "import tensorflow.compat.v1 as tf\n",
    "tf.disable_v2_behavior()"
   ]
  },
  {
   "cell_type": "code",
   "execution_count": 13,
   "id": "usual-hospital",
   "metadata": {},
   "outputs": [
    {
     "name": "stdout",
     "output_type": "stream",
     "text": [
      "b'hello, tensorflow'\n"
     ]
    }
   ],
   "source": [
    "hello = tf.constant('hello, tensorflow')\n",
    "sess = tf.Session()\n",
    "print(sess.run(hello))"
   ]
  },
  {
   "cell_type": "code",
   "execution_count": 14,
   "id": "great-energy",
   "metadata": {},
   "outputs": [],
   "source": [
    "#Tensorflow 2.0버전부터 Session을 지원하지않으므로, 12번과 같이 import 하여 사용"
   ]
  },
  {
   "cell_type": "code",
   "execution_count": 15,
   "id": "statutory-investigation",
   "metadata": {},
   "outputs": [],
   "source": [
    "node1 = tf.constant(3.0, tf.float32)\n",
    "node2 = tf.constant(4.0)\n",
    "node3 = tf.add(node1, node2)"
   ]
  },
  {
   "cell_type": "code",
   "execution_count": 17,
   "id": "first-carolina",
   "metadata": {},
   "outputs": [
    {
     "name": "stdout",
     "output_type": "stream",
     "text": [
      "node 1 :  Tensor(\"Const_1:0\", shape=(), dtype=float32) node 2 :  Tensor(\"Const_2:0\", shape=(), dtype=float32)\n",
      "node 3 :  Tensor(\"Add:0\", shape=(), dtype=float32)\n"
     ]
    }
   ],
   "source": [
    "print(\"node 1 : \", node1, \"node 2 : \", node2)\n",
    "print(\"node 3 : \", node3)"
   ]
  },
  {
   "cell_type": "code",
   "execution_count": 18,
   "id": "marine-chain",
   "metadata": {},
   "outputs": [],
   "source": [
    "#tensor라고만 말해주고 결과값을 얘기해주지않음"
   ]
  },
  {
   "cell_type": "code",
   "execution_count": 19,
   "id": "tested-invention",
   "metadata": {},
   "outputs": [
    {
     "name": "stdout",
     "output_type": "stream",
     "text": [
      "sess.run(node1, node2) :  [3.0, 4.0]\n",
      "sess.run(node3):  7.0\n"
     ]
    }
   ],
   "source": [
    "sess = tf.Session()\n",
    "print(\"sess.run(node1, node2) : \", sess.run([node1,node2]))\n",
    "print(\"sess.run(node3): \", sess.run(node3))"
   ]
  },
  {
   "cell_type": "code",
   "execution_count": 20,
   "id": "capital-parent",
   "metadata": {},
   "outputs": [],
   "source": [
    "#session으로 실행을 해주어야 함"
   ]
  },
  {
   "cell_type": "code",
   "execution_count": 22,
   "id": "metallic-camcorder",
   "metadata": {},
   "outputs": [
    {
     "name": "stdout",
     "output_type": "stream",
     "text": [
      "7.5\n",
      "[3. 7.]\n"
     ]
    }
   ],
   "source": [
    "a = tf.placeholder(tf.float32)\n",
    "b = tf.placeholder(tf.float32)\n",
    "adder_node = a + b\n",
    "\n",
    "print(sess.run(adder_node, feed_dict={a:3,  b:4.5}))\n",
    "print(sess.run(adder_node, feed_dict={a:[1,3], b:[2,4]}))"
   ]
  },
  {
   "cell_type": "code",
   "execution_count": 24,
   "id": "exclusive-analyst",
   "metadata": {},
   "outputs": [],
   "source": [
    "#placeholder로 변수를 생성하면 feed_dict로 값을 정해주어야함"
   ]
  },
  {
   "cell_type": "code",
   "execution_count": 25,
   "id": "unable-credit",
   "metadata": {},
   "outputs": [
    {
     "data": {
      "text/plain": [
       "[[[2], [4], [6]], [[8], [10], [12]], [[14], [16], [18]]]"
      ]
     },
     "execution_count": 25,
     "metadata": {},
     "output_type": "execute_result"
    }
   ],
   "source": [
    "[1., 2., 3.]\n",
    "[[1., 2., 3.], [4.,5.,6]]\n",
    "[[[2],[4],[6]],[[8],[10],[12]],[[14],[16],[18]]]"
   ]
  },
  {
   "cell_type": "code",
   "execution_count": 26,
   "id": "institutional-equation",
   "metadata": {},
   "outputs": [],
   "source": [
    "#n차원의 tensor도 구현 가능"
   ]
  },
  {
   "cell_type": "code",
   "execution_count": 27,
   "id": "devoted-entity",
   "metadata": {},
   "outputs": [],
   "source": [
    "#lec 02. Linear Regression / Cost"
   ]
  },
  {
   "cell_type": "code",
   "execution_count": 28,
   "id": "shaped-church",
   "metadata": {},
   "outputs": [],
   "source": [
    "# H(x) = Wx+b\n",
    "# W와 b에 따라 곡선의 모양이 달라짐"
   ]
  },
  {
   "cell_type": "code",
   "execution_count": 32,
   "id": "hazardous-terry",
   "metadata": {},
   "outputs": [
    {
     "name": "stdout",
     "output_type": "stream",
     "text": [
      "-3.0, 74.7\n",
      "-2.9, 71.0\n",
      "-2.8, 67.4\n",
      "-2.7, 63.9\n",
      "-2.6, 60.5\n",
      "-2.5, 57.2\n",
      "-2.4, 53.9\n",
      "-2.3, 50.8\n",
      "-2.2, 47.8\n",
      "-2.1, 44.8\n",
      "-2.0, 42.0\n",
      "-1.9, 39.2\n",
      "-1.8, 36.6\n",
      "-1.7, 34.0\n",
      "-1.6, 31.5\n",
      "-1.5, 29.2\n",
      "-1.4, 26.9\n",
      "-1.3, 24.7\n",
      "-1.2, 22.6\n",
      "-1.1, 20.6\n",
      "-1.0, 18.7\n",
      "-0.9, 16.8\n",
      "-0.8, 15.1\n",
      "-0.7, 13.5\n",
      "-0.6, 11.9\n",
      "-0.5, 10.5\n",
      "-0.4, 9.1\n",
      "-0.3, 7.9\n",
      "-0.2, 6.7\n",
      "-0.1, 5.6\n",
      "0.0, 4.7\n",
      "0.1, 3.8\n",
      "0.2, 3.0\n",
      "0.3, 2.3\n",
      "0.4, 1.7\n",
      "0.5, 1.2\n",
      "0.6, 0.7\n",
      "0.7, 0.4\n",
      "0.8, 0.2\n",
      "0.9, 0.0\n",
      "1.0, 0.0\n",
      "1.1, 0.0\n",
      "1.2, 0.2\n",
      "1.3, 0.4\n",
      "1.4, 0.7\n",
      "1.5, 1.2\n",
      "1.6, 1.7\n",
      "1.7, 2.3\n",
      "1.8, 3.0\n",
      "1.9, 3.8\n",
      "2.0, 4.7\n",
      "2.1, 5.6\n",
      "2.2, 6.7\n",
      "2.3, 7.9\n",
      "2.4, 9.1\n",
      "2.5, 10.5\n",
      "2.6, 11.9\n",
      "2.7, 13.5\n",
      "2.8, 15.1\n",
      "2.9, 16.8\n",
      "3.0, 18.7\n",
      "3.1, 20.6\n",
      "3.2, 22.6\n",
      "3.3, 24.7\n",
      "3.4, 26.9\n",
      "3.5, 29.2\n",
      "3.6, 31.5\n",
      "3.7, 34.0\n",
      "3.8, 36.6\n",
      "3.9, 39.2\n",
      "4.0, 42.0\n",
      "4.1, 44.8\n",
      "4.2, 47.8\n",
      "4.3, 50.8\n",
      "4.4, 53.9\n",
      "4.5, 57.2\n",
      "4.6, 60.5\n",
      "4.7, 63.9\n",
      "4.8, 67.4\n",
      "4.9, 71.0\n",
      "5.0, 74.7\n"
     ]
    },
    {
     "data": {
      "image/png": "[encoded data removed]",
      "text/plain": [
       "<Figure size 432x288 with 1 Axes>"
      ]
     },
     "metadata": {
      "needs_background": "light"
     },
     "output_type": "display_data"
    }
   ],
   "source": [
    "def cost(W, X, y):\n",
    "    s = 0\n",
    "    for i in range(len(X)):\n",
    "        s += (W * X[i] - y[i]) ** 2\n",
    "\n",
    "    return s / len(X)\n",
    "\n",
    "X = [1., 2., 3.]\n",
    "Y = [1., 2., 3.]\n",
    "\n",
    "W_val, cost_val = [], []\n",
    "for i in range(-30, 51):\n",
    "    W = i*0.1\n",
    "    c = cost(W, X, Y)\n",
    "\n",
    "    print('{:.1f}, {:.1f}'.format(W, c))\n",
    "\n",
    "    W_val.append(W)\n",
    "    cost_val.append(c)\n",
    "\n",
    "    import matplotlib.pyplot as plt\n",
    "\n",
    "plt.plot(W_val, cost_val, 'ro')\n",
    "plt.ylabel('Cost')\n",
    "plt.xlabel('W')\n",
    "plt.show()\n"
   ]
  },
  {
   "cell_type": "code",
   "execution_count": 33,
   "id": "settled-control",
   "metadata": {},
   "outputs": [],
   "source": [
    "#minimize cost(W,b)"
   ]
  },
  {
   "cell_type": "code",
   "execution_count": 35,
   "id": "hydraulic-collar",
   "metadata": {},
   "outputs": [],
   "source": [
    "x_train = [1,2,3]\n",
    "y_train = [1,2,3]\n",
    "\n",
    "W = tf.Variable(tf.random_normal([1]), name='weight')\n",
    "t = tf.Variable(tf.random_normal([1]), name='bias')\n",
    "hypothesis = x_train * W+b"
   ]
  },
  {
   "cell_type": "code",
   "execution_count": 38,
   "id": "separate-chorus",
   "metadata": {},
   "outputs": [
    {
     "data": {
      "text/plain": [
       "<tf.Tensor 'Mean_2:0' shape=() dtype=float32>"
      ]
     },
     "execution_count": 38,
     "metadata": {},
     "output_type": "execute_result"
    }
   ],
   "source": [
    "cost = tf.reduce_mean(tf.square(hypothesis - y_train))\n",
    "t=[1.,2.,3.,4.]\n",
    "tf.reduce_mean(t)"
   ]
  },
  {
   "cell_type": "code",
   "execution_count": 37,
   "id": "welcome-riverside",
   "metadata": {},
   "outputs": [],
   "source": [
    "#GradientDescent\n",
    "optimizer = tf.train.GradientDescentOptimizer(learning_rate=0.01)\n",
    "train=optimizer.minimize(cost)"
   ]
  },
  {
   "cell_type": "code",
   "execution_count": 41,
   "id": "industrial-officer",
   "metadata": {},
   "outputs": [
    {
     "name": "stdout",
     "output_type": "stream",
     "text": [
      "0 0.26894093 [1.2819471] [-0.09919566]\n",
      "20 0.006950527 [1.0974214] [-0.16987805]\n",
      "40 0.004161 [1.0765343] [-0.16906863]\n",
      "60 0.0037595753 [1.0713844] [-0.16180614]\n",
      "80 0.0034143308 [1.067882] [-0.15426692]\n",
      "100 0.0031009475 [1.0646776] [-0.14702316]\n",
      "120 0.0028163332 [1.0616368] [-0.14011422]\n",
      "140 0.0025578423 [1.0587399] [-0.13352947]\n",
      "160 0.0023230712 [1.0559793] [-0.12725404]\n",
      "180 0.0021098524 [1.0533485] [-0.12127358]\n",
      "200 0.0019161971 [1.0508412] [-0.11557417]\n",
      "220 0.0017403237 [1.0484519] [-0.1101426]\n",
      "240 0.0015805872 [1.0461749] [-0.10496629]\n",
      "260 0.0014355149 [1.0440048] [-0.10003329]\n",
      "280 0.0013037584 [1.0419368] [-0.09533212]\n",
      "300 0.0011840918 [1.0399656] [-0.09085176]\n",
      "320 0.0010754121 [1.0380875] [-0.08658197]\n",
      "340 0.0009767037 [1.0362976] [-0.08251288]\n",
      "360 0.00088705757 [1.0345917] [-0.07863507]\n",
      "380 0.0008056378 [1.032966] [-0.07493948]\n",
      "400 0.000731694 [1.0314167] [-0.07141759]\n",
      "420 0.0006645354 [1.0299401] [-0.0680612]\n",
      "440 0.00060354336 [1.0285331] [-0.06486256]\n",
      "460 0.0005481487 [1.0271922] [-0.06181428]\n",
      "480 0.000497838 [1.0259143] [-0.05890927]\n",
      "500 0.00045214474 [1.0246965] [-0.05614075]\n",
      "520 0.0004106457 [1.0235358] [-0.05350237]\n",
      "540 0.00037295374 [1.0224298] [-0.05098803]\n",
      "560 0.00033872598 [1.0213759] [-0.04859189]\n",
      "580 0.0003076355 [1.020371] [-0.04630832]\n",
      "600 0.00027939834 [1.0194137] [-0.04413185]\n",
      "620 0.00025375155 [1.018501] [-0.04205769]\n",
      "640 0.00023046155 [1.0176318] [-0.04008108]\n",
      "660 0.00020930782 [1.0168031] [-0.03819741]\n",
      "680 0.00019009715 [1.0160135] [-0.0364023]\n",
      "700 0.00017265025 [1.0152609] [-0.03469154]\n",
      "720 0.00015680438 [1.0145437] [-0.03306118]\n",
      "740 0.00014241048 [1.0138601] [-0.03150742]\n",
      "760 0.00012933959 [1.0132086] [-0.03002665]\n",
      "780 0.00011746859 [1.012588] [-0.02861548]\n",
      "800 0.000106687534 [1.0119964] [-0.02727067]\n",
      "820 9.689482e-05 [1.0114326] [-0.02598905]\n",
      "840 8.800209e-05 [1.0108954] [-0.02476766]\n",
      "860 7.992446e-05 [1.0103834] [-0.02360368]\n",
      "880 7.258889e-05 [1.0098953] [-0.02249446]\n",
      "900 6.592577e-05 [1.0094302] [-0.02143723]\n",
      "920 5.987531e-05 [1.0089871] [-0.02042971]\n",
      "940 5.4379238e-05 [1.0085647] [-0.01946959]\n",
      "960 4.9388316e-05 [1.0081623] [-0.01855461]\n",
      "980 4.4855347e-05 [1.0077786] [-0.01768265]\n",
      "1000 4.0738745e-05 [1.007413] [-0.01685164]\n",
      "1020 3.699894e-05 [1.0070647] [-0.01605969]\n",
      "1040 3.360337e-05 [1.0067328] [-0.01530498]\n",
      "1060 3.0518775e-05 [1.0064162] [-0.0145857]\n",
      "1080 2.7718015e-05 [1.0061147] [-0.01390021]\n",
      "1100 2.5173542e-05 [1.0058273] [-0.01324695]\n",
      "1120 2.2863389e-05 [1.0055535] [-0.0126244]\n",
      "1140 2.0765243e-05 [1.0052925] [-0.0120311]\n",
      "1160 1.885898e-05 [1.0050439] [-0.01146573]\n",
      "1180 1.7128212e-05 [1.0048068] [-0.01092688]\n",
      "1200 1.5555866e-05 [1.0045809] [-0.01041337]\n",
      "1220 1.412855e-05 [1.0043657] [-0.00992402]\n",
      "1240 1.2831722e-05 [1.0041604] [-0.00945765]\n",
      "1260 1.1654004e-05 [1.0039649] [-0.00901318]\n",
      "1280 1.058455e-05 [1.0037786] [-0.00858958]\n",
      "1300 9.612641e-06 [1.003601] [-0.00818591]\n",
      "1320 8.730605e-06 [1.0034318] [-0.00780121]\n",
      "1340 7.929076e-06 [1.0032705] [-0.00743458]\n",
      "1360 7.2015337e-06 [1.0031168] [-0.00708519]\n",
      "1380 6.5406907e-06 [1.0029703] [-0.00675221]\n",
      "1400 5.9402396e-06 [1.0028307] [-0.0064349]\n",
      "1420 5.39501e-06 [1.0026977] [-0.00613248]\n",
      "1440 4.899761e-06 [1.002571] [-0.0058443]\n",
      "1460 4.450359e-06 [1.0024501] [-0.00556969]\n",
      "1480 4.0418854e-06 [1.0023351] [-0.00530799]\n",
      "1500 3.6709826e-06 [1.0022254] [-0.00505857]\n",
      "1520 3.3340218e-06 [1.0021209] [-0.0048209]\n",
      "1540 3.0280946e-06 [1.0020212] [-0.00459441]\n",
      "1560 2.750309e-06 [1.0019262] [-0.00437854]\n",
      "1580 2.4978056e-06 [1.0018357] [-0.00417278]\n",
      "1600 2.2685733e-06 [1.0017494] [-0.00397672]\n",
      "1620 2.0605416e-06 [1.0016673] [-0.0037899]\n",
      "1640 1.8715378e-06 [1.0015891] [-0.00361186]\n",
      "1660 1.6997574e-06 [1.0015142] [-0.00344219]\n",
      "1680 1.5438005e-06 [1.0014431] [-0.00328044]\n",
      "1700 1.4022013e-06 [1.0013754] [-0.00312635]\n",
      "1720 1.2734523e-06 [1.0013107] [-0.0029795]\n",
      "1740 1.156763e-06 [1.0012493] [-0.00283957]\n",
      "1760 1.0506755e-06 [1.0011907] [-0.00270622]\n",
      "1780 9.542465e-07 [1.0011348] [-0.00257913]\n",
      "1800 8.667923e-07 [1.0010815] [-0.00245802]\n",
      "1820 7.873021e-07 [1.0010307] [-0.00234261]\n",
      "1840 7.150973e-07 [1.0009823] [-0.0022326]\n",
      "1860 6.495552e-07 [1.0009363] [-0.00212779]\n",
      "1880 5.900312e-07 [1.0008924] [-0.00202793]\n",
      "1900 5.3592316e-07 [1.0008504] [-0.00193274]\n",
      "1920 4.867404e-07 [1.0008105] [-0.00184201]\n",
      "1940 4.4213695e-07 [1.0007724] [-0.00175564]\n",
      "1960 4.0175522e-07 [1.0007364] [-0.00167329]\n",
      "1980 3.648436e-07 [1.0007018] [-0.00159475]\n",
      "2000 3.31451e-07 [1.0006686] [-0.00151992]\n"
     ]
    }
   ],
   "source": [
    "#Session 실행\n",
    "sess = tf.Session()\n",
    "#global variables in graph Initializing\n",
    "sess.run(tf.global_variables_initializer())\n",
    "\n",
    "for step in range(2001):\n",
    "    sess.run(train)\n",
    "    if step % 20 == 0:\n",
    "        print(step, sess.run(cost), sess.run(W),sess.run(b))"
   ]
  },
  {
   "cell_type": "code",
   "execution_count": 45,
   "id": "legal-legislature",
   "metadata": {},
   "outputs": [
    {
     "name": "stdout",
     "output_type": "stream",
     "text": [
      "0 1.3323465e-11 [1.0000044] [-8.861246e-06]\n",
      "20 1.3323465e-11 [1.0000044] [-8.861246e-06]\n",
      "40 1.3323465e-11 [1.0000044] [-8.861246e-06]\n",
      "60 1.3323465e-11 [1.0000044] [-8.861246e-06]\n",
      "80 1.3323465e-11 [1.0000044] [-8.861246e-06]\n",
      "100 1.3323465e-11 [1.0000044] [-8.861246e-06]\n",
      "120 1.3323465e-11 [1.0000044] [-8.861246e-06]\n",
      "140 1.3323465e-11 [1.0000044] [-8.861246e-06]\n",
      "160 1.3323465e-11 [1.0000044] [-8.861246e-06]\n",
      "180 1.3323465e-11 [1.0000044] [-8.861246e-06]\n",
      "200 1.3323465e-11 [1.0000044] [-8.861246e-06]\n",
      "220 1.3323465e-11 [1.0000044] [-8.861246e-06]\n",
      "240 1.3323465e-11 [1.0000044] [-8.861246e-06]\n",
      "260 1.3323465e-11 [1.0000044] [-8.861246e-06]\n",
      "280 1.3323465e-11 [1.0000044] [-8.861246e-06]\n",
      "300 1.3323465e-11 [1.0000044] [-8.861246e-06]\n",
      "320 1.3323465e-11 [1.0000044] [-8.861246e-06]\n",
      "340 1.3323465e-11 [1.0000044] [-8.861246e-06]\n",
      "360 1.3323465e-11 [1.0000044] [-8.861246e-06]\n",
      "380 1.3323465e-11 [1.0000044] [-8.861246e-06]\n",
      "400 1.3323465e-11 [1.0000044] [-8.861246e-06]\n",
      "420 1.3323465e-11 [1.0000044] [-8.861246e-06]\n",
      "440 1.3323465e-11 [1.0000044] [-8.861246e-06]\n",
      "460 1.3323465e-11 [1.0000044] [-8.861246e-06]\n",
      "480 1.3323465e-11 [1.0000044] [-8.861246e-06]\n",
      "500 1.3323465e-11 [1.0000044] [-8.861246e-06]\n",
      "520 1.3323465e-11 [1.0000044] [-8.861246e-06]\n",
      "540 1.3323465e-11 [1.0000044] [-8.861246e-06]\n",
      "560 1.3323465e-11 [1.0000044] [-8.861246e-06]\n",
      "580 1.3323465e-11 [1.0000044] [-8.861246e-06]\n",
      "600 1.3323465e-11 [1.0000044] [-8.861246e-06]\n",
      "620 1.3323465e-11 [1.0000044] [-8.861246e-06]\n",
      "640 1.3323465e-11 [1.0000044] [-8.861246e-06]\n",
      "660 1.3323465e-11 [1.0000044] [-8.861246e-06]\n",
      "680 1.3323465e-11 [1.0000044] [-8.861246e-06]\n",
      "700 1.3323465e-11 [1.0000044] [-8.861246e-06]\n",
      "720 1.3323465e-11 [1.0000044] [-8.861246e-06]\n",
      "740 1.3323465e-11 [1.0000044] [-8.861246e-06]\n",
      "760 1.3323465e-11 [1.0000044] [-8.861246e-06]\n",
      "780 1.3323465e-11 [1.0000044] [-8.861246e-06]\n",
      "800 1.3323465e-11 [1.0000044] [-8.861246e-06]\n",
      "820 1.3323465e-11 [1.0000044] [-8.861246e-06]\n",
      "840 1.3323465e-11 [1.0000044] [-8.861246e-06]\n",
      "860 1.3323465e-11 [1.0000044] [-8.861246e-06]\n",
      "880 1.3323465e-11 [1.0000044] [-8.861246e-06]\n",
      "900 1.3323465e-11 [1.0000044] [-8.861246e-06]\n",
      "920 1.3323465e-11 [1.0000044] [-8.861246e-06]\n",
      "940 1.3323465e-11 [1.0000044] [-8.861246e-06]\n",
      "960 1.3323465e-11 [1.0000044] [-8.861246e-06]\n",
      "980 1.3323465e-11 [1.0000044] [-8.861246e-06]\n",
      "1000 1.3323465e-11 [1.0000044] [-8.861246e-06]\n",
      "1020 1.3323465e-11 [1.0000044] [-8.861246e-06]\n",
      "1040 1.3323465e-11 [1.0000044] [-8.861246e-06]\n",
      "1060 1.3323465e-11 [1.0000044] [-8.861246e-06]\n",
      "1080 1.3323465e-11 [1.0000044] [-8.861246e-06]\n",
      "1100 1.3323465e-11 [1.0000044] [-8.861246e-06]\n",
      "1120 1.3323465e-11 [1.0000044] [-8.861246e-06]\n",
      "1140 1.3323465e-11 [1.0000044] [-8.861246e-06]\n",
      "1160 1.3323465e-11 [1.0000044] [-8.861246e-06]\n",
      "1180 1.3323465e-11 [1.0000044] [-8.861246e-06]\n",
      "1200 1.3323465e-11 [1.0000044] [-8.861246e-06]\n",
      "1220 1.3323465e-11 [1.0000044] [-8.861246e-06]\n",
      "1240 1.3323465e-11 [1.0000044] [-8.861246e-06]\n",
      "1260 1.3323465e-11 [1.0000044] [-8.861246e-06]\n",
      "1280 1.3323465e-11 [1.0000044] [-8.861246e-06]\n",
      "1300 1.3323465e-11 [1.0000044] [-8.861246e-06]\n",
      "1320 1.3323465e-11 [1.0000044] [-8.861246e-06]\n",
      "1340 1.3323465e-11 [1.0000044] [-8.861246e-06]\n",
      "1360 1.3323465e-11 [1.0000044] [-8.861246e-06]\n",
      "1380 1.3323465e-11 [1.0000044] [-8.861246e-06]\n",
      "1400 1.3323465e-11 [1.0000044] [-8.861246e-06]\n",
      "1420 1.3323465e-11 [1.0000044] [-8.861246e-06]\n",
      "1440 1.3323465e-11 [1.0000044] [-8.861246e-06]\n",
      "1460 1.3323465e-11 [1.0000044] [-8.861246e-06]\n",
      "1480 1.3323465e-11 [1.0000044] [-8.861246e-06]\n",
      "1500 1.3323465e-11 [1.0000044] [-8.861246e-06]\n",
      "1520 1.3323465e-11 [1.0000044] [-8.861246e-06]\n",
      "1540 1.3323465e-11 [1.0000044] [-8.861246e-06]\n",
      "1560 1.3323465e-11 [1.0000044] [-8.861246e-06]\n",
      "1580 1.3323465e-11 [1.0000044] [-8.861246e-06]\n",
      "1600 1.3323465e-11 [1.0000044] [-8.861246e-06]\n",
      "1620 1.3323465e-11 [1.0000044] [-8.861246e-06]\n",
      "1640 1.3323465e-11 [1.0000044] [-8.861246e-06]\n",
      "1660 1.3323465e-11 [1.0000044] [-8.861246e-06]\n",
      "1680 1.3323465e-11 [1.0000044] [-8.861246e-06]\n",
      "1700 1.3323465e-11 [1.0000044] [-8.861246e-06]\n",
      "1720 1.3323465e-11 [1.0000044] [-8.861246e-06]\n",
      "1740 1.3323465e-11 [1.0000044] [-8.861246e-06]\n",
      "1760 1.3323465e-11 [1.0000044] [-8.861246e-06]\n",
      "1780 1.3323465e-11 [1.0000044] [-8.861246e-06]\n",
      "1800 1.3323465e-11 [1.0000044] [-8.861246e-06]\n",
      "1820 1.3323465e-11 [1.0000044] [-8.861246e-06]\n",
      "1840 1.3323465e-11 [1.0000044] [-8.861246e-06]\n",
      "1860 1.3323465e-11 [1.0000044] [-8.861246e-06]\n",
      "1880 1.3323465e-11 [1.0000044] [-8.861246e-06]\n",
      "1900 1.3323465e-11 [1.0000044] [-8.861246e-06]\n",
      "1920 1.3323465e-11 [1.0000044] [-8.861246e-06]\n",
      "1940 1.3323465e-11 [1.0000044] [-8.861246e-06]\n",
      "1960 1.3323465e-11 [1.0000044] [-8.861246e-06]\n",
      "1980 1.3323465e-11 [1.0000044] [-8.861246e-06]\n",
      "2000 1.3323465e-11 [1.0000044] [-8.861246e-06]\n"
     ]
    }
   ],
   "source": [
    "X = tf.placeholder(tf.float32)\n",
    "y = tf.placeholder(tf.float32)\n",
    "\n",
    "for step in range(2001) : \n",
    "    cost_val, W_val, b_val, _ = \\\n",
    "        sess.run([cost,W,b,train],\n",
    "                feed_dict = {X : [1,2,3], y : [1,2,3]})\n",
    "    if step % 20 == 0 :\n",
    "        print(step, cost_val, W_val, b_val)"
   ]
  },
  {
   "cell_type": "code",
   "execution_count": 46,
   "id": "injured-winning",
   "metadata": {},
   "outputs": [],
   "source": [
    "# 위와 같이 작성하면 값을 feed_dict로 따로 보내줄수 있음"
   ]
  },
  {
   "cell_type": "code",
   "execution_count": 47,
   "id": "impressive-municipality",
   "metadata": {},
   "outputs": [
    {
     "name": "stdout",
     "output_type": "stream",
     "text": [
      "0 1.5919558 [1.224879] [-0.5871388]\n",
      "20 0.4225041 [1.4195461] [-0.41864783]\n",
      "40 0.36895627 [1.3930154] [-0.31892848]\n",
      "60 0.3222124 [1.3672808] [-0.22600056]\n",
      "80 0.28139046 [1.3432274] [-0.13915966]\n",
      "100 0.24574034 [1.320749] [-0.0580061]\n",
      "120 0.21460684 [1.2997429] [0.01783268]\n",
      "140 0.18741776 [1.2801126] [0.08870463]\n",
      "160 0.16367331 [1.2617679] [0.15493515]\n",
      "180 0.14293715 [1.2446245] [0.21682812]\n",
      "200 0.12482806 [1.2286038] [0.27466774]\n",
      "220 0.10901322 [1.2136323] [0.32871947]\n",
      "240 0.095202185 [1.1996415] [0.37923118]\n",
      "260 0.08314071 [1.1865668] [0.4264349]\n",
      "280 0.07260748 [1.1743484] [0.47054714]\n",
      "300 0.06340863 [1.1629301] [0.5117704]\n",
      "320 0.05537526 [1.1522597] [0.55029386]\n",
      "340 0.048359573 [1.1422881] [0.5862947]\n",
      "360 0.04223278 [1.1329695] [0.61993766]\n",
      "380 0.036882244 [1.1242614] [0.6513773]\n",
      "400 0.032209516 [1.1161233] [0.6807579]\n",
      "420 0.028128833 [1.1085182] [0.70821434]\n",
      "440 0.024565134 [1.1014113] [0.73387253]\n",
      "460 0.021452913 [1.09477] [0.75785047]\n",
      "480 0.01873498 [1.0885633] [0.7802582]\n",
      "500 0.016361417 [1.0827633] [0.8011982]\n",
      "520 0.01428855 [1.0773431] [0.82076705]\n",
      "540 0.012478305 [1.0722778] [0.83905417]\n",
      "560 0.010897396 [1.0675442] [0.8561437]\n",
      "580 0.009516774 [1.0631207] [0.872114]\n",
      "600 0.008311057 [1.0589869] [0.8870384]\n",
      "620 0.007258117 [1.0551238] [0.9009854]\n",
      "640 0.0063385842 [1.0515138] [0.9140189]\n",
      "660 0.005535526 [1.04814] [0.9261989]\n",
      "680 0.0048342133 [1.0449873] [0.9375813]\n",
      "700 0.0042217593 [1.0420411] [0.94821835]\n",
      "720 0.0036868844 [1.0392877] [0.9581587]\n",
      "740 0.0032197963 [1.0367148] [0.967448]\n",
      "760 0.0028118568 [1.0343103] [0.9761289]\n",
      "780 0.0024556294 [1.0320632] [0.9842412]\n",
      "800 0.0021445176 [1.0299634] [0.9918223]\n",
      "820 0.0018728239 [1.0280011] [0.998907]\n",
      "840 0.0016355515 [1.0261673] [1.0055276]\n",
      "860 0.0014283431 [1.0244536] [1.0117145]\n",
      "880 0.0012473775 [1.0228522] [1.0174965]\n",
      "900 0.0010893501 [1.0213555] [1.0228996]\n",
      "920 0.0009513308 [1.0199568] [1.027949]\n",
      "940 0.0008308011 [1.0186498] [1.0326678]\n",
      "960 0.00072554103 [1.0174285] [1.0370775]\n",
      "980 0.00063361734 [1.0162871] [1.0411985]\n",
      "1000 0.0005533492 [1.0152203] [1.0450495]\n",
      "1020 0.00048323566 [1.0142236] [1.0486482]\n",
      "1040 0.00042201937 [1.0132921] [1.0520113]\n",
      "1060 0.00036854733 [1.0124216] [1.0551541]\n",
      "1080 0.00032185463 [1.0116081] [1.0580913]\n",
      "1100 0.0002810778 [1.0108477] [1.0608361]\n",
      "1120 0.00024546726 [1.0101373] [1.063401]\n",
      "1140 0.00021436198 [1.0094733] [1.065798]\n",
      "1160 0.00018720372 [1.0088528] [1.0680382]\n",
      "1180 0.00016349013 [1.0082732] [1.0701311]\n",
      "1200 0.0001427778 [1.0077313] [1.072087]\n",
      "1220 0.00012469113 [1.007225] [1.0739151]\n",
      "1240 0.00010889247 [1.0067519] [1.0756234]\n",
      "1260 9.509928e-05 [1.0063097] [1.0772197]\n",
      "1280 8.304871e-05 [1.0058966] [1.0787116]\n",
      "1300 7.252261e-05 [1.0055102] [1.0801064]\n",
      "1320 6.333602e-05 [1.0051494] [1.0814091]\n",
      "1340 5.5311866e-05 [1.0048121] [1.0826265]\n",
      "1360 4.830393e-05 [1.0044969] [1.0837644]\n",
      "1380 4.218348e-05 [1.0042024] [1.0848278]\n",
      "1400 3.683891e-05 [1.0039272] [1.0858214]\n",
      "1420 3.2173517e-05 [1.0036701] [1.0867499]\n",
      "1440 2.8097522e-05 [1.0034297] [1.0876175]\n",
      "1460 2.4537236e-05 [1.0032052] [1.0884283]\n",
      "1480 2.1430364e-05 [1.0029953] [1.0891861]\n",
      "1500 1.8714723e-05 [1.002799] [1.0898944]\n",
      "1520 1.634261e-05 [1.0026157] [1.0905565]\n",
      "1540 1.4271738e-05 [1.0024444] [1.091175]\n",
      "1560 1.2463781e-05 [1.0022843] [1.0917529]\n",
      "1580 1.0884198e-05 [1.0021347] [1.092293]\n",
      "1600 9.506052e-06 [1.0019948] [1.0927978]\n",
      "1620 8.301661e-06 [1.0018643] [1.0932693]\n",
      "1640 7.2494186e-06 [1.0017421] [1.0937102]\n",
      "1660 6.33107e-06 [1.0016282] [1.094122]\n",
      "1680 5.5292962e-06 [1.0015215] [1.0945069]\n",
      "1700 4.828699e-06 [1.0014218] [1.0948669]\n",
      "1720 4.2164993e-06 [1.0013286] [1.0952032]\n",
      "1740 3.6824435e-06 [1.0012417] [1.0955174]\n",
      "1760 3.215679e-06 [1.0011604] [1.0958109]\n",
      "1780 2.8084387e-06 [1.0010843] [1.0960852]\n",
      "1800 2.4525348e-06 [1.0010134] [1.0963414]\n",
      "1820 2.1419332e-06 [1.0009471] [1.096581]\n",
      "1840 1.8707973e-06 [1.0008851] [1.0968049]\n",
      "1860 1.6337756e-06 [1.0008271] [1.0970141]\n",
      "1880 1.4269008e-06 [1.0007731] [1.0972095]\n",
      "1900 1.2463286e-06 [1.0007223] [1.0973921]\n",
      "1920 1.088596e-06 [1.0006751] [1.0975628]\n",
      "1940 9.5079685e-07 [1.000631] [1.0977224]\n",
      "1960 8.3016783e-07 [1.0005896] [1.0978715]\n",
      "1980 7.249509e-07 [1.0005509] [1.098011]\n",
      "2000 6.333613e-07 [1.0005149] [1.0981411]\n"
     ]
    }
   ],
   "source": [
    "# example3 \n",
    "\n",
    "W = tf.Variable(tf.random_normal([1]), name='weight')\n",
    "b = tf.Variable(tf.random_normal([1]), name='bias')\n",
    "X = tf.placeholder(tf.float32, shape=[None])\n",
    "Y = tf.placeholder(tf.float32, shape=[None])\n",
    "\n",
    "hypothesis = X*W+b\n",
    "cost = tf.reduce_mean(tf.square(hypothesis-Y))\n",
    "\n",
    "optimizer = tf.train.GradientDescentOptimizer(learning_rate=0.01)\n",
    "train=optimizer.minimize(cost)\n",
    "\n",
    "sess = tf.Session()\n",
    "sess.run(tf.global_variables_initializer())\n",
    "\n",
    "for step in range(2001):\n",
    "    cost_val, W_val, b_val, _ = sess.run([cost,W,b,train],\n",
    "                                         feed_dict={X:[1,2,3,4,5],\n",
    "                                                   Y : [2.1, 3.1, 4.1, 5.1, 6.1]})\n",
    "    if step % 20 == 0:\n",
    "        print(step,cost_val, W_val, b_val)"
   ]
  },
  {
   "cell_type": "code",
   "execution_count": 48,
   "id": "appreciated-midnight",
   "metadata": {},
   "outputs": [
    {
     "name": "stdout",
     "output_type": "stream",
     "text": [
      "[6.1007156]\n",
      "[3.5994282]\n",
      "[2.5989132 4.599943 ]\n"
     ]
    }
   ],
   "source": [
    "#Testing our model\n",
    "print(sess.run(hypothesis, feed_dict={X:[5]}))\n",
    "print(sess.run(hypothesis, feed_dict={X:[2.5]}))\n",
    "print(sess.run(hypothesis, feed_dict={X:[1.5, 3.5]}))"
   ]
  },
  {
   "cell_type": "code",
   "execution_count": null,
   "id": "acute-simple",
   "metadata": {},
   "outputs": [],
   "source": []
  }
 ],
 "metadata": {
  "kernelspec": {
   "display_name": "Python 3",
   "language": "python",
   "name": "python3"
  },
  "language_info": {
   "codemirror_mode": {
    "name": "ipython",
    "version": 3
   },
   "file_extension": ".py",
   "mimetype": "text/x-python",
   "name": "python",
   "nbconvert_exporter": "python",
   "pygments_lexer": "ipython3",
   "version": "3.7.7"
  }
 },
 "nbformat": 4,
 "nbformat_minor": 5
}
