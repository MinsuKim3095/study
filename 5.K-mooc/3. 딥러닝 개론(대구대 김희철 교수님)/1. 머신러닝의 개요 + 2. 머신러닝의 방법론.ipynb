{
 "cells": [
  {
   "cell_type": "code",
   "execution_count": 1,
   "id": "upper-sleep",
   "metadata": {},
   "outputs": [],
   "source": [
    "#컴퓨터가 경험적 데이터를 학습해서 지능적으로 동작(예측, 판단,분류,추론)할 수 있는 기능을 갖추게 하는것"
   ]
  },
  {
   "cell_type": "code",
   "execution_count": null,
   "id": "north-morrison",
   "metadata": {},
   "outputs": [],
   "source": [
    "#선형회귀, 로지스틱 회귀"
   ]
  }
 ],
 "metadata": {
  "kernelspec": {
   "display_name": "Python 3",
   "language": "python",
   "name": "python3"
  },
  "language_info": {
   "codemirror_mode": {
    "name": "ipython",
    "version": 3
   },
   "file_extension": ".py",
   "mimetype": "text/x-python",
   "name": "python",
   "nbconvert_exporter": "python",
   "pygments_lexer": "ipython3",
   "version": "3.7.7"
  }
 },
 "nbformat": 4,
 "nbformat_minor": 5
}
