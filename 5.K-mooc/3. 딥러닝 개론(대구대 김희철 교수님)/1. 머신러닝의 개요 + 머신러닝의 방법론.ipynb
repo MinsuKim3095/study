{
 "cells": [
  {
   "cell_type": "code",
   "execution_count": 1,
   "id": "upper-sleep",
   "metadata": {},
   "outputs": [],
   "source": [
    "#컴퓨터가 경험적 데이터를 학습해서 지능적으로 동작(예측, 판단,분류,추론)할 수 있는 기능을 갖추게 하는것"
   ]
  },
  {
   "cell_type": "code",
   "execution_count": 1,
   "id": "north-morrison",
   "metadata": {},
   "outputs": [],
   "source": [
    "#선형회귀, 로지스틱 회귀"
   ]
  },
  {
   "cell_type": "code",
   "execution_count": 2,
   "id": "increased-gates",
   "metadata": {},
   "outputs": [],
   "source": [
    "# 머신러닝 task, 학습모드, 기법에 대해 알아보자"
   ]
  },
  {
   "cell_type": "code",
   "execution_count": null,
   "id": "level-poultry",
   "metadata": {},
   "outputs": [],
   "source": []
  },
  {
   "cell_type": "code",
   "execution_count": 4,
   "id": "grand-bubble",
   "metadata": {},
   "outputs": [],
   "source": [
    "# 대표적으로 군집화, 분류, 상관관계 파악 등이 머신러닝의 task"
   ]
  },
  {
   "cell_type": "code",
   "execution_count": 5,
   "id": "laughing-window",
   "metadata": {},
   "outputs": [],
   "source": [
    "# 결과값없이 학습 : 비감독\n",
    "# 감독과 비감독을 섞어서 : 준감독학습"
   ]
  },
  {
   "cell_type": "code",
   "execution_count": 6,
   "id": "electrical-location",
   "metadata": {},
   "outputs": [],
   "source": [
    "#머신러닝의 기법들"
   ]
  },
  {
   "cell_type": "code",
   "execution_count": 7,
   "id": "classical-plenty",
   "metadata": {},
   "outputs": [],
   "source": [
    "#Neural Network\n",
    "# SVM (support vector machine)\n",
    "# KNegihbors, Principle Component Analysis"
   ]
  },
  {
   "cell_type": "code",
   "execution_count": 8,
   "id": "assured-haiti",
   "metadata": {},
   "outputs": [],
   "source": [
    "### 분류에 대해서 ###"
   ]
  },
  {
   "cell_type": "code",
   "execution_count": 9,
   "id": "living-bacon",
   "metadata": {},
   "outputs": [],
   "source": [
    "#classification\n",
    "#이미지 분류, 음성 인식등에도 사용되며\n",
    "# Regression을 이용하여 상관관계 분석\n",
    "#단순선형에서는 x와y가 1개이므로 단순 직선의 값을 찾는 것\n",
    "#x가 여러개, y가 1개일때, 선형결합,선형방정식이라고 함"
   ]
  },
  {
   "cell_type": "code",
   "execution_count": null,
   "id": "prospective-tutorial",
   "metadata": {},
   "outputs": [],
   "source": []
  }
 ],
 "metadata": {
  "kernelspec": {
   "display_name": "Python 3",
   "language": "python",
   "name": "python3"
  },
  "language_info": {
   "codemirror_mode": {
    "name": "ipython",
    "version": 3
   },
   "file_extension": ".py",
   "mimetype": "text/x-python",
   "name": "python",
   "nbconvert_exporter": "python",
   "pygments_lexer": "ipython3",
   "version": "3.7.7"
  }
 },
 "nbformat": 4,
 "nbformat_minor": 5
}
