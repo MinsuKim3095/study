{
 "cells": [
  {
   "cell_type": "code",
   "execution_count": 1,
   "id": "grand-forest",
   "metadata": {},
   "outputs": [],
   "source": [
    "# 인공지능에 대한 정의\n",
    "# 이해, 추론, 문제해결, 학습,상식, 일반화 등\n",
    "# 다양한 측면에서의 이해방식이 있어서 정의가 애매함"
   ]
  },
  {
   "cell_type": "code",
   "execution_count": 3,
   "id": "opening-monster",
   "metadata": {},
   "outputs": [],
   "source": [
    "# Turing test\n",
    "# Alan turing 영국의 암호학자로부터 유래"
   ]
  },
  {
   "cell_type": "code",
   "execution_count": 4,
   "id": "chicken-teacher",
   "metadata": {},
   "outputs": [],
   "source": [
    "# 인공지능을 갖춘 컴퓨터의 행동을 파악 하는것"
   ]
  },
  {
   "cell_type": "code",
   "execution_count": 5,
   "id": "rocky-helicopter",
   "metadata": {},
   "outputs": [],
   "source": [
    "# 알파고, 주식시장의 game theory 등 다양하게 사용"
   ]
  },
  {
   "cell_type": "code",
   "execution_count": 6,
   "id": "greatest-treasure",
   "metadata": {},
   "outputs": [],
   "source": [
    "# 약 인공지능과 강 인공지능"
   ]
  },
  {
   "cell_type": "code",
   "execution_count": 7,
   "id": "historical-academy",
   "metadata": {},
   "outputs": [],
   "source": [
    "# 약인공지능은 주어진 task를 어떻게 행동해야할지 프로그래밍\n",
    "# 강인공지능은 사람의 지능에 도달하거나 그걸 뛰어넘는 인공지능"
   ]
  },
  {
   "cell_type": "code",
   "execution_count": null,
   "id": "german-party",
   "metadata": {},
   "outputs": [],
   "source": []
  }
 ],
 "metadata": {
  "kernelspec": {
   "display_name": "Python 3",
   "language": "python",
   "name": "python3"
  },
  "language_info": {
   "codemirror_mode": {
    "name": "ipython",
    "version": 3
   },
   "file_extension": ".py",
   "mimetype": "text/x-python",
   "name": "python",
   "nbconvert_exporter": "python",
   "pygments_lexer": "ipython3",
   "version": "3.7.7"
  }
 },
 "nbformat": 4,
 "nbformat_minor": 5
}
