{
 "cells": [
  {
   "cell_type": "code",
   "execution_count": 1,
   "id": "victorian-transfer",
   "metadata": {},
   "outputs": [],
   "source": [
    "#케라스 창시자에게 배우는 딥러닝 - 길벗 출판사"
   ]
  },
  {
   "cell_type": "code",
   "execution_count": 2,
   "id": "challenging-ultimate",
   "metadata": {},
   "outputs": [],
   "source": [
    "# 딥러닝의 개념\n",
    "# 신경망의 수학적 구성요소\n",
    "# 신경망 시작하기\n",
    "# 머신러닝의 기본요소\n",
    "# 컴퓨터비전을 위한 딥러닝\n",
    "# 딥러닝을 위한 고급 도구\n",
    "# 생성모델을 위한 딥러닝\n",
    "# 강화학습\n",
    "# 기타주제"
   ]
  },
  {
   "cell_type": "code",
   "execution_count": 3,
   "id": "opposite-literature",
   "metadata": {},
   "outputs": [],
   "source": [
    "# 음성인식, 영상인식, 자연어처리, 추론등 여러 기능에 활용가능"
   ]
  },
  {
   "cell_type": "code",
   "execution_count": 4,
   "id": "opponent-horse",
   "metadata": {},
   "outputs": [],
   "source": [
    "# 잘 사용되는 부분도 있지만 완벽하게 구현하지못하는 부분도 많음\n",
    "# 강아지와 머핀, 헬스케어, 인종차별 발언 학습 등"
   ]
  },
  {
   "cell_type": "code",
   "execution_count": 5,
   "id": "visible-mumbai",
   "metadata": {},
   "outputs": [],
   "source": [
    "# 잘 사용되는 예로는 광고 자동 검수 시스템\n",
    "# 학습서버/분석서버로 나누어 학습 후 분석서버에서 binary로 구분"
   ]
  },
  {
   "cell_type": "code",
   "execution_count": 6,
   "id": "permanent-broad",
   "metadata": {},
   "outputs": [],
   "source": [
    "# 이미지 속의 글자를 Detection 후 Recognition"
   ]
  },
  {
   "cell_type": "code",
   "execution_count": 7,
   "id": "sporting-amber",
   "metadata": {},
   "outputs": [],
   "source": [
    "# 도시가스배관위험예측에 딥러닝기술사용예시\n",
    "# 배관 압력 정압기의 압력을 기반으로 유입,유출등의 이상변화에 대비"
   ]
  },
  {
   "cell_type": "code",
   "execution_count": null,
   "id": "satisfactory-average",
   "metadata": {},
   "outputs": [],
   "source": []
  }
 ],
 "metadata": {
  "kernelspec": {
   "display_name": "Python 3",
   "language": "python",
   "name": "python3"
  },
  "language_info": {
   "codemirror_mode": {
    "name": "ipython",
    "version": 3
   },
   "file_extension": ".py",
   "mimetype": "text/x-python",
   "name": "python",
   "nbconvert_exporter": "python",
   "pygments_lexer": "ipython3",
   "version": "3.7.7"
  }
 },
 "nbformat": 4,
 "nbformat_minor": 5
}
