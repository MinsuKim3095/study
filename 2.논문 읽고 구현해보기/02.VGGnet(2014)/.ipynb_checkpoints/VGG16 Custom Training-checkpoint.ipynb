{
 "cells": [
  {
   "cell_type": "code",
   "execution_count": 1,
   "id": "bacterial-constraint",
   "metadata": {},
   "outputs": [
    {
     "data": {
      "text/plain": [
       "[name: \"/device:CPU:0\"\n",
       " device_type: \"CPU\"\n",
       " memory_limit: 268435456\n",
       " locality {\n",
       " }\n",
       " incarnation: 9465022280076839552,\n",
       " name: \"/device:XLA_CPU:0\"\n",
       " device_type: \"XLA_CPU\"\n",
       " memory_limit: 17179869184\n",
       " locality {\n",
       " }\n",
       " incarnation: 4766504811151897815\n",
       " physical_device_desc: \"device: XLA_CPU device\",\n",
       " name: \"/device:GPU:0\"\n",
       " device_type: \"GPU\"\n",
       " memory_limit: 4985044352\n",
       " locality {\n",
       "   bus_id: 1\n",
       "   links {\n",
       "   }\n",
       " }\n",
       " incarnation: 7927909524559159333\n",
       " physical_device_desc: \"device: 0, name: GeForce GTX 1660 SUPER, pci bus id: 0000:06:00.0, compute capability: 7.5\",\n",
       " name: \"/device:XLA_GPU:0\"\n",
       " device_type: \"XLA_GPU\"\n",
       " memory_limit: 17179869184\n",
       " locality {\n",
       " }\n",
       " incarnation: 9755604872193879699\n",
       " physical_device_desc: \"device: XLA_GPU device\"]"
      ]
     },
     "execution_count": 1,
     "metadata": {},
     "output_type": "execute_result"
    }
   ],
   "source": [
    "import tensorflow as tf\n",
    "from tensorflow.python.client import device_lib\n",
    "device_lib.list_local_devices()"
   ]
  },
  {
   "cell_type": "code",
   "execution_count": 2,
   "id": "valuable-chicken",
   "metadata": {},
   "outputs": [
    {
     "data": {
      "text/plain": [
       "'2.2.0'"
      ]
     },
     "execution_count": 2,
     "metadata": {},
     "output_type": "execute_result"
    }
   ],
   "source": [
    "tf.__version__"
   ]
  },
  {
   "cell_type": "code",
   "execution_count": 3,
   "id": "imposed-frame",
   "metadata": {},
   "outputs": [],
   "source": [
    "tf.debugging.set_log_device_placement(True)"
   ]
  },
  {
   "cell_type": "code",
   "execution_count": 25,
   "id": "timely-exchange",
   "metadata": {},
   "outputs": [],
   "source": [
    "from keras.preprocessing.image import ImageDataGenerator\n",
    "from keras.preprocessing.image import load_img\n",
    "from keras.preprocessing.image import img_to_array\n",
    "from keras import optimizers, initializers, regularizers, metrics\n",
    "from keras.callbacks import ModelCheckpoint\n",
    "import os\n",
    "from glob import glob\n",
    "from PIL import Image\n",
    "import matplotlib.pyplot as plt\n",
    "import numpy as np\n",
    "from numpy import expand_dims\n",
    "from keras import models\n",
    "from keras import layers\n",
    "from tensorflow.python.keras.layers import Conv2D, MaxPooling2D, Flatten\n",
    "from tensorflow.python.keras.layers import Dense, Dropout, Input\n",
    "from tensorflow.python.keras.models import Model\n",
    "from tensorflow.keras.layers import Input, Dense\n",
    "\n",
    "model = models.Sequential()\n",
    "#1층\n",
    "model.add(Conv2D(input_shape=(224,224,3), filters=64, kernel_size=(3,3), strides=(1,1), padding='same', activation='relu'))\n",
    "#2층\n",
    "model.add(Conv2D(input_shape=(224,224,64),filters=64, kernel_size=(3,3), strides=(1,1), padding='same', activation='relu'))\n",
    "#Max Pooling\n",
    "model.add(MaxPooling2D(pool_size =(2,2), strides=(2,2)))\n",
    "#3층\n",
    "model.add(Conv2D(input_shape=(112,112,64),filters=128, kernel_size=(3,3), strides=(1,1), padding ='same', activation='relu'))\n",
    "#4층\n",
    "model.add(Conv2D(input_shape=(112,112,128),filters=128, kernel_size=(3,3), strides=(1,1), padding='same', activation='relu'))\n",
    "#Max Pooling\n",
    "model.add(MaxPooling2D(pool_size =(2,2), strides=(2,2)))\n",
    "#5층\n",
    "model.add(Conv2D(input_shape=(56,56,128), filters=256, kernel_size=(3,3), strides=(1,1), padding='same', activation='relu'))\n",
    "#6층\n",
    "model.add(Conv2D(input_shape=(56,56,256), filters=256, kernel_size=(3,3), strides=(1,1), padding='same', activation='relu'))\n",
    "#7층\n",
    "model.add(Conv2D(input_shape=(56,56,256), filters=256, kernel_size=(3,3), strides=(1,1), padding='same', activation='relu'))\n",
    "#Max Pooling\n",
    "model.add(MaxPooling2D(pool_size=(2,2), strides=(2,2)))\n",
    "#8층\n",
    "model.add(Conv2D(input_shape=(28,28,256), filters=512, kernel_size=(3,3), strides=(1,1), padding='same', activation='relu'))\n",
    "#9층\n",
    "model.add(Conv2D(input_shape=(28,28,512), filters=512, kernel_size=(3,3), strides=(1,1), padding='same', activation='relu'))\n",
    "#10층\n",
    "model.add(Conv2D(input_shape=(28,28,512), filters=512, kernel_size=(3,3), strides=(1,1), padding='same', activation='relu'))\n",
    "#Max Pooling\n",
    "model.add(MaxPooling2D(pool_size=(2,2), strides=(2,2)))\n",
    "#11층\n",
    "model.add(Conv2D(input_shape=(14,14,512), filters=512, kernel_size=(3,3), strides=(1,1), padding='same', activation='relu'))\n",
    "#12층\n",
    "model.add(Conv2D(input_shape=(14,14,512), filters=512, kernel_size=(3,3), strides=(1,1), padding='same', activation='relu'))\n",
    "#13층\n",
    "model.add(Conv2D(input_shape=(14,14,512), filters=512, kernel_size=(3,3), strides=(1,1), padding='same', activation='relu'))\n",
    "#Max Pooling\n",
    "model.add(MaxPooling2D(pool_size=(2,2), strides=(2,2)))\n",
    "#14층 (fc1)\n",
    "model.add(Flatten())\n",
    "model.add(Dense(4096,activation='relu'))\n",
    "#15층 (fc2)\n",
    "model.add(Dense(4096,activation='relu'))\n",
    "model.add(Dense(2048,activation='relu'))\n",
    "model.add(Dense(1024,activation='relu'))\n",
    "model.add(Dense(512,activation='relu'))\n",
    "model.add(Dense(1,activation='sigmoid'))"
   ]
  },
  {
   "cell_type": "code",
   "execution_count": 5,
   "id": "incoming-employee",
   "metadata": {},
   "outputs": [
    {
     "name": "stdout",
     "output_type": "stream",
     "text": [
      "Model: \"sequential\"\n",
      "_________________________________________________________________\n",
      "Layer (type)                 Output Shape              Param #   \n",
      "=================================================================\n",
      "conv2d (Conv2D)              (None, 224, 224, 64)      1792      \n",
      "_________________________________________________________________\n",
      "conv2d_1 (Conv2D)            (None, 224, 224, 64)      36928     \n",
      "_________________________________________________________________\n",
      "max_pooling2d (MaxPooling2D) (None, 112, 112, 64)      0         \n",
      "_________________________________________________________________\n",
      "conv2d_2 (Conv2D)            (None, 112, 112, 128)     73856     \n",
      "_________________________________________________________________\n",
      "conv2d_3 (Conv2D)            (None, 112, 112, 128)     147584    \n",
      "_________________________________________________________________\n",
      "max_pooling2d_1 (MaxPooling2 (None, 56, 56, 128)       0         \n",
      "_________________________________________________________________\n",
      "conv2d_4 (Conv2D)            (None, 56, 56, 256)       295168    \n",
      "_________________________________________________________________\n",
      "conv2d_5 (Conv2D)            (None, 56, 56, 256)       590080    \n",
      "_________________________________________________________________\n",
      "conv2d_6 (Conv2D)            (None, 56, 56, 256)       590080    \n",
      "_________________________________________________________________\n",
      "max_pooling2d_2 (MaxPooling2 (None, 28, 28, 256)       0         \n",
      "_________________________________________________________________\n",
      "conv2d_7 (Conv2D)            (None, 28, 28, 512)       1180160   \n",
      "_________________________________________________________________\n",
      "conv2d_8 (Conv2D)            (None, 28, 28, 512)       2359808   \n",
      "_________________________________________________________________\n",
      "conv2d_9 (Conv2D)            (None, 28, 28, 512)       2359808   \n",
      "_________________________________________________________________\n",
      "max_pooling2d_3 (MaxPooling2 (None, 14, 14, 512)       0         \n",
      "_________________________________________________________________\n",
      "conv2d_10 (Conv2D)           (None, 14, 14, 512)       2359808   \n",
      "_________________________________________________________________\n",
      "conv2d_11 (Conv2D)           (None, 14, 14, 512)       2359808   \n",
      "_________________________________________________________________\n",
      "conv2d_12 (Conv2D)           (None, 14, 14, 512)       2359808   \n",
      "_________________________________________________________________\n",
      "max_pooling2d_4 (MaxPooling2 (None, 7, 7, 512)         0         \n",
      "_________________________________________________________________\n",
      "flatten (Flatten)            (None, 25088)             0         \n",
      "_________________________________________________________________\n",
      "dense (Dense)                (None, 4096)              102764544 \n",
      "_________________________________________________________________\n",
      "dense_1 (Dense)              (None, 4096)              16781312  \n",
      "_________________________________________________________________\n",
      "dense_2 (Dense)              (None, 2048)              8390656   \n",
      "_________________________________________________________________\n",
      "dense_3 (Dense)              (None, 1024)              2098176   \n",
      "_________________________________________________________________\n",
      "dense_4 (Dense)              (None, 512)               524800    \n",
      "_________________________________________________________________\n",
      "dense_5 (Dense)              (None, 1)                 513       \n",
      "=================================================================\n",
      "Total params: 145,274,689\n",
      "Trainable params: 145,274,689\n",
      "Non-trainable params: 0\n",
      "_________________________________________________________________\n"
     ]
    }
   ],
   "source": [
    "model.summary()"
   ]
  },
  {
   "cell_type": "code",
   "execution_count": 5,
   "id": "adopted-reset",
   "metadata": {},
   "outputs": [],
   "source": [
    "###vgg16으로 custom data training해보기###\n",
    "# https://aihub.or.kr/aidata/33\n",
    "# 위해물품 엑스레이 이미지 dataset"
   ]
  },
  {
   "cell_type": "code",
   "execution_count": 6,
   "id": "tamil-bowling",
   "metadata": {},
   "outputs": [],
   "source": [
    "# dataset이 용량이 너무 커서 34개의 카테고리 중 1개인, 술에 관해예측해보기\n",
    "# 4096에서 34로 바로 연결하지않고, 2048,1024,512개의 unit을 거치는 Fully Connected Layer로 연결\n",
    "# feature 정보의 손실을 줄이기 위함"
   ]
  },
  {
   "cell_type": "code",
   "execution_count": 7,
   "id": "knowing-treasurer",
   "metadata": {},
   "outputs": [],
   "source": [
    "## Labelimg를 통해 labeling을 했고, 이를 csv로 변환한후, tfrecord로 다시 변환한다."
   ]
  },
  {
   "cell_type": "code",
   "execution_count": 38,
   "id": "acoustic-contrast",
   "metadata": {},
   "outputs": [
    {
     "name": "stdout",
     "output_type": "stream",
     "text": [
      "Successfully converted xml to csv.\n",
      "Successfully converted xml to csv.\n"
     ]
    }
   ],
   "source": [
    "import os\n",
    "import glob\n",
    "import pandas as pd\n",
    "import xml.etree.ElementTree as ET\n",
    "\n",
    "\n",
    "def xml_to_csv(path):\n",
    "    xml_list = []\n",
    "    for xml_file in glob.glob('C:/Users/user/Desktop/github/study/2.논문 읽고 구현해보기/02.VGGnet(2014)/Alcohol/Alcohol/Single_Default' + '/*.xml'):\n",
    "        tree = ET.parse(xml_file)\n",
    "        root = tree.getroot()\n",
    "        for member in root.findall('object'):\n",
    "            value = (root.find('filename').text,\n",
    "                     int(root.find('size')[0].text),\n",
    "                     int(root.find('size')[1].text),\n",
    "                     member[0].text,\n",
    "                     int(member[4][0].text),\n",
    "                     int(member[4][1].text),\n",
    "                     int(member[4][2].text),\n",
    "                     int(member[4][3].text)\n",
    "                     )\n",
    "            xml_list.append(value)\n",
    "    column_name = ['filename', 'width', 'height', 'class', 'xmin', 'ymin', 'xmax', 'ymax']\n",
    "    xml_df = pd.DataFrame(xml_list, columns=column_name)\n",
    "    return xml_df\n",
    "\n",
    "\n",
    "def main():\n",
    "    for directory in ['train','test']:\n",
    "        image_path = os.path.join(os.getcwd(), 'images/{}'.format(directory))\n",
    "        xml_df = xml_to_csv(image_path)\n",
    "        xml_df.to_csv('data/{}_labels.csv'.format(directory), index=None)\n",
    "        print('Successfully converted xml to csv.')\n",
    "\n",
    "\n",
    "main()"
   ]
  },
  {
   "cell_type": "code",
   "execution_count": 66,
   "id": "viral-titanium",
   "metadata": {},
   "outputs": [],
   "source": [
    "#labelimg로 xray상의 alcohol에 라벨링\n",
    "#train = 125개 ,test = 335개\n",
    "train_dir = 'C:/Users/user/Desktop/data/Alcohol/Alcohol/vgg16_custom/train'\n",
    "test_dir = 'C:/Users/user/Desktop/data/Alcohol/Alcohol/vgg16_custom/test'\n",
    "\n",
    "IM_WIDTH = 224\n",
    "IM_HEIGHT = 224"
   ]
  },
  {
   "cell_type": "code",
   "execution_count": 67,
   "id": "advanced-portrait",
   "metadata": {},
   "outputs": [],
   "source": [
    "train_datagen = ImageDataGenerator(\n",
    "      rescale=1./255,\n",
    "      rotation_range=180, # 회전 쵀대 180도\n",
    "      width_shift_range=0.2, # 좌우 이동 최대 이미지 가로사이즈 20%\n",
    "      height_shift_range=0.2, # 상하 이동 최대 이미지  세로사이즈 20%\n",
    "      horizontal_flip=True, # 좌우 반전 실행\n",
    "      vertical_flip=True # 상하 반전 실행 \n",
    "      )"
   ]
  },
  {
   "cell_type": "code",
   "execution_count": 68,
   "id": "looking-execution",
   "metadata": {},
   "outputs": [
    {
     "name": "stdout",
     "output_type": "stream",
     "text": [
      "Found 109 images belonging to 1 classes.\n"
     ]
    }
   ],
   "source": [
    "#train_datagen.flow_from_directory() : 디렉토리에서 이미지를 읽을 객체를 생성\n",
    "#train_datagen.flow_from_directory(\n",
    "#        이미지 경로,       : TRAIN_DIR (/dental_image/train/)\n",
    "#        target_size=(이미지가로, 이미지세로), IM_WIDTH (220) x IM_HEIGHT(220)\n",
    "#        batch_size=한번에 리턴할 이미지의 개수, 16개\n",
    "#        class_mode=분류방법, categorical (다중분류) binary(0 1 로 이중 분류)\n",
    "#        shuffle=이미지를 섞을 여부\n",
    "#)\n",
    "        \n",
    "train_generator = train_datagen.flow_from_directory(\n",
    "        train_dir,\n",
    "        target_size=(IM_WIDTH, IM_HEIGHT),\n",
    "        #batch_size=16,\n",
    "        class_mode='binary',\n",
    "        shuffle=True)"
   ]
  },
  {
   "cell_type": "code",
   "execution_count": 43,
   "id": "magnetic-motorcycle",
   "metadata": {},
   "outputs": [
    {
     "name": "stdout",
     "output_type": "stream",
     "text": [
      "Found 16 images belonging to 1 classes.\n"
     ]
    }
   ],
   "source": [
    "# 검증에 사용될 이미지를 읽을 객체\n",
    "#테스트에서는 이미지를 변형 할 필요가 없으므로\n",
    "#ImageDataGenerator에 값을 주지 않음\n",
    "#이미지가 변형되지 않고 같은 이미지 리턴\n",
    "test_datagen = ImageDataGenerator( \n",
    "     rescale=1./255  \n",
    ")\n",
    "#test_datagen.flow_from_directory() : 디렉토리에서 이미지를 읽을 객체를 생성\n",
    "#test_datagen.flow_from_directory(\n",
    "#        이미지 경로,       : TEST_DIR (/dental_image/test/)\n",
    "#        target_size=(이미지가로, 이미지세로), IM_WIDTH (220) x IM_HEIGHT(220)\n",
    "#        batch_size=한번에 리턴할 이미지의 개수\n",
    "#        class_mode=분류방법, categorical (다중분류) binary(0 1 로 이중 분류)\n",
    "#        shuffle=이미지를 섞을 여부 False 섞지 않음\n",
    "#)\n",
    "        \n",
    "test_generator = test_datagen.flow_from_directory(\n",
    "        test_dir,\n",
    "        target_size=(IM_WIDTH, IM_HEIGHT),\n",
    "        #batch_size=16,\n",
    "        class_mode='binary',\n",
    "        shuffle=False)"
   ]
  },
  {
   "cell_type": "code",
   "execution_count": 44,
   "id": "married-hungary",
   "metadata": {},
   "outputs": [
    {
     "data": {
      "text/plain": [
       "109"
      ]
     },
     "execution_count": 44,
     "metadata": {},
     "output_type": "execute_result"
    }
   ],
   "source": [
    "train_generator.n"
   ]
  },
  {
   "cell_type": "code",
   "execution_count": 45,
   "id": "obvious-decision",
   "metadata": {},
   "outputs": [
    {
     "data": {
      "text/plain": [
       "16"
      ]
     },
     "execution_count": 45,
     "metadata": {},
     "output_type": "execute_result"
    }
   ],
   "source": [
    "test_generator.n"
   ]
  },
  {
   "cell_type": "code",
   "execution_count": 46,
   "id": "sophisticated-novelty",
   "metadata": {},
   "outputs": [
    {
     "name": "stdout",
     "output_type": "stream",
     "text": [
      "16\n",
      "16\n"
     ]
    }
   ],
   "source": [
    "print(train_generator.batch_size)\n",
    "print(test_generator.batch_size)"
   ]
  },
  {
   "cell_type": "code",
   "execution_count": 47,
   "id": "harmful-thomson",
   "metadata": {},
   "outputs": [
    {
     "data": {
      "text/plain": [
       "array([[[[0.9839571 , 0.9843138 , 0.9843138 ],\n",
       "         [0.9843138 , 0.9843138 , 0.98324704],\n",
       "         [0.9843138 , 0.9843138 , 0.9818236 ],\n",
       "         ...,\n",
       "         [0.98234427, 0.984101  , 0.9803922 ],\n",
       "         [0.98231745, 0.9833002 , 0.98238325],\n",
       "         [0.9839927 , 0.9822691 , 0.9825902 ]],\n",
       "\n",
       "        [[0.98048145, 0.98422456, 0.9843138 ],\n",
       "         [0.9817264 , 0.9843138 , 0.9843138 ],\n",
       "         [0.9831499 , 0.9843138 , 0.9843138 ],\n",
       "         ...,\n",
       "         [0.9804392 , 0.9843138 , 0.9803922 ],\n",
       "         [0.98189753, 0.9824046 , 0.9823014 ],\n",
       "         [0.9833545 , 0.98069763, 0.9813515 ]],\n",
       "\n",
       "        [[0.98413557, 0.98057044, 0.9843138 ],\n",
       "         [0.9827121 , 0.9819939 , 0.9843138 ],\n",
       "         [0.9812887 , 0.98341733, 0.9843138 ],\n",
       "         ...,\n",
       "         [0.98157614, 0.9814289 , 0.9832771 ],\n",
       "         [0.98373884, 0.98319393, 0.982087  ],\n",
       "         [0.98107284, 0.9836711 , 0.9836395 ]],\n",
       "\n",
       "        ...,\n",
       "\n",
       "        [[0.9837955 , 0.9837955 , 0.9843138 ],\n",
       "         [0.9843138 , 0.9843138 , 0.9843138 ],\n",
       "         [0.9843138 , 0.9814454 , 0.9843138 ],\n",
       "         ...,\n",
       "         [0.8196079 , 0.8196079 , 0.8313726 ],\n",
       "         [0.8196079 , 0.8196079 , 0.8313726 ],\n",
       "         [0.8196079 , 0.8196079 , 0.8313726 ]],\n",
       "\n",
       "        [[0.9843138 , 0.9843138 , 0.9843138 ],\n",
       "         [0.9843138 , 0.983676  , 0.9843138 ],\n",
       "         [0.9843138 , 0.9807625 , 0.9843138 ],\n",
       "         ...,\n",
       "         [0.8196079 , 0.8196079 , 0.8313726 ],\n",
       "         [0.8196079 , 0.8196079 , 0.8313726 ],\n",
       "         [0.8196079 , 0.8196079 , 0.8313726 ]],\n",
       "\n",
       "        [[0.9843138 , 0.9843138 , 0.9843138 ],\n",
       "         [0.9843138 , 0.9822526 , 0.9843138 ],\n",
       "         [0.9843138 , 0.982186  , 0.9843138 ],\n",
       "         ...,\n",
       "         [0.8196079 , 0.8196079 , 0.8313726 ],\n",
       "         [0.8196079 , 0.8196079 , 0.8313726 ],\n",
       "         [0.8196079 , 0.8196079 , 0.8313726 ]]],\n",
       "\n",
       "\n",
       "       [[[0.8196079 , 0.8196079 , 0.8313726 ],\n",
       "         [0.8196079 , 0.8196079 , 0.8313726 ],\n",
       "         [0.8196079 , 0.8196079 , 0.8313726 ],\n",
       "         ...,\n",
       "         [0.9814649 , 0.98049974, 0.9804291 ],\n",
       "         [0.9814328 , 0.98058   , 0.9832165 ],\n",
       "         [0.9811368 , 0.9823537 , 0.98113877]],\n",
       "\n",
       "        [[0.82048297, 0.8196079 , 0.8313726 ],\n",
       "         [0.8196079 , 0.8196079 , 0.8313726 ],\n",
       "         [0.8196079 , 0.8196079 , 0.8313726 ],\n",
       "         ...,\n",
       "         [0.9818704 , 0.98321164, 0.9822577 ],\n",
       "         [0.98246765, 0.9838688 , 0.98223835],\n",
       "         [0.9833237 , 0.9843138 , 0.98075   ]],\n",
       "\n",
       "        [[0.8233506 , 0.8196079 , 0.8313726 ],\n",
       "         [0.8206757 , 0.8196079 , 0.8313726 ],\n",
       "         [0.8196079 , 0.8196079 , 0.8313726 ],\n",
       "         ...,\n",
       "         [0.98245114, 0.9838277 , 0.9835022 ],\n",
       "         [0.98269695, 0.9843138 , 0.98406726],\n",
       "         [0.9833303 , 0.9843138 , 0.9808431 ]],\n",
       "\n",
       "        ...,\n",
       "\n",
       "        [[0.98361117, 0.9803922 , 0.9803922 ],\n",
       "         [0.9807435 , 0.9803922 , 0.9803922 ],\n",
       "         [0.98290855, 0.98290855, 0.9803922 ],\n",
       "         ...,\n",
       "         [0.9843138 , 0.98294294, 0.9803922 ],\n",
       "         [0.9843138 , 0.98300964, 0.9803922 ],\n",
       "         [0.98425627, 0.9803922 , 0.98044974]],\n",
       "\n",
       "        [[0.9809362 , 0.9803922 , 0.9803922 ],\n",
       "         [0.98271585, 0.98271585, 0.9803922 ],\n",
       "         [0.9830441 , 0.9830441 , 0.9816619 ],\n",
       "         ...,\n",
       "         [0.9843138 , 0.98070914, 0.98070914],\n",
       "         [0.9843138 , 0.98275024, 0.9803922 ],\n",
       "         [0.9843138 , 0.98320234, 0.9803922 ]],\n",
       "\n",
       "        [[0.9825232 , 0.9825232 , 0.9803922 ],\n",
       "         [0.98323673, 0.98323673, 0.9814693 ],\n",
       "         [0.9804153 , 0.9804153 , 0.98429066],\n",
       "         ...,\n",
       "         [0.9843138 , 0.9835768 , 0.9835768 ],\n",
       "         [0.9843138 , 0.9809018 , 0.9809018 ],\n",
       "         [0.9843138 , 0.9825576 , 0.9803922 ]]],\n",
       "\n",
       "\n",
       "       [[[0.983371  , 0.9843138 , 0.9803922 ],\n",
       "         [0.9816673 , 0.9843138 , 0.9830387 ],\n",
       "         [0.9803922 , 0.9843138 , 0.9843138 ],\n",
       "         ...,\n",
       "         [0.9827145 , 0.98206645, 0.982121  ],\n",
       "         [0.98414654, 0.9812117 , 0.98427826],\n",
       "         [0.9809273 , 0.9839004 , 0.9815759 ]],\n",
       "\n",
       "        [[0.98179126, 0.9843138 , 0.9803922 ],\n",
       "         [0.9832471 , 0.9843138 , 0.9814589 ],\n",
       "         [0.9803922 , 0.9843138 , 0.9843138 ],\n",
       "         ...,\n",
       "         [0.98267543, 0.9843138 , 0.9825194 ],\n",
       "         [0.9838501 , 0.9837573 , 0.98141235],\n",
       "         [0.98276496, 0.98375404, 0.98219883]],\n",
       "\n",
       "        [[0.98057306, 0.98413295, 0.98057306],\n",
       "         [0.98380065, 0.9843138 , 0.9803922 ],\n",
       "         [0.9812376 , 0.9843138 , 0.9834684 ],\n",
       "         ...,\n",
       "         [0.98354936, 0.9843138 , 0.98265785],\n",
       "         [0.9843138 , 0.98394746, 0.9803922 ],\n",
       "         [0.98409957, 0.9803922 , 0.9806059 ]],\n",
       "\n",
       "        ...,\n",
       "\n",
       "        [[0.9803922 , 0.9843138 , 0.9817079 ],\n",
       "         [0.9806563 , 0.9843138 , 0.9803922 ],\n",
       "         [0.9822362 , 0.9843138 , 0.9803922 ],\n",
       "         ...,\n",
       "         [0.8196079 , 0.8196079 , 0.8313726 ],\n",
       "         [0.8196079 , 0.8196079 , 0.8313726 ],\n",
       "         [0.8196079 , 0.8196079 , 0.8313726 ]],\n",
       "\n",
       "        [[0.98266584, 0.9843138 , 0.9803922 ],\n",
       "         [0.9842456 , 0.9843138 , 0.9803922 ],\n",
       "         [0.9843138 , 0.98280215, 0.98190385],\n",
       "         ...,\n",
       "         [0.8196079 , 0.8196079 , 0.8282314 ],\n",
       "         [0.8196079 , 0.8196079 , 0.8313726 ],\n",
       "         [0.8196079 , 0.8196079 , 0.8313726 ]],\n",
       "\n",
       "        [[0.9843138 , 0.9823725 , 0.9823335 ],\n",
       "         [0.9843138 , 0.98079264, 0.98391336],\n",
       "         [0.98313445, 0.98157156, 0.98313445],\n",
       "         ...,\n",
       "         [0.8196079 , 0.8196079 , 0.82507175],\n",
       "         [0.8196079 , 0.8196079 , 0.8313726 ],\n",
       "         [0.8196079 , 0.8196079 , 0.8313726 ]]],\n",
       "\n",
       "\n",
       "       ...,\n",
       "\n",
       "\n",
       "       [[[0.9804501 , 0.9842559 , 0.9842559 ],\n",
       "         [0.9803922 , 0.9805051 , 0.9805051 ],\n",
       "         [0.9803922 , 0.9803922 , 0.9841458 ],\n",
       "         ...,\n",
       "         [0.98235434, 0.98235166, 0.98235166],\n",
       "         [0.98300916, 0.9816968 , 0.9816968 ],\n",
       "         [0.9836641 , 0.9810419 , 0.9810419 ]],\n",
       "\n",
       "        [[0.98110497, 0.98360103, 0.98360103],\n",
       "         [0.9803922 , 0.98116   , 0.98116   ],\n",
       "         [0.9803922 , 0.9803922 , 0.98349094],\n",
       "         ...,\n",
       "         [0.9843138 , 0.9803922 , 0.98229927],\n",
       "         [0.9843138 , 0.9803922 , 0.98295414],\n",
       "         [0.9843138 , 0.9803922 , 0.983609  ]],\n",
       "\n",
       "        [[0.98175985, 0.98294616, 0.98294616],\n",
       "         [0.9803922 , 0.98181486, 0.98181486],\n",
       "         [0.9803922 , 0.9803922 , 0.982836  ],\n",
       "         ...,\n",
       "         [0.9843138 , 0.9822442 , 0.9843138 ],\n",
       "         [0.9843138 , 0.98289907, 0.9843138 ],\n",
       "         [0.9843138 , 0.98355395, 0.9843138 ]],\n",
       "\n",
       "        ...,\n",
       "\n",
       "        [[0.8196079 , 0.8196079 , 0.8235295 ],\n",
       "         [0.8196079 , 0.8196079 , 0.8235295 ],\n",
       "         [0.8196079 , 0.8196079 , 0.8235295 ],\n",
       "         ...,\n",
       "         [0.9843138 , 0.9843138 , 0.9804869 ],\n",
       "         [0.9843138 , 0.9843138 , 0.9803922 ],\n",
       "         [0.9843138 , 0.9843138 , 0.9803922 ]],\n",
       "\n",
       "        [[0.8196079 , 0.8196079 , 0.8272698 ],\n",
       "         [0.8196079 , 0.8196079 , 0.82857955],\n",
       "         [0.8196079 , 0.8196079 , 0.8298893 ],\n",
       "         ...,\n",
       "         [0.9843138 , 0.9843138 , 0.9811418 ],\n",
       "         [0.9843138 , 0.9843138 , 0.9803922 ],\n",
       "         [0.9843138 , 0.9843138 , 0.9803922 ]],\n",
       "\n",
       "        [[0.8196079 , 0.8196079 , 0.8313726 ],\n",
       "         [0.8196079 , 0.8196079 , 0.8313726 ],\n",
       "         [0.8196079 , 0.8196079 , 0.8313726 ],\n",
       "         ...,\n",
       "         [0.9843138 , 0.9843138 , 0.9817967 ],\n",
       "         [0.9843138 , 0.9843138 , 0.9803922 ],\n",
       "         [0.9843138 , 0.9843138 , 0.9803922 ]]],\n",
       "\n",
       "\n",
       "       [[[0.8196079 , 0.8196079 , 0.8313726 ],\n",
       "         [0.8196079 , 0.8196079 , 0.8313726 ],\n",
       "         [0.8196079 , 0.8196079 , 0.8313726 ],\n",
       "         ...,\n",
       "         [0.8196079 , 0.8196079 , 0.8313726 ],\n",
       "         [0.8196079 , 0.8196079 , 0.8313726 ],\n",
       "         [0.8196079 , 0.8196079 , 0.8265358 ]],\n",
       "\n",
       "        [[0.8196079 , 0.8196079 , 0.8313726 ],\n",
       "         [0.8196079 , 0.8196079 , 0.8313726 ],\n",
       "         [0.8196079 , 0.8196079 , 0.8313726 ],\n",
       "         ...,\n",
       "         [0.8196079 , 0.8196079 , 0.8313726 ],\n",
       "         [0.8196079 , 0.8196079 , 0.8313726 ],\n",
       "         [0.8196079 , 0.8196079 , 0.8256767 ]],\n",
       "\n",
       "        [[0.8196079 , 0.8196079 , 0.8313726 ],\n",
       "         [0.8196079 , 0.8196079 , 0.8313726 ],\n",
       "         [0.8196079 , 0.8196079 , 0.8313726 ],\n",
       "         ...,\n",
       "         [0.8196079 , 0.8196079 , 0.8313726 ],\n",
       "         [0.8196079 , 0.8196079 , 0.8313726 ],\n",
       "         [0.8196079 , 0.8196079 , 0.8248176 ]],\n",
       "\n",
       "        ...,\n",
       "\n",
       "        [[0.9843138 , 0.9843138 , 0.9843138 ],\n",
       "         [0.9843138 , 0.9843138 , 0.98397183],\n",
       "         [0.9843138 , 0.9843138 , 0.9819354 ],\n",
       "         ...,\n",
       "         [0.9819769 , 0.982912  , 0.9840844 ],\n",
       "         [0.9813644 , 0.98089254, 0.98105747],\n",
       "         [0.9804875 , 0.98083955, 0.9803922 ]],\n",
       "\n",
       "        [[0.9843138 , 0.9821212 , 0.9821212 ],\n",
       "         [0.98383826, 0.9830264 , 0.9830264 ],\n",
       "         [0.98333204, 0.9843138 , 0.98327965],\n",
       "         ...,\n",
       "         [0.98287266, 0.9804667 , 0.9841762 ],\n",
       "         [0.98425674, 0.9812838 , 0.98062783],\n",
       "         [0.9811362 , 0.9836041 , 0.980877  ]],\n",
       "\n",
       "        [[0.9821449 , 0.9825611 , 0.9825611 ],\n",
       "         [0.9824065 , 0.9829592 , 0.9829592 ],\n",
       "         [0.982188  , 0.9838249 , 0.98333895],\n",
       "         ...,\n",
       "         [0.9806097 , 0.9806097 , 0.9828169 ],\n",
       "         [0.9843138 , 0.9841199 , 0.9805404 ],\n",
       "         [0.9841435 , 0.980541  , 0.98383987]]],\n",
       "\n",
       "\n",
       "       [[[0.9843138 , 0.9816838 , 0.9815093 ],\n",
       "         [0.98352313, 0.98312664, 0.98326486],\n",
       "         [0.98343915, 0.9843138 , 0.98309785],\n",
       "         ...,\n",
       "         [0.8196079 , 0.8196079 , 0.8313726 ],\n",
       "         [0.8196079 , 0.8196079 , 0.8313726 ],\n",
       "         [0.8196079 , 0.8196079 , 0.8313726 ]],\n",
       "\n",
       "        [[0.9816299 , 0.9839506 , 0.9830761 ],\n",
       "         [0.982268  , 0.9843138 , 0.9835998 ],\n",
       "         [0.98065984, 0.9838273 , 0.9838273 ],\n",
       "         ...,\n",
       "         [0.8196079 , 0.8196079 , 0.8313726 ],\n",
       "         [0.8196079 , 0.8196079 , 0.8313726 ],\n",
       "         [0.8196079 , 0.8196079 , 0.8313726 ]],\n",
       "\n",
       "        [[0.9828341 , 0.9841924 , 0.9817505 ],\n",
       "         [0.9841323 , 0.9828402 , 0.9827153 ],\n",
       "         [0.9813837 , 0.9807501 , 0.9813147 ],\n",
       "         ...,\n",
       "         [0.8196079 , 0.8196079 , 0.8313726 ],\n",
       "         [0.8196079 , 0.8196079 , 0.8313726 ],\n",
       "         [0.8196079 , 0.8196079 , 0.8313726 ]],\n",
       "\n",
       "        ...,\n",
       "\n",
       "        [[0.9804428 , 0.9812939 , 0.9840563 ],\n",
       "         [0.98354906, 0.9827725 , 0.98406553],\n",
       "         [0.9843138 , 0.9838086 , 0.9825811 ],\n",
       "         ...,\n",
       "         [0.82175   , 0.8196079 , 0.8313726 ],\n",
       "         [0.82078516, 0.8196079 , 0.8313726 ],\n",
       "         [0.8198203 , 0.8196079 , 0.8313726 ]],\n",
       "\n",
       "        [[0.98363453, 0.9807129 , 0.98402816],\n",
       "         [0.9819148 , 0.9841848 , 0.9819148 ],\n",
       "         [0.9842659 , 0.98275065, 0.9843138 ],\n",
       "         ...,\n",
       "         [0.8215079 , 0.82162946, 0.8313726 ],\n",
       "         [0.82247275, 0.8206646 , 0.8313726 ],\n",
       "         [0.82343763, 0.81969976, 0.8313726 ]],\n",
       "\n",
       "        [[0.98186696, 0.9839446 , 0.9841337 ],\n",
       "         [0.9832495 , 0.9831488 , 0.9825343 ],\n",
       "         [0.9843138 , 0.9803922 , 0.9828712 ],\n",
       "         ...,\n",
       "         [0.8196079 , 0.82162845, 0.82757056],\n",
       "         [0.8196079 , 0.8225933 , 0.8295003 ],\n",
       "         [0.81963664, 0.82350075, 0.8313726 ]]]], dtype=float32)"
      ]
     },
     "execution_count": 47,
     "metadata": {},
     "output_type": "execute_result"
    }
   ],
   "source": [
    "img, label = train_generator.next()\n",
    "img"
   ]
  },
  {
   "cell_type": "code",
   "execution_count": 48,
   "id": "healthy-bundle",
   "metadata": {},
   "outputs": [
    {
     "data": {
      "text/plain": [
       "(16, 224, 224, 3)"
      ]
     },
     "execution_count": 48,
     "metadata": {},
     "output_type": "execute_result"
    }
   ],
   "source": [
    "img.shape"
   ]
  },
  {
   "cell_type": "code",
   "execution_count": 49,
   "id": "blind-essence",
   "metadata": {},
   "outputs": [
    {
     "data": {
      "text/plain": [
       "(16,)"
      ]
     },
     "execution_count": 49,
     "metadata": {},
     "output_type": "execute_result"
    }
   ],
   "source": [
    "label.shape"
   ]
  },
  {
   "cell_type": "code",
   "execution_count": 50,
   "id": "genetic-specialist",
   "metadata": {},
   "outputs": [
    {
     "name": "stdout",
     "output_type": "stream",
     "text": [
      "Executing op DestroyResourceOp in device /job:localhost/replica:0/task:0/device:GPU:0\n"
     ]
    }
   ],
   "source": [
    "model.compile(optimizer='adam',\n",
    "             loss = 'binary_crossentropy',\n",
    "             metrics=['acc'])"
   ]
  },
  {
   "cell_type": "code",
   "execution_count": 21,
   "id": "accredited-borough",
   "metadata": {},
   "outputs": [],
   "source": [
    "######################에러####################\n",
    "# 기존 Yolo_v4에 사용하는 Cuda10.2와 Cudnn을 사용하고있었는데\n",
    "# 파이썬 3.7.7버전과 tensorflow 2.2에 맞는 cuda는 10.1이어서 cuda와 cudnn 다 지우고 다시 설치해서 다시 시도해야함"
   ]
  },
  {
   "cell_type": "code",
   "execution_count": 61,
   "id": "cultural-banner",
   "metadata": {},
   "outputs": [
    {
     "name": "stdout",
     "output_type": "stream",
     "text": [
      "Executing op RangeDataset in device /job:localhost/replica:0/task:0/device:CPU:0\n",
      "Executing op RepeatDataset in device /job:localhost/replica:0/task:0/device:CPU:0\n",
      "Executing op MapDataset in device /job:localhost/replica:0/task:0/device:CPU:0\n",
      "Executing op PrefetchDataset in device /job:localhost/replica:0/task:0/device:CPU:0\n",
      "Executing op FlatMapDataset in device /job:localhost/replica:0/task:0/device:CPU:0\n",
      "Executing op TensorDataset in device /job:localhost/replica:0/task:0/device:CPU:0\n",
      "Executing op RepeatDataset in device /job:localhost/replica:0/task:0/device:CPU:0\n",
      "Executing op ZipDataset in device /job:localhost/replica:0/task:0/device:CPU:0\n",
      "Executing op ParallelMapDataset in device /job:localhost/replica:0/task:0/device:CPU:0\n",
      "Executing op ModelDataset in device /job:localhost/replica:0/task:0/device:CPU:0\n",
      "Executing op AnonymousIteratorV2 in device /job:localhost/replica:0/task:0/device:CPU:0\n",
      "Epoch 1/10\n",
      "WARNING:tensorflow:Model was constructed with shape (None, 224, 224, 3) for input Tensor(\"conv2d_14_input:0\", shape=(None, 224, 224, 3), dtype=float32), but it was called on an input with incompatible shape (None, 1080, 1920, 3).\n"
     ]
    },
    {
     "ename": "ValueError",
     "evalue": "in user code:\n\n    c:\\users\\user\\appdata\\local\\programs\\python\\python37\\lib\\site-packages\\tensorflow\\python\\keras\\engine\\training.py:571 train_function  *\n        outputs = self.distribute_strategy.run(\n    c:\\users\\user\\appdata\\local\\programs\\python\\python37\\lib\\site-packages\\tensorflow\\python\\distribute\\distribute_lib.py:951 run  **\n        return self._extended.call_for_each_replica(fn, args=args, kwargs=kwargs)\n    c:\\users\\user\\appdata\\local\\programs\\python\\python37\\lib\\site-packages\\tensorflow\\python\\distribute\\distribute_lib.py:2290 call_for_each_replica\n        return self._call_for_each_replica(fn, args, kwargs)\n    c:\\users\\user\\appdata\\local\\programs\\python\\python37\\lib\\site-packages\\tensorflow\\python\\distribute\\distribute_lib.py:2649 _call_for_each_replica\n        return fn(*args, **kwargs)\n    c:\\users\\user\\appdata\\local\\programs\\python\\python37\\lib\\site-packages\\tensorflow\\python\\keras\\engine\\training.py:531 train_step  **\n        y_pred = self(x, training=True)\n    c:\\users\\user\\appdata\\local\\programs\\python\\python37\\lib\\site-packages\\tensorflow\\python\\keras\\engine\\base_layer.py:927 __call__\n        outputs = call_fn(cast_inputs, *args, **kwargs)\n    c:\\users\\user\\appdata\\local\\programs\\python\\python37\\lib\\site-packages\\tensorflow\\python\\keras\\engine\\sequential.py:277 call\n        return super(Sequential, self).call(inputs, training=training, mask=mask)\n    c:\\users\\user\\appdata\\local\\programs\\python\\python37\\lib\\site-packages\\tensorflow\\python\\keras\\engine\\network.py:719 call\n        convert_kwargs_to_constants=base_layer_utils.call_context().saving)\n    c:\\users\\user\\appdata\\local\\programs\\python\\python37\\lib\\site-packages\\tensorflow\\python\\keras\\engine\\network.py:888 _run_internal_graph\n        output_tensors = layer(computed_tensors, **kwargs)\n    c:\\users\\user\\appdata\\local\\programs\\python\\python37\\lib\\site-packages\\tensorflow\\python\\keras\\engine\\base_layer.py:886 __call__\n        self.name)\n    c:\\users\\user\\appdata\\local\\programs\\python\\python37\\lib\\site-packages\\tensorflow\\python\\keras\\engine\\input_spec.py:216 assert_input_compatibility\n        ' but received input with shape ' + str(shape))\n\n    ValueError: Input 0 of layer dense_6 is incompatible with the layer: expected axis -1 of input shape to have value 25088 but received input with shape [None, 1013760]\n",
     "output_type": "error",
     "traceback": [
      "\u001b[1;31m---------------------------------------------------------------------------\u001b[0m",
      "\u001b[1;31mValueError\u001b[0m                                Traceback (most recent call last)",
      "\u001b[1;32m<ipython-input-61-367d9d9badb6>\u001b[0m in \u001b[0;36m<module>\u001b[1;34m\u001b[0m\n\u001b[1;32m----> 1\u001b[1;33m \u001b[0mmodel\u001b[0m\u001b[1;33m.\u001b[0m\u001b[0mfit\u001b[0m\u001b[1;33m(\u001b[0m\u001b[0mx\u001b[0m\u001b[1;33m,\u001b[0m \u001b[0my\u001b[0m\u001b[1;33m,\u001b[0m \u001b[0mepochs\u001b[0m\u001b[1;33m=\u001b[0m\u001b[1;36m10\u001b[0m\u001b[1;33m)\u001b[0m\u001b[1;33m\u001b[0m\u001b[1;33m\u001b[0m\u001b[0m\n\u001b[0m",
      "\u001b[1;32mc:\\users\\user\\appdata\\local\\programs\\python\\python37\\lib\\site-packages\\tensorflow\\python\\keras\\engine\\training.py\u001b[0m in \u001b[0;36m_method_wrapper\u001b[1;34m(self, *args, **kwargs)\u001b[0m\n\u001b[0;32m     64\u001b[0m   \u001b[1;32mdef\u001b[0m \u001b[0m_method_wrapper\u001b[0m\u001b[1;33m(\u001b[0m\u001b[0mself\u001b[0m\u001b[1;33m,\u001b[0m \u001b[1;33m*\u001b[0m\u001b[0margs\u001b[0m\u001b[1;33m,\u001b[0m \u001b[1;33m**\u001b[0m\u001b[0mkwargs\u001b[0m\u001b[1;33m)\u001b[0m\u001b[1;33m:\u001b[0m\u001b[1;33m\u001b[0m\u001b[1;33m\u001b[0m\u001b[0m\n\u001b[0;32m     65\u001b[0m     \u001b[1;32mif\u001b[0m \u001b[1;32mnot\u001b[0m \u001b[0mself\u001b[0m\u001b[1;33m.\u001b[0m\u001b[0m_in_multi_worker_mode\u001b[0m\u001b[1;33m(\u001b[0m\u001b[1;33m)\u001b[0m\u001b[1;33m:\u001b[0m  \u001b[1;31m# pylint: disable=protected-access\u001b[0m\u001b[1;33m\u001b[0m\u001b[1;33m\u001b[0m\u001b[0m\n\u001b[1;32m---> 66\u001b[1;33m       \u001b[1;32mreturn\u001b[0m \u001b[0mmethod\u001b[0m\u001b[1;33m(\u001b[0m\u001b[0mself\u001b[0m\u001b[1;33m,\u001b[0m \u001b[1;33m*\u001b[0m\u001b[0margs\u001b[0m\u001b[1;33m,\u001b[0m \u001b[1;33m**\u001b[0m\u001b[0mkwargs\u001b[0m\u001b[1;33m)\u001b[0m\u001b[1;33m\u001b[0m\u001b[1;33m\u001b[0m\u001b[0m\n\u001b[0m\u001b[0;32m     67\u001b[0m \u001b[1;33m\u001b[0m\u001b[0m\n\u001b[0;32m     68\u001b[0m     \u001b[1;31m# Running inside `run_distribute_coordinator` already.\u001b[0m\u001b[1;33m\u001b[0m\u001b[1;33m\u001b[0m\u001b[1;33m\u001b[0m\u001b[0m\n",
      "\u001b[1;32mc:\\users\\user\\appdata\\local\\programs\\python\\python37\\lib\\site-packages\\tensorflow\\python\\keras\\engine\\training.py\u001b[0m in \u001b[0;36mfit\u001b[1;34m(self, x, y, batch_size, epochs, verbose, callbacks, validation_split, validation_data, shuffle, class_weight, sample_weight, initial_epoch, steps_per_epoch, validation_steps, validation_batch_size, validation_freq, max_queue_size, workers, use_multiprocessing)\u001b[0m\n\u001b[0;32m    846\u001b[0m                 batch_size=batch_size):\n\u001b[0;32m    847\u001b[0m               \u001b[0mcallbacks\u001b[0m\u001b[1;33m.\u001b[0m\u001b[0mon_train_batch_begin\u001b[0m\u001b[1;33m(\u001b[0m\u001b[0mstep\u001b[0m\u001b[1;33m)\u001b[0m\u001b[1;33m\u001b[0m\u001b[1;33m\u001b[0m\u001b[0m\n\u001b[1;32m--> 848\u001b[1;33m               \u001b[0mtmp_logs\u001b[0m \u001b[1;33m=\u001b[0m \u001b[0mtrain_function\u001b[0m\u001b[1;33m(\u001b[0m\u001b[0miterator\u001b[0m\u001b[1;33m)\u001b[0m\u001b[1;33m\u001b[0m\u001b[1;33m\u001b[0m\u001b[0m\n\u001b[0m\u001b[0;32m    849\u001b[0m               \u001b[1;31m# Catch OutOfRangeError for Datasets of unknown size.\u001b[0m\u001b[1;33m\u001b[0m\u001b[1;33m\u001b[0m\u001b[1;33m\u001b[0m\u001b[0m\n\u001b[0;32m    850\u001b[0m               \u001b[1;31m# This blocks until the batch has finished executing.\u001b[0m\u001b[1;33m\u001b[0m\u001b[1;33m\u001b[0m\u001b[1;33m\u001b[0m\u001b[0m\n",
      "\u001b[1;32mc:\\users\\user\\appdata\\local\\programs\\python\\python37\\lib\\site-packages\\tensorflow\\python\\eager\\def_function.py\u001b[0m in \u001b[0;36m__call__\u001b[1;34m(self, *args, **kwds)\u001b[0m\n\u001b[0;32m    578\u001b[0m         \u001b[0mxla_context\u001b[0m\u001b[1;33m.\u001b[0m\u001b[0mExit\u001b[0m\u001b[1;33m(\u001b[0m\u001b[1;33m)\u001b[0m\u001b[1;33m\u001b[0m\u001b[1;33m\u001b[0m\u001b[0m\n\u001b[0;32m    579\u001b[0m     \u001b[1;32melse\u001b[0m\u001b[1;33m:\u001b[0m\u001b[1;33m\u001b[0m\u001b[1;33m\u001b[0m\u001b[0m\n\u001b[1;32m--> 580\u001b[1;33m       \u001b[0mresult\u001b[0m \u001b[1;33m=\u001b[0m \u001b[0mself\u001b[0m\u001b[1;33m.\u001b[0m\u001b[0m_call\u001b[0m\u001b[1;33m(\u001b[0m\u001b[1;33m*\u001b[0m\u001b[0margs\u001b[0m\u001b[1;33m,\u001b[0m \u001b[1;33m**\u001b[0m\u001b[0mkwds\u001b[0m\u001b[1;33m)\u001b[0m\u001b[1;33m\u001b[0m\u001b[1;33m\u001b[0m\u001b[0m\n\u001b[0m\u001b[0;32m    581\u001b[0m \u001b[1;33m\u001b[0m\u001b[0m\n\u001b[0;32m    582\u001b[0m     \u001b[1;32mif\u001b[0m \u001b[0mtracing_count\u001b[0m \u001b[1;33m==\u001b[0m \u001b[0mself\u001b[0m\u001b[1;33m.\u001b[0m\u001b[0m_get_tracing_count\u001b[0m\u001b[1;33m(\u001b[0m\u001b[1;33m)\u001b[0m\u001b[1;33m:\u001b[0m\u001b[1;33m\u001b[0m\u001b[1;33m\u001b[0m\u001b[0m\n",
      "\u001b[1;32mc:\\users\\user\\appdata\\local\\programs\\python\\python37\\lib\\site-packages\\tensorflow\\python\\eager\\def_function.py\u001b[0m in \u001b[0;36m_call\u001b[1;34m(self, *args, **kwds)\u001b[0m\n\u001b[0;32m    609\u001b[0m       \u001b[1;31m# In this case we have created variables on the first call, so we run the\u001b[0m\u001b[1;33m\u001b[0m\u001b[1;33m\u001b[0m\u001b[1;33m\u001b[0m\u001b[0m\n\u001b[0;32m    610\u001b[0m       \u001b[1;31m# defunned version which is guaranteed to never create variables.\u001b[0m\u001b[1;33m\u001b[0m\u001b[1;33m\u001b[0m\u001b[1;33m\u001b[0m\u001b[0m\n\u001b[1;32m--> 611\u001b[1;33m       \u001b[1;32mreturn\u001b[0m \u001b[0mself\u001b[0m\u001b[1;33m.\u001b[0m\u001b[0m_stateless_fn\u001b[0m\u001b[1;33m(\u001b[0m\u001b[1;33m*\u001b[0m\u001b[0margs\u001b[0m\u001b[1;33m,\u001b[0m \u001b[1;33m**\u001b[0m\u001b[0mkwds\u001b[0m\u001b[1;33m)\u001b[0m  \u001b[1;31m# pylint: disable=not-callable\u001b[0m\u001b[1;33m\u001b[0m\u001b[1;33m\u001b[0m\u001b[0m\n\u001b[0m\u001b[0;32m    612\u001b[0m     \u001b[1;32melif\u001b[0m \u001b[0mself\u001b[0m\u001b[1;33m.\u001b[0m\u001b[0m_stateful_fn\u001b[0m \u001b[1;32mis\u001b[0m \u001b[1;32mnot\u001b[0m \u001b[1;32mNone\u001b[0m\u001b[1;33m:\u001b[0m\u001b[1;33m\u001b[0m\u001b[1;33m\u001b[0m\u001b[0m\n\u001b[0;32m    613\u001b[0m       \u001b[1;31m# Release the lock early so that multiple threads can perform the call\u001b[0m\u001b[1;33m\u001b[0m\u001b[1;33m\u001b[0m\u001b[1;33m\u001b[0m\u001b[0m\n",
      "\u001b[1;32mc:\\users\\user\\appdata\\local\\programs\\python\\python37\\lib\\site-packages\\tensorflow\\python\\eager\\function.py\u001b[0m in \u001b[0;36m__call__\u001b[1;34m(self, *args, **kwargs)\u001b[0m\n\u001b[0;32m   2417\u001b[0m     \u001b[1;34m\"\"\"Calls a graph function specialized to the inputs.\"\"\"\u001b[0m\u001b[1;33m\u001b[0m\u001b[1;33m\u001b[0m\u001b[0m\n\u001b[0;32m   2418\u001b[0m     \u001b[1;32mwith\u001b[0m \u001b[0mself\u001b[0m\u001b[1;33m.\u001b[0m\u001b[0m_lock\u001b[0m\u001b[1;33m:\u001b[0m\u001b[1;33m\u001b[0m\u001b[1;33m\u001b[0m\u001b[0m\n\u001b[1;32m-> 2419\u001b[1;33m       \u001b[0mgraph_function\u001b[0m\u001b[1;33m,\u001b[0m \u001b[0margs\u001b[0m\u001b[1;33m,\u001b[0m \u001b[0mkwargs\u001b[0m \u001b[1;33m=\u001b[0m \u001b[0mself\u001b[0m\u001b[1;33m.\u001b[0m\u001b[0m_maybe_define_function\u001b[0m\u001b[1;33m(\u001b[0m\u001b[0margs\u001b[0m\u001b[1;33m,\u001b[0m \u001b[0mkwargs\u001b[0m\u001b[1;33m)\u001b[0m\u001b[1;33m\u001b[0m\u001b[1;33m\u001b[0m\u001b[0m\n\u001b[0m\u001b[0;32m   2420\u001b[0m     \u001b[1;32mreturn\u001b[0m \u001b[0mgraph_function\u001b[0m\u001b[1;33m.\u001b[0m\u001b[0m_filtered_call\u001b[0m\u001b[1;33m(\u001b[0m\u001b[0margs\u001b[0m\u001b[1;33m,\u001b[0m \u001b[0mkwargs\u001b[0m\u001b[1;33m)\u001b[0m  \u001b[1;31m# pylint: disable=protected-access\u001b[0m\u001b[1;33m\u001b[0m\u001b[1;33m\u001b[0m\u001b[0m\n\u001b[0;32m   2421\u001b[0m \u001b[1;33m\u001b[0m\u001b[0m\n",
      "\u001b[1;32mc:\\users\\user\\appdata\\local\\programs\\python\\python37\\lib\\site-packages\\tensorflow\\python\\eager\\function.py\u001b[0m in \u001b[0;36m_maybe_define_function\u001b[1;34m(self, args, kwargs)\u001b[0m\n\u001b[0;32m   2772\u001b[0m           \u001b[1;32mand\u001b[0m \u001b[0mself\u001b[0m\u001b[1;33m.\u001b[0m\u001b[0minput_signature\u001b[0m \u001b[1;32mis\u001b[0m \u001b[1;32mNone\u001b[0m\u001b[1;33m\u001b[0m\u001b[1;33m\u001b[0m\u001b[0m\n\u001b[0;32m   2773\u001b[0m           and call_context_key in self._function_cache.missed):\n\u001b[1;32m-> 2774\u001b[1;33m         \u001b[1;32mreturn\u001b[0m \u001b[0mself\u001b[0m\u001b[1;33m.\u001b[0m\u001b[0m_define_function_with_shape_relaxation\u001b[0m\u001b[1;33m(\u001b[0m\u001b[0margs\u001b[0m\u001b[1;33m,\u001b[0m \u001b[0mkwargs\u001b[0m\u001b[1;33m)\u001b[0m\u001b[1;33m\u001b[0m\u001b[1;33m\u001b[0m\u001b[0m\n\u001b[0m\u001b[0;32m   2775\u001b[0m \u001b[1;33m\u001b[0m\u001b[0m\n\u001b[0;32m   2776\u001b[0m       \u001b[0mself\u001b[0m\u001b[1;33m.\u001b[0m\u001b[0m_function_cache\u001b[0m\u001b[1;33m.\u001b[0m\u001b[0mmissed\u001b[0m\u001b[1;33m.\u001b[0m\u001b[0madd\u001b[0m\u001b[1;33m(\u001b[0m\u001b[0mcall_context_key\u001b[0m\u001b[1;33m)\u001b[0m\u001b[1;33m\u001b[0m\u001b[1;33m\u001b[0m\u001b[0m\n",
      "\u001b[1;32mc:\\users\\user\\appdata\\local\\programs\\python\\python37\\lib\\site-packages\\tensorflow\\python\\eager\\function.py\u001b[0m in \u001b[0;36m_define_function_with_shape_relaxation\u001b[1;34m(self, args, kwargs)\u001b[0m\n\u001b[0;32m   2704\u001b[0m         relaxed_arg_shapes)\n\u001b[0;32m   2705\u001b[0m     graph_function = self._create_graph_function(\n\u001b[1;32m-> 2706\u001b[1;33m         args, kwargs, override_flat_arg_shapes=relaxed_arg_shapes)\n\u001b[0m\u001b[0;32m   2707\u001b[0m     \u001b[0mself\u001b[0m\u001b[1;33m.\u001b[0m\u001b[0m_function_cache\u001b[0m\u001b[1;33m.\u001b[0m\u001b[0marg_relaxed\u001b[0m\u001b[1;33m[\u001b[0m\u001b[0mrank_only_cache_key\u001b[0m\u001b[1;33m]\u001b[0m \u001b[1;33m=\u001b[0m \u001b[0mgraph_function\u001b[0m\u001b[1;33m\u001b[0m\u001b[1;33m\u001b[0m\u001b[0m\n\u001b[0;32m   2708\u001b[0m \u001b[1;33m\u001b[0m\u001b[0m\n",
      "\u001b[1;32mc:\\users\\user\\appdata\\local\\programs\\python\\python37\\lib\\site-packages\\tensorflow\\python\\eager\\function.py\u001b[0m in \u001b[0;36m_create_graph_function\u001b[1;34m(self, args, kwargs, override_flat_arg_shapes)\u001b[0m\n\u001b[0;32m   2665\u001b[0m             \u001b[0marg_names\u001b[0m\u001b[1;33m=\u001b[0m\u001b[0marg_names\u001b[0m\u001b[1;33m,\u001b[0m\u001b[1;33m\u001b[0m\u001b[1;33m\u001b[0m\u001b[0m\n\u001b[0;32m   2666\u001b[0m             \u001b[0moverride_flat_arg_shapes\u001b[0m\u001b[1;33m=\u001b[0m\u001b[0moverride_flat_arg_shapes\u001b[0m\u001b[1;33m,\u001b[0m\u001b[1;33m\u001b[0m\u001b[1;33m\u001b[0m\u001b[0m\n\u001b[1;32m-> 2667\u001b[1;33m             capture_by_value=self._capture_by_value),\n\u001b[0m\u001b[0;32m   2668\u001b[0m         \u001b[0mself\u001b[0m\u001b[1;33m.\u001b[0m\u001b[0m_function_attributes\u001b[0m\u001b[1;33m,\u001b[0m\u001b[1;33m\u001b[0m\u001b[1;33m\u001b[0m\u001b[0m\n\u001b[0;32m   2669\u001b[0m         \u001b[1;31m# Tell the ConcreteFunction to clean up its graph once it goes out of\u001b[0m\u001b[1;33m\u001b[0m\u001b[1;33m\u001b[0m\u001b[1;33m\u001b[0m\u001b[0m\n",
      "\u001b[1;32mc:\\users\\user\\appdata\\local\\programs\\python\\python37\\lib\\site-packages\\tensorflow\\python\\framework\\func_graph.py\u001b[0m in \u001b[0;36mfunc_graph_from_py_func\u001b[1;34m(name, python_func, args, kwargs, signature, func_graph, autograph, autograph_options, add_control_dependencies, arg_names, op_return_value, collections, capture_by_value, override_flat_arg_shapes)\u001b[0m\n\u001b[0;32m    979\u001b[0m         \u001b[0m_\u001b[0m\u001b[1;33m,\u001b[0m \u001b[0moriginal_func\u001b[0m \u001b[1;33m=\u001b[0m \u001b[0mtf_decorator\u001b[0m\u001b[1;33m.\u001b[0m\u001b[0munwrap\u001b[0m\u001b[1;33m(\u001b[0m\u001b[0mpython_func\u001b[0m\u001b[1;33m)\u001b[0m\u001b[1;33m\u001b[0m\u001b[1;33m\u001b[0m\u001b[0m\n\u001b[0;32m    980\u001b[0m \u001b[1;33m\u001b[0m\u001b[0m\n\u001b[1;32m--> 981\u001b[1;33m       \u001b[0mfunc_outputs\u001b[0m \u001b[1;33m=\u001b[0m \u001b[0mpython_func\u001b[0m\u001b[1;33m(\u001b[0m\u001b[1;33m*\u001b[0m\u001b[0mfunc_args\u001b[0m\u001b[1;33m,\u001b[0m \u001b[1;33m**\u001b[0m\u001b[0mfunc_kwargs\u001b[0m\u001b[1;33m)\u001b[0m\u001b[1;33m\u001b[0m\u001b[1;33m\u001b[0m\u001b[0m\n\u001b[0m\u001b[0;32m    982\u001b[0m \u001b[1;33m\u001b[0m\u001b[0m\n\u001b[0;32m    983\u001b[0m       \u001b[1;31m# invariant: `func_outputs` contains only Tensors, CompositeTensors,\u001b[0m\u001b[1;33m\u001b[0m\u001b[1;33m\u001b[0m\u001b[1;33m\u001b[0m\u001b[0m\n",
      "\u001b[1;32mc:\\users\\user\\appdata\\local\\programs\\python\\python37\\lib\\site-packages\\tensorflow\\python\\eager\\def_function.py\u001b[0m in \u001b[0;36mwrapped_fn\u001b[1;34m(*args, **kwds)\u001b[0m\n\u001b[0;32m    439\u001b[0m         \u001b[1;31m# __wrapped__ allows AutoGraph to swap in a converted function. We give\u001b[0m\u001b[1;33m\u001b[0m\u001b[1;33m\u001b[0m\u001b[1;33m\u001b[0m\u001b[0m\n\u001b[0;32m    440\u001b[0m         \u001b[1;31m# the function a weak reference to itself to avoid a reference cycle.\u001b[0m\u001b[1;33m\u001b[0m\u001b[1;33m\u001b[0m\u001b[1;33m\u001b[0m\u001b[0m\n\u001b[1;32m--> 441\u001b[1;33m         \u001b[1;32mreturn\u001b[0m \u001b[0mweak_wrapped_fn\u001b[0m\u001b[1;33m(\u001b[0m\u001b[1;33m)\u001b[0m\u001b[1;33m.\u001b[0m\u001b[0m__wrapped__\u001b[0m\u001b[1;33m(\u001b[0m\u001b[1;33m*\u001b[0m\u001b[0margs\u001b[0m\u001b[1;33m,\u001b[0m \u001b[1;33m**\u001b[0m\u001b[0mkwds\u001b[0m\u001b[1;33m)\u001b[0m\u001b[1;33m\u001b[0m\u001b[1;33m\u001b[0m\u001b[0m\n\u001b[0m\u001b[0;32m    442\u001b[0m     \u001b[0mweak_wrapped_fn\u001b[0m \u001b[1;33m=\u001b[0m \u001b[0mweakref\u001b[0m\u001b[1;33m.\u001b[0m\u001b[0mref\u001b[0m\u001b[1;33m(\u001b[0m\u001b[0mwrapped_fn\u001b[0m\u001b[1;33m)\u001b[0m\u001b[1;33m\u001b[0m\u001b[1;33m\u001b[0m\u001b[0m\n\u001b[0;32m    443\u001b[0m \u001b[1;33m\u001b[0m\u001b[0m\n",
      "\u001b[1;32mc:\\users\\user\\appdata\\local\\programs\\python\\python37\\lib\\site-packages\\tensorflow\\python\\framework\\func_graph.py\u001b[0m in \u001b[0;36mwrapper\u001b[1;34m(*args, **kwargs)\u001b[0m\n\u001b[0;32m    966\u001b[0m           \u001b[1;32mexcept\u001b[0m \u001b[0mException\u001b[0m \u001b[1;32mas\u001b[0m \u001b[0me\u001b[0m\u001b[1;33m:\u001b[0m  \u001b[1;31m# pylint:disable=broad-except\u001b[0m\u001b[1;33m\u001b[0m\u001b[1;33m\u001b[0m\u001b[0m\n\u001b[0;32m    967\u001b[0m             \u001b[1;32mif\u001b[0m \u001b[0mhasattr\u001b[0m\u001b[1;33m(\u001b[0m\u001b[0me\u001b[0m\u001b[1;33m,\u001b[0m \u001b[1;34m\"ag_error_metadata\"\u001b[0m\u001b[1;33m)\u001b[0m\u001b[1;33m:\u001b[0m\u001b[1;33m\u001b[0m\u001b[1;33m\u001b[0m\u001b[0m\n\u001b[1;32m--> 968\u001b[1;33m               \u001b[1;32mraise\u001b[0m \u001b[0me\u001b[0m\u001b[1;33m.\u001b[0m\u001b[0mag_error_metadata\u001b[0m\u001b[1;33m.\u001b[0m\u001b[0mto_exception\u001b[0m\u001b[1;33m(\u001b[0m\u001b[0me\u001b[0m\u001b[1;33m)\u001b[0m\u001b[1;33m\u001b[0m\u001b[1;33m\u001b[0m\u001b[0m\n\u001b[0m\u001b[0;32m    969\u001b[0m             \u001b[1;32melse\u001b[0m\u001b[1;33m:\u001b[0m\u001b[1;33m\u001b[0m\u001b[1;33m\u001b[0m\u001b[0m\n\u001b[0;32m    970\u001b[0m               \u001b[1;32mraise\u001b[0m\u001b[1;33m\u001b[0m\u001b[1;33m\u001b[0m\u001b[0m\n",
      "\u001b[1;31mValueError\u001b[0m: in user code:\n\n    c:\\users\\user\\appdata\\local\\programs\\python\\python37\\lib\\site-packages\\tensorflow\\python\\keras\\engine\\training.py:571 train_function  *\n        outputs = self.distribute_strategy.run(\n    c:\\users\\user\\appdata\\local\\programs\\python\\python37\\lib\\site-packages\\tensorflow\\python\\distribute\\distribute_lib.py:951 run  **\n        return self._extended.call_for_each_replica(fn, args=args, kwargs=kwargs)\n    c:\\users\\user\\appdata\\local\\programs\\python\\python37\\lib\\site-packages\\tensorflow\\python\\distribute\\distribute_lib.py:2290 call_for_each_replica\n        return self._call_for_each_replica(fn, args, kwargs)\n    c:\\users\\user\\appdata\\local\\programs\\python\\python37\\lib\\site-packages\\tensorflow\\python\\distribute\\distribute_lib.py:2649 _call_for_each_replica\n        return fn(*args, **kwargs)\n    c:\\users\\user\\appdata\\local\\programs\\python\\python37\\lib\\site-packages\\tensorflow\\python\\keras\\engine\\training.py:531 train_step  **\n        y_pred = self(x, training=True)\n    c:\\users\\user\\appdata\\local\\programs\\python\\python37\\lib\\site-packages\\tensorflow\\python\\keras\\engine\\base_layer.py:927 __call__\n        outputs = call_fn(cast_inputs, *args, **kwargs)\n    c:\\users\\user\\appdata\\local\\programs\\python\\python37\\lib\\site-packages\\tensorflow\\python\\keras\\engine\\sequential.py:277 call\n        return super(Sequential, self).call(inputs, training=training, mask=mask)\n    c:\\users\\user\\appdata\\local\\programs\\python\\python37\\lib\\site-packages\\tensorflow\\python\\keras\\engine\\network.py:719 call\n        convert_kwargs_to_constants=base_layer_utils.call_context().saving)\n    c:\\users\\user\\appdata\\local\\programs\\python\\python37\\lib\\site-packages\\tensorflow\\python\\keras\\engine\\network.py:888 _run_internal_graph\n        output_tensors = layer(computed_tensors, **kwargs)\n    c:\\users\\user\\appdata\\local\\programs\\python\\python37\\lib\\site-packages\\tensorflow\\python\\keras\\engine\\base_layer.py:886 __call__\n        self.name)\n    c:\\users\\user\\appdata\\local\\programs\\python\\python37\\lib\\site-packages\\tensorflow\\python\\keras\\engine\\input_spec.py:216 assert_input_compatibility\n        ' but received input with shape ' + str(shape))\n\n    ValueError: Input 0 of layer dense_6 is incompatible with the layer: expected axis -1 of input shape to have value 25088 but received input with shape [None, 1013760]\n"
     ]
    }
   ],
   "source": [
    "model.fit(x, y, epochs=10)"
   ]
  },
  {
   "cell_type": "code",
   "execution_count": null,
   "id": "returning-introduction",
   "metadata": {},
   "outputs": [],
   "source": []
  }
 ],
 "metadata": {
  "kernelspec": {
   "display_name": "Python 3",
   "language": "python",
   "name": "python3"
  },
  "language_info": {
   "codemirror_mode": {
    "name": "ipython",
    "version": 3
   },
   "file_extension": ".py",
   "mimetype": "text/x-python",
   "name": "python",
   "nbconvert_exporter": "python",
   "pygments_lexer": "ipython3",
   "version": "3.7.7"
  }
 },
 "nbformat": 4,
 "nbformat_minor": 5
}
