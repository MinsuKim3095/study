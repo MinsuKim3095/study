{
 "cells": [
  {
   "cell_type": "code",
   "execution_count": 1,
   "id": "bacterial-constraint",
   "metadata": {},
   "outputs": [
    {
     "data": {
      "text/plain": [
       "[name: \"/device:CPU:0\"\n",
       " device_type: \"CPU\"\n",
       " memory_limit: 268435456\n",
       " locality {\n",
       " }\n",
       " incarnation: 15817408805694238126,\n",
       " name: \"/device:XLA_CPU:0\"\n",
       " device_type: \"XLA_CPU\"\n",
       " memory_limit: 17179869184\n",
       " locality {\n",
       " }\n",
       " incarnation: 11810423061210815570\n",
       " physical_device_desc: \"device: XLA_CPU device\",\n",
       " name: \"/device:GPU:0\"\n",
       " device_type: \"GPU\"\n",
       " memory_limit: 4985044352\n",
       " locality {\n",
       "   bus_id: 1\n",
       "   links {\n",
       "   }\n",
       " }\n",
       " incarnation: 2087184454167270104\n",
       " physical_device_desc: \"device: 0, name: GeForce GTX 1660 SUPER, pci bus id: 0000:06:00.0, compute capability: 7.5\",\n",
       " name: \"/device:XLA_GPU:0\"\n",
       " device_type: \"XLA_GPU\"\n",
       " memory_limit: 17179869184\n",
       " locality {\n",
       " }\n",
       " incarnation: 6957546407050072168\n",
       " physical_device_desc: \"device: XLA_GPU device\"]"
      ]
     },
     "execution_count": 1,
     "metadata": {},
     "output_type": "execute_result"
    }
   ],
   "source": [
    "import tensorflow as tf\n",
    "from tensorflow.python.client import device_lib\n",
    "device_lib.list_local_devices()"
   ]
  },
  {
   "cell_type": "code",
   "execution_count": 19,
   "id": "imposed-frame",
   "metadata": {},
   "outputs": [
    {
     "ename": "RuntimeError",
     "evalue": "Device placement logging must be set at program startup",
     "output_type": "error",
     "traceback": [
      "\u001b[1;31m---------------------------------------------------------------------------\u001b[0m",
      "\u001b[1;31mRuntimeError\u001b[0m                              Traceback (most recent call last)",
      "\u001b[1;32m<ipython-input-19-19642de8c99f>\u001b[0m in \u001b[0;36m<module>\u001b[1;34m\u001b[0m\n\u001b[1;32m----> 1\u001b[1;33m \u001b[0mtf\u001b[0m\u001b[1;33m.\u001b[0m\u001b[0mdebugging\u001b[0m\u001b[1;33m.\u001b[0m\u001b[0mset_log_device_placement\u001b[0m\u001b[1;33m(\u001b[0m\u001b[1;32mTrue\u001b[0m\u001b[1;33m)\u001b[0m\u001b[1;33m\u001b[0m\u001b[1;33m\u001b[0m\u001b[0m\n\u001b[0m",
      "\u001b[1;32mc:\\users\\user\\appdata\\local\\programs\\python\\python37\\lib\\site-packages\\tensorflow\\python\\eager\\context.py\u001b[0m in \u001b[0;36mset_log_device_placement\u001b[1;34m(enabled)\u001b[0m\n\u001b[0;32m   1939\u001b[0m     \u001b[0menabled\u001b[0m\u001b[1;33m:\u001b[0m \u001b[0mWhether\u001b[0m \u001b[0mto\u001b[0m \u001b[0menabled\u001b[0m \u001b[0mdevice\u001b[0m \u001b[0mplacement\u001b[0m \u001b[0mlogging\u001b[0m\u001b[1;33m.\u001b[0m\u001b[1;33m\u001b[0m\u001b[1;33m\u001b[0m\u001b[0m\n\u001b[0;32m   1940\u001b[0m   \"\"\"\n\u001b[1;32m-> 1941\u001b[1;33m   \u001b[0mcontext\u001b[0m\u001b[1;33m(\u001b[0m\u001b[1;33m)\u001b[0m\u001b[1;33m.\u001b[0m\u001b[0mlog_device_placement\u001b[0m \u001b[1;33m=\u001b[0m \u001b[0menabled\u001b[0m\u001b[1;33m\u001b[0m\u001b[1;33m\u001b[0m\u001b[0m\n\u001b[0m\u001b[0;32m   1942\u001b[0m \u001b[1;33m\u001b[0m\u001b[0m\n\u001b[0;32m   1943\u001b[0m \u001b[1;33m\u001b[0m\u001b[0m\n",
      "\u001b[1;32mc:\\users\\user\\appdata\\local\\programs\\python\\python37\\lib\\site-packages\\tensorflow\\python\\eager\\context.py\u001b[0m in \u001b[0;36mlog_device_placement\u001b[1;34m(self, enabled)\u001b[0m\n\u001b[0;32m   1488\u001b[0m     \u001b[1;32mif\u001b[0m \u001b[0mself\u001b[0m\u001b[1;33m.\u001b[0m\u001b[0m_context_handle\u001b[0m \u001b[1;32mis\u001b[0m \u001b[1;32mnot\u001b[0m \u001b[1;32mNone\u001b[0m\u001b[1;33m:\u001b[0m\u001b[1;33m\u001b[0m\u001b[1;33m\u001b[0m\u001b[0m\n\u001b[0;32m   1489\u001b[0m       raise RuntimeError(\n\u001b[1;32m-> 1490\u001b[1;33m           \"Device placement logging must be set at program startup\")\n\u001b[0m\u001b[0;32m   1491\u001b[0m \u001b[1;33m\u001b[0m\u001b[0m\n\u001b[0;32m   1492\u001b[0m     \u001b[0mself\u001b[0m\u001b[1;33m.\u001b[0m\u001b[0m_log_device_placement\u001b[0m \u001b[1;33m=\u001b[0m \u001b[0menabled\u001b[0m\u001b[1;33m\u001b[0m\u001b[1;33m\u001b[0m\u001b[0m\n",
      "\u001b[1;31mRuntimeError\u001b[0m: Device placement logging must be set at program startup"
     ]
    }
   ],
   "source": [
    "tf.debugging.set_log_device_placement(True)"
   ]
  },
  {
   "cell_type": "code",
   "execution_count": 2,
   "id": "timely-exchange",
   "metadata": {},
   "outputs": [],
   "source": [
    "from keras.preprocessing.image import ImageDataGenerator\n",
    "from keras.preprocessing.image import load_img\n",
    "from keras.preprocessing.image import img_to_array\n",
    "from keras import optimizers, initializers, regularizers, metrics\n",
    "from keras.callbacks import ModelCheckpoint\n",
    "import os\n",
    "from glob import glob\n",
    "from PIL import Image\n",
    "import matplotlib.pyplot as plt\n",
    "import numpy as np\n",
    "from numpy import expand_dims\n",
    "from keras import models\n",
    "from keras import layers\n",
    "from tensorflow.python.keras.layers import Conv2D, MaxPooling2D, Flatten\n",
    "from tensorflow.python.keras.layers import Dense, Dropout, Input\n",
    "from tensorflow.python.keras.models import Model\n",
    "from tensorflow.keras.layers import Input, Dense\n",
    "\n",
    "model = models.Sequential()\n",
    "#1층\n",
    "model.add(Conv2D(input_shape=(224,224,3), filters=64, kernel_size=(3,3), strides=(1,1), padding='same', activation='relu'))\n",
    "#2층\n",
    "model.add(Conv2D(input_shape=(224,224,64),filters=64, kernel_size=(3,3), strides=(1,1), padding='same', activation='relu'))\n",
    "#Max Pooling\n",
    "model.add(MaxPooling2D(pool_size =(2,2), strides=(2,2)))\n",
    "#3층\n",
    "model.add(Conv2D(input_shape=(112,112,64),filters=128, kernel_size=(3,3), strides=(1,1), padding ='same', activation='relu'))\n",
    "#4층\n",
    "model.add(Conv2D(input_shape=(112,112,128),filters=128, kernel_size=(3,3), strides=(1,1), padding='same', activation='relu'))\n",
    "#Max Pooling\n",
    "model.add(MaxPooling2D(pool_size =(2,2), strides=(2,2)))\n",
    "#5층\n",
    "model.add(Conv2D(input_shape=(56,56,128), filters=256, kernel_size=(3,3), strides=(1,1), padding='same', activation='relu'))\n",
    "#6층\n",
    "model.add(Conv2D(input_shape=(56,56,256), filters=256, kernel_size=(3,3), strides=(1,1), padding='same', activation='relu'))\n",
    "#7층\n",
    "model.add(Conv2D(input_shape=(56,56,256), filters=256, kernel_size=(3,3), strides=(1,1), padding='same', activation='relu'))\n",
    "#Max Pooling\n",
    "model.add(MaxPooling2D(pool_size=(2,2), strides=(2,2)))\n",
    "#8층\n",
    "model.add(Conv2D(input_shape=(28,28,256), filters=512, kernel_size=(3,3), strides=(1,1), padding='same', activation='relu'))\n",
    "#9층\n",
    "model.add(Conv2D(input_shape=(28,28,512), filters=512, kernel_size=(3,3), strides=(1,1), padding='same', activation='relu'))\n",
    "#10층\n",
    "model.add(Conv2D(input_shape=(28,28,512), filters=512, kernel_size=(3,3), strides=(1,1), padding='same', activation='relu'))\n",
    "#Max Pooling\n",
    "model.add(MaxPooling2D(pool_size=(2,2), strides=(2,2)))\n",
    "#11층\n",
    "model.add(Conv2D(input_shape=(14,14,512), filters=512, kernel_size=(3,3), strides=(1,1), padding='same', activation='relu'))\n",
    "#12층\n",
    "model.add(Conv2D(input_shape=(14,14,512), filters=512, kernel_size=(3,3), strides=(1,1), padding='same', activation='relu'))\n",
    "#13층\n",
    "model.add(Conv2D(input_shape=(14,14,512), filters=512, kernel_size=(3,3), strides=(1,1), padding='same', activation='relu'))\n",
    "#Max Pooling\n",
    "model.add(MaxPooling2D(pool_size=(2,2), strides=(2,2)))\n",
    "#14층 (fc1)\n",
    "model.add(Flatten())\n",
    "model.add(Dense(4096,activation='relu'))\n",
    "#15층 (fc2)\n",
    "model.add(Dense(4096,activation='relu'))\n",
    "model.add(Dense(2048,activation='relu'))\n",
    "model.add(Dense(1024,activation='relu'))\n",
    "model.add(Dense(512,activation='relu'))\n",
    "model.add(Dense(1,activation='sigmoid'))"
   ]
  },
  {
   "cell_type": "code",
   "execution_count": 3,
   "id": "incoming-employee",
   "metadata": {},
   "outputs": [
    {
     "name": "stdout",
     "output_type": "stream",
     "text": [
      "Model: \"sequential\"\n",
      "_________________________________________________________________\n",
      "Layer (type)                 Output Shape              Param #   \n",
      "=================================================================\n",
      "conv2d (Conv2D)              (None, 224, 224, 64)      1792      \n",
      "_________________________________________________________________\n",
      "conv2d_1 (Conv2D)            (None, 224, 224, 64)      36928     \n",
      "_________________________________________________________________\n",
      "max_pooling2d (MaxPooling2D) (None, 112, 112, 64)      0         \n",
      "_________________________________________________________________\n",
      "conv2d_2 (Conv2D)            (None, 112, 112, 128)     73856     \n",
      "_________________________________________________________________\n",
      "conv2d_3 (Conv2D)            (None, 112, 112, 128)     147584    \n",
      "_________________________________________________________________\n",
      "max_pooling2d_1 (MaxPooling2 (None, 56, 56, 128)       0         \n",
      "_________________________________________________________________\n",
      "conv2d_4 (Conv2D)            (None, 56, 56, 256)       295168    \n",
      "_________________________________________________________________\n",
      "conv2d_5 (Conv2D)            (None, 56, 56, 256)       590080    \n",
      "_________________________________________________________________\n",
      "conv2d_6 (Conv2D)            (None, 56, 56, 256)       590080    \n",
      "_________________________________________________________________\n",
      "max_pooling2d_2 (MaxPooling2 (None, 28, 28, 256)       0         \n",
      "_________________________________________________________________\n",
      "conv2d_7 (Conv2D)            (None, 28, 28, 512)       1180160   \n",
      "_________________________________________________________________\n",
      "conv2d_8 (Conv2D)            (None, 28, 28, 512)       2359808   \n",
      "_________________________________________________________________\n",
      "conv2d_9 (Conv2D)            (None, 28, 28, 512)       2359808   \n",
      "_________________________________________________________________\n",
      "max_pooling2d_3 (MaxPooling2 (None, 14, 14, 512)       0         \n",
      "_________________________________________________________________\n",
      "conv2d_10 (Conv2D)           (None, 14, 14, 512)       2359808   \n",
      "_________________________________________________________________\n",
      "conv2d_11 (Conv2D)           (None, 14, 14, 512)       2359808   \n",
      "_________________________________________________________________\n",
      "conv2d_12 (Conv2D)           (None, 14, 14, 512)       2359808   \n",
      "_________________________________________________________________\n",
      "max_pooling2d_4 (MaxPooling2 (None, 7, 7, 512)         0         \n",
      "_________________________________________________________________\n",
      "flatten (Flatten)            (None, 25088)             0         \n",
      "_________________________________________________________________\n",
      "dense (Dense)                (None, 4096)              102764544 \n",
      "_________________________________________________________________\n",
      "dense_1 (Dense)              (None, 4096)              16781312  \n",
      "_________________________________________________________________\n",
      "dense_2 (Dense)              (None, 2048)              8390656   \n",
      "_________________________________________________________________\n",
      "dense_3 (Dense)              (None, 1024)              2098176   \n",
      "_________________________________________________________________\n",
      "dense_4 (Dense)              (None, 512)               524800    \n",
      "_________________________________________________________________\n",
      "dense_5 (Dense)              (None, 1)                 513       \n",
      "=================================================================\n",
      "Total params: 145,274,689\n",
      "Trainable params: 145,274,689\n",
      "Non-trainable params: 0\n",
      "_________________________________________________________________\n"
     ]
    }
   ],
   "source": [
    "model.summary()"
   ]
  },
  {
   "cell_type": "code",
   "execution_count": 4,
   "id": "adopted-reset",
   "metadata": {},
   "outputs": [],
   "source": [
    "###vgg16으로 custom data training해보기###\n",
    "# https://aihub.or.kr/aidata/33\n",
    "# 위해물품 엑스레이 이미지 dataset"
   ]
  },
  {
   "cell_type": "code",
   "execution_count": 5,
   "id": "tamil-bowling",
   "metadata": {},
   "outputs": [],
   "source": [
    "# dataset이 용량이 너무 커서 34개의 카테고리 중 1개인, 술에 관해예측해보기\n",
    "# 4096에서 34로 바로 연결하지않고, 2048,1024,512개의 unit을 거치는 Fully Connected Layer로 연결\n",
    "# feature 정보의 손실을 줄이기 위함"
   ]
  },
  {
   "cell_type": "code",
   "execution_count": 6,
   "id": "knowing-treasurer",
   "metadata": {},
   "outputs": [],
   "source": [
    "## Labelimg를 통해 labeling을 했고, 이를 csv로 변환한후, tfrecord로 다시 변환한다."
   ]
  },
  {
   "cell_type": "code",
   "execution_count": 38,
   "id": "acoustic-contrast",
   "metadata": {},
   "outputs": [
    {
     "name": "stdout",
     "output_type": "stream",
     "text": [
      "Successfully converted xml to csv.\n",
      "Successfully converted xml to csv.\n"
     ]
    }
   ],
   "source": [
    "import os\n",
    "import glob\n",
    "import pandas as pd\n",
    "import xml.etree.ElementTree as ET\n",
    "\n",
    "\n",
    "def xml_to_csv(path):\n",
    "    xml_list = []\n",
    "    for xml_file in glob.glob('C:/Users/user/Desktop/github/study/2.논문 읽고 구현해보기/02.VGGnet(2014)/Alcohol/Alcohol/Single_Default' + '/*.xml'):\n",
    "        tree = ET.parse(xml_file)\n",
    "        root = tree.getroot()\n",
    "        for member in root.findall('object'):\n",
    "            value = (root.find('filename').text,\n",
    "                     int(root.find('size')[0].text),\n",
    "                     int(root.find('size')[1].text),\n",
    "                     member[0].text,\n",
    "                     int(member[4][0].text),\n",
    "                     int(member[4][1].text),\n",
    "                     int(member[4][2].text),\n",
    "                     int(member[4][3].text)\n",
    "                     )\n",
    "            xml_list.append(value)\n",
    "    column_name = ['filename', 'width', 'height', 'class', 'xmin', 'ymin', 'xmax', 'ymax']\n",
    "    xml_df = pd.DataFrame(xml_list, columns=column_name)\n",
    "    return xml_df\n",
    "\n",
    "\n",
    "def main():\n",
    "    for directory in ['train','test']:\n",
    "        image_path = os.path.join(os.getcwd(), 'images/{}'.format(directory))\n",
    "        xml_df = xml_to_csv(image_path)\n",
    "        xml_df.to_csv('data/{}_labels.csv'.format(directory), index=None)\n",
    "        print('Successfully converted xml to csv.')\n",
    "\n",
    "\n",
    "main()"
   ]
  },
  {
   "cell_type": "code",
   "execution_count": 7,
   "id": "viral-titanium",
   "metadata": {},
   "outputs": [],
   "source": [
    "#labelimg로 xray상의 alcohol에 라벨링\n",
    "#train = 125개 ,test = 335개\n",
    "train_dir = './Alcohol/Alcohol/vgg16_custom/train'\n",
    "test_dir = './Alcohol/Alcohol/vgg16_custom/test'\n",
    "\n",
    "IM_WIDTH = 220\n",
    "IM_HEIGHT = 220"
   ]
  },
  {
   "cell_type": "code",
   "execution_count": 8,
   "id": "advanced-portrait",
   "metadata": {},
   "outputs": [],
   "source": [
    "train_datagen = ImageDataGenerator(\n",
    "      rescale=1./255,\n",
    "      rotation_range=180, # 회전 쵀대 180도\n",
    "      width_shift_range=0.2, # 좌우 이동 최대 이미지 가로사이즈 20%\n",
    "      height_shift_range=0.2, # 상하 이동 최대 이미지  세로사이즈 20%\n",
    "      horizontal_flip=True, # 좌우 반전 실행\n",
    "      vertical_flip=True # 상하 반전 실행 \n",
    "      )"
   ]
  },
  {
   "cell_type": "code",
   "execution_count": 9,
   "id": "looking-execution",
   "metadata": {},
   "outputs": [
    {
     "name": "stdout",
     "output_type": "stream",
     "text": [
      "Found 109 images belonging to 1 classes.\n"
     ]
    }
   ],
   "source": [
    "#train_datagen.flow_from_directory() : 디렉토리에서 이미지를 읽을 객체를 생성\n",
    "#train_datagen.flow_from_directory(\n",
    "#        이미지 경로,       : TRAIN_DIR (/dental_image/train/)\n",
    "#        target_size=(이미지가로, 이미지세로), IM_WIDTH (220) x IM_HEIGHT(220)\n",
    "#        batch_size=한번에 리턴할 이미지의 개수, 16개\n",
    "#        class_mode=분류방법, categorical (다중분류) binary(0 1 로 이중 분류)\n",
    "#        shuffle=이미지를 섞을 여부\n",
    "#)\n",
    "        \n",
    "train_generator = train_datagen.flow_from_directory(\n",
    "        train_dir,\n",
    "        target_size=(IM_WIDTH, IM_HEIGHT),\n",
    "        batch_size=16,\n",
    "        class_mode='categorical',\n",
    "        shuffle=True)"
   ]
  },
  {
   "cell_type": "code",
   "execution_count": 10,
   "id": "magnetic-motorcycle",
   "metadata": {},
   "outputs": [
    {
     "name": "stdout",
     "output_type": "stream",
     "text": [
      "Found 16 images belonging to 1 classes.\n"
     ]
    }
   ],
   "source": [
    "# 검증에 사용될 이미지를 읽을 객체\n",
    "#테스트에서는 이미지를 변형 할 필요가 없으므로\n",
    "#ImageDataGenerator에 값을 주지 않음\n",
    "#이미지가 변형되지 않고 같은 이미지 리턴\n",
    "test_datagen = ImageDataGenerator( \n",
    "     rescale=1./255  \n",
    ")\n",
    "#test_datagen.flow_from_directory() : 디렉토리에서 이미지를 읽을 객체를 생성\n",
    "#test_datagen.flow_from_directory(\n",
    "#        이미지 경로,       : TEST_DIR (/dental_image/test/)\n",
    "#        target_size=(이미지가로, 이미지세로), IM_WIDTH (220) x IM_HEIGHT(220)\n",
    "#        batch_size=한번에 리턴할 이미지의 개수, 10개\n",
    "#        class_mode=분류방법, categorical (다중분류) binary(0 1 로 이중 분류)\n",
    "#        shuffle=이미지를 섞을 여부 False 섞지 않음\n",
    "#)\n",
    "        \n",
    "test_generator = test_datagen.flow_from_directory(\n",
    "        test_dir,\n",
    "        target_size=(IM_WIDTH, IM_HEIGHT),\n",
    "        batch_size=16,\n",
    "        class_mode='categorical',\n",
    "        shuffle=False)"
   ]
  },
  {
   "cell_type": "code",
   "execution_count": 11,
   "id": "married-hungary",
   "metadata": {},
   "outputs": [
    {
     "data": {
      "text/plain": [
       "109"
      ]
     },
     "execution_count": 11,
     "metadata": {},
     "output_type": "execute_result"
    }
   ],
   "source": [
    "train_generator.n"
   ]
  },
  {
   "cell_type": "code",
   "execution_count": 12,
   "id": "obvious-decision",
   "metadata": {},
   "outputs": [
    {
     "data": {
      "text/plain": [
       "16"
      ]
     },
     "execution_count": 12,
     "metadata": {},
     "output_type": "execute_result"
    }
   ],
   "source": [
    "test_generator.n"
   ]
  },
  {
   "cell_type": "code",
   "execution_count": 13,
   "id": "sophisticated-novelty",
   "metadata": {},
   "outputs": [
    {
     "name": "stdout",
     "output_type": "stream",
     "text": [
      "16\n",
      "16\n"
     ]
    }
   ],
   "source": [
    "print(train_generator.batch_size)\n",
    "print(test_generator.batch_size)"
   ]
  },
  {
   "cell_type": "code",
   "execution_count": 14,
   "id": "harmful-thomson",
   "metadata": {},
   "outputs": [
    {
     "data": {
      "text/plain": [
       "array([[[[0.9843138 , 0.9806274 , 0.9843138 ],\n",
       "         [0.9843138 , 0.983185  , 0.9843138 ],\n",
       "         [0.9843138 , 0.982885  , 0.9843138 ],\n",
       "         ...,\n",
       "         [0.9803922 , 0.98290193, 0.98290193],\n",
       "         [0.9808553 , 0.9803922 , 0.9803922 ],\n",
       "         [0.98382807, 0.9803922 , 0.9803922 ]],\n",
       "\n",
       "        [[0.9843138 , 0.9831298 , 0.9815762 ],\n",
       "         [0.9843138 , 0.9805723 , 0.9841337 ],\n",
       "         [0.9843138 , 0.9827697 , 0.9843138 ],\n",
       "         ...,\n",
       "         [0.98044   , 0.9803922 , 0.9803922 ],\n",
       "         [0.98341286, 0.9803922 , 0.9803922 ],\n",
       "         [0.9822419 , 0.9803922 , 0.9803922 ]],\n",
       "\n",
       "        [[0.9843138 , 0.98252493, 0.9803922 ],\n",
       "         [0.9843138 , 0.98354506, 0.98116094],\n",
       "         [0.9843138 , 0.9809875 , 0.9837185 ],\n",
       "         ...,\n",
       "         [0.9829976 , 0.9803922 , 0.9803922 ],\n",
       "         [0.98265713, 0.9803922 , 0.9803922 ],\n",
       "         [0.9811    , 0.9811    , 0.9803922 ]],\n",
       "\n",
       "        ...,\n",
       "\n",
       "        [[0.8196079 , 0.8196079 , 0.82652944],\n",
       "         [0.8196079 , 0.8196079 , 0.8313726 ],\n",
       "         [0.8196079 , 0.8196079 , 0.8313726 ],\n",
       "         ...,\n",
       "         [0.9807156 , 0.9803922 , 0.98399043],\n",
       "         [0.98327315, 0.9803922 , 0.98143286],\n",
       "         [0.9827969 , 0.9819091 , 0.9803922 ]],\n",
       "\n",
       "        [[0.8196079 , 0.8196079 , 0.8313726 ],\n",
       "         [0.8196079 , 0.8196079 , 0.8313726 ],\n",
       "         [0.8196079 , 0.8196079 , 0.8313726 ],\n",
       "         ...,\n",
       "         [0.98304164, 0.98304164, 0.9843138 ],\n",
       "         [0.98048407, 0.98048407, 0.9843138 ],\n",
       "         [0.98285794, 0.9803922 , 0.98184806]],\n",
       "\n",
       "        [[0.8196079 , 0.8196079 , 0.8313726 ],\n",
       "         [0.8196079 , 0.8196079 , 0.8313726 ],\n",
       "         [0.8196079 , 0.8196079 , 0.8313726 ],\n",
       "         ...,\n",
       "         [0.98261315, 0.9843138 , 0.9843138 ],\n",
       "         [0.9834569 , 0.9834569 , 0.9843138 ],\n",
       "         [0.98089933, 0.98089933, 0.9843138 ]]],\n",
       "\n",
       "\n",
       "       [[[0.9803922 , 0.9803922 , 0.9803922 ],\n",
       "         [0.9803922 , 0.9803922 , 0.9803922 ],\n",
       "         [0.9803922 , 0.9803922 , 0.9803922 ],\n",
       "         ...,\n",
       "         [0.98303235, 0.98167366, 0.98303235],\n",
       "         [0.9803922 , 0.98303443, 0.9803922 ],\n",
       "         [0.9803922 , 0.9803922 , 0.9803922 ]],\n",
       "\n",
       "        [[0.9803922 , 0.9803922 , 0.9803922 ],\n",
       "         [0.9803922 , 0.9803922 , 0.9803922 ],\n",
       "         [0.9803922 , 0.9803922 , 0.9803922 ],\n",
       "         ...,\n",
       "         [0.9831598 , 0.9815462 , 0.9831598 ],\n",
       "         [0.9803922 , 0.98316187, 0.9803922 ],\n",
       "         [0.9803922 , 0.9803922 , 0.9803922 ]],\n",
       "\n",
       "        [[0.9803922 , 0.9803922 , 0.9803922 ],\n",
       "         [0.9803922 , 0.9803922 , 0.9803922 ],\n",
       "         [0.9803922 , 0.9803922 , 0.9803922 ],\n",
       "         ...,\n",
       "         [0.9832873 , 0.9814187 , 0.9832873 ],\n",
       "         [0.9803922 , 0.98328936, 0.9803922 ],\n",
       "         [0.9803922 , 0.9803922 , 0.9803922 ]],\n",
       "\n",
       "        ...,\n",
       "\n",
       "        [[0.981121  , 0.9843138 , 0.9803922 ],\n",
       "         [0.98124844, 0.9843138 , 0.9803922 ],\n",
       "         [0.9813759 , 0.9843138 , 0.9803922 ],\n",
       "         ...,\n",
       "         [0.98281646, 0.9843138 , 0.9843138 ],\n",
       "         [0.98194635, 0.9835337 , 0.9835337 ],\n",
       "         [0.9827026 , 0.9823283 , 0.9823283 ]],\n",
       "\n",
       "        [[0.9843138 , 0.9843138 , 0.981119  ],\n",
       "         [0.9843138 , 0.9843138 , 0.9812464 ],\n",
       "         [0.9843138 , 0.9843138 , 0.98137385],\n",
       "         ...,\n",
       "         [0.9820474 , 0.9833786 , 0.9843138 ],\n",
       "         [0.98337036, 0.9832511 , 0.98405814],\n",
       "         [0.98104787, 0.98340935, 0.98340935]],\n",
       "\n",
       "        [[0.9843138 , 0.9843138 , 0.9843138 ],\n",
       "         [0.9843138 , 0.9843138 , 0.9843138 ],\n",
       "         [0.9843138 , 0.9843138 , 0.9843138 ],\n",
       "         ...,\n",
       "         [0.9833807 , 0.98113066, 0.9841191 ],\n",
       "         [0.9826579 , 0.9806129 , 0.9826579 ],\n",
       "         [0.9806388 , 0.9821476 , 0.98095953]]],\n",
       "\n",
       "\n",
       "       [[[0.9803922 , 0.9803922 , 0.9843138 ],\n",
       "         [0.9803922 , 0.98204994, 0.98265606],\n",
       "         [0.98201483, 0.9843138 , 0.9803922 ],\n",
       "         ...,\n",
       "         [0.8196079 , 0.8196079 , 0.8275132 ],\n",
       "         [0.8196079 , 0.8196079 , 0.8235295 ],\n",
       "         [0.8196079 , 0.8196079 , 0.82724863]],\n",
       "\n",
       "        [[0.9803922 , 0.9803922 , 0.9843138 ],\n",
       "         [0.9803922 , 0.9825731 , 0.9821329 ],\n",
       "         [0.98253804, 0.9843138 , 0.9803922 ],\n",
       "         ...,\n",
       "         [0.8196079 , 0.8196079 , 0.82646686],\n",
       "         [0.8196079 , 0.8196079 , 0.8235295 ],\n",
       "         [0.8196079 , 0.8196079 , 0.828295  ]],\n",
       "\n",
       "        [[0.9803922 , 0.9803922 , 0.9843138 ],\n",
       "         [0.9803922 , 0.98309624, 0.98160976],\n",
       "         [0.9830612 , 0.9843138 , 0.9803922 ],\n",
       "         ...,\n",
       "         [0.8196079 , 0.8196079 , 0.8254206 ],\n",
       "         [0.8196079 , 0.8196079 , 0.8235295 ],\n",
       "         [0.8196079 , 0.8196079 , 0.8293413 ]],\n",
       "\n",
       "        ...,\n",
       "\n",
       "        [[0.9835503 , 0.9838405 , 0.9803922 ],\n",
       "         [0.9835048 , 0.9843138 , 0.9803922 ],\n",
       "         [0.98365813, 0.9843138 , 0.98115724],\n",
       "         ...,\n",
       "         [0.8196079 , 0.8196079 , 0.8313726 ],\n",
       "         [0.8196079 , 0.8196079 , 0.8313726 ],\n",
       "         [0.8196079 , 0.8196079 , 0.8313726 ]],\n",
       "\n",
       "        [[0.98119074, 0.98119074, 0.9803922 ],\n",
       "         [0.98302585, 0.98302585, 0.9817041 ],\n",
       "         [0.9843138 , 0.9843138 , 0.98338336],\n",
       "         ...,\n",
       "         [0.8196079 , 0.8196079 , 0.8313726 ],\n",
       "         [0.8196079 , 0.8196079 , 0.8313726 ],\n",
       "         [0.8196079 , 0.8196079 , 0.8313726 ]],\n",
       "\n",
       "        [[0.98348016, 0.98348016, 0.98348016],\n",
       "         [0.98382264, 0.98382264, 0.9821863 ],\n",
       "         [0.9843138 , 0.9843138 , 0.9822721 ],\n",
       "         ...,\n",
       "         [0.8196079 , 0.8196079 , 0.8247926 ],\n",
       "         [0.8196079 , 0.8196079 , 0.825839  ],\n",
       "         [0.8196079 , 0.8196079 , 0.8268853 ]]],\n",
       "\n",
       "\n",
       "       ...,\n",
       "\n",
       "\n",
       "       [[[0.9818791 , 0.9828269 , 0.9843138 ],\n",
       "         [0.9803922 , 0.9821065 , 0.9821065 ],\n",
       "         [0.98237216, 0.98237216, 0.98237216],\n",
       "         ...,\n",
       "         [0.9803922 , 0.98203075, 0.9803922 ],\n",
       "         [0.9803922 , 0.9833467 , 0.9803922 ],\n",
       "         [0.98074096, 0.98396504, 0.98074096]],\n",
       "\n",
       "        [[0.98319507, 0.98151094, 0.9843138 ],\n",
       "         [0.9803922 , 0.9834224 , 0.9834224 ],\n",
       "         [0.9810562 , 0.9810562 , 0.9810562 ],\n",
       "         ...,\n",
       "         [0.9818034 , 0.9829025 , 0.9818034 ],\n",
       "         [0.9831193 , 0.9815867 , 0.9831193 ],\n",
       "         [0.98419243, 0.9803922 , 0.9843138 ]],\n",
       "\n",
       "        [[0.9843138 , 0.98058933, 0.9841167 ],\n",
       "         [0.98081666, 0.98388934, 0.9843138 ],\n",
       "         [0.9803922 , 0.98104405, 0.98104405],\n",
       "         ...,\n",
       "         [0.9831299 , 0.9803922 , 0.9843138 ],\n",
       "         [0.981814  , 0.9803922 , 0.9843138 ],\n",
       "         [0.9804982 , 0.9803922 , 0.9843138 ]],\n",
       "\n",
       "        ...,\n",
       "\n",
       "        [[0.98048574, 0.98422027, 0.98048574],\n",
       "         [0.98180157, 0.98290443, 0.98180157],\n",
       "         [0.98311746, 0.98158854, 0.98311746],\n",
       "         ...,\n",
       "         [0.8196079 , 0.8196079 , 0.8253086 ],\n",
       "         [0.8196079 , 0.8196079 , 0.8313726 ],\n",
       "         [0.8196079 , 0.8200427 , 0.8313726 ]],\n",
       "\n",
       "        [[0.9841799 , 0.9805261 , 0.9841799 ],\n",
       "         [0.9843138 , 0.98157424, 0.9843138 ],\n",
       "         [0.9843138 , 0.9828901 , 0.9843138 ],\n",
       "         ...,\n",
       "         [0.8196079 , 0.8196079 , 0.82438207],\n",
       "         [0.8196079 , 0.8196079 , 0.8300653 ],\n",
       "         [0.8196079 , 0.8196079 , 0.8313726 ]],\n",
       "\n",
       "        [[0.9843138 , 0.9839526 , 0.9843138 ],\n",
       "         [0.9843138 , 0.9833591 , 0.9843138 ],\n",
       "         [0.9843138 , 0.98204327, 0.9843138 ],\n",
       "         ...,\n",
       "         [0.8196079 , 0.8196079 , 0.8270138 ],\n",
       "         [0.8196079 , 0.8196079 , 0.8274336 ],\n",
       "         [0.8196079 , 0.8196079 , 0.8313726 ]]],\n",
       "\n",
       "\n",
       "       [[[0.8196079 , 0.8196079 , 0.82885706],\n",
       "         [0.8196079 , 0.8196079 , 0.8313726 ],\n",
       "         [0.8196079 , 0.8196079 , 0.8313726 ],\n",
       "         ...,\n",
       "         [0.9803922 , 0.98179597, 0.9843138 ],\n",
       "         [0.98255056, 0.98255056, 0.9843138 ],\n",
       "         [0.98251486, 0.9843138 , 0.9843138 ]],\n",
       "\n",
       "        [[0.8196079 , 0.8196079 , 0.825326  ],\n",
       "         [0.8196079 , 0.8196079 , 0.8250131 ],\n",
       "         [0.8196079 , 0.8196079 , 0.8282934 ],\n",
       "         ...,\n",
       "         [0.98062855, 0.98062855, 0.9843138 ],\n",
       "         [0.9841907 , 0.9841907 , 0.9843138 ],\n",
       "         [0.9808748 , 0.9843138 , 0.9843138 ]],\n",
       "\n",
       "        [[0.8196079 , 0.8196079 , 0.8313726 ],\n",
       "         [0.8196079 , 0.8196079 , 0.82917005],\n",
       "         [0.8196079 , 0.8196079 , 0.82588977],\n",
       "         ...,\n",
       "         [0.98226875, 0.98226875, 0.9843138 ],\n",
       "         [0.9827968 , 0.9843138 , 0.9843138 ],\n",
       "         [0.9815498 , 0.9831562 , 0.9843138 ]],\n",
       "\n",
       "        ...,\n",
       "\n",
       "        [[0.8196079 , 0.8196079 , 0.8291085 ],\n",
       "         [0.8196079 , 0.8196079 , 0.8250747 ],\n",
       "         [0.83654726, 0.83654726, 0.84707254],\n",
       "         ...,\n",
       "         [0.9843138 , 0.98167026, 0.98167026],\n",
       "         [0.9843138 , 0.9836182 , 0.9836182 ],\n",
       "         [0.9841768 , 0.9843138 , 0.9843138 ]],\n",
       "\n",
       "        [[0.8196079 , 0.8196079 , 0.8258282 ],\n",
       "         [0.8196079 , 0.8196079 , 0.82835495],\n",
       "         [0.9037925 , 0.9037925 , 0.9093973 ],\n",
       "         ...,\n",
       "         [0.9843138 , 0.9808109 , 0.9826763 ],\n",
       "         [0.9838469 , 0.9832355 , 0.9829457 ],\n",
       "         [0.9843138 , 0.9824609 , 0.9843138 ]],\n",
       "\n",
       "        [[0.8196079 , 0.8196079 , 0.82451093],\n",
       "         [0.8249908 , 0.8249908 , 0.8363617 ],\n",
       "         [0.9710377 , 0.9710377 , 0.9717222 ],\n",
       "         ...,\n",
       "         [0.98237216, 0.98233384, 0.9833925 ],\n",
       "         [0.9806767 , 0.98354894, 0.9809541 ],\n",
       "         [0.98181033, 0.9804622 , 0.9843138 ]]],\n",
       "\n",
       "\n",
       "       [[[0.982719  , 0.98198694, 0.9843138 ],\n",
       "         [0.9843138 , 0.9821791 , 0.9843138 ],\n",
       "         [0.9830668 , 0.9843138 , 0.9830668 ],\n",
       "         ...,\n",
       "         [0.98046   , 0.98046   , 0.9843138 ],\n",
       "         [0.98244584, 0.98244584, 0.9843138 ],\n",
       "         [0.984196  , 0.9843138 , 0.9843138 ]],\n",
       "\n",
       "        [[0.9807333 , 0.9839727 , 0.9843138 ],\n",
       "         [0.98411494, 0.98059106, 0.9843138 ],\n",
       "         [0.9843138 , 0.98357505, 0.9843138 ],\n",
       "         ...,\n",
       "         [0.98384166, 0.98384166, 0.9843138 ],\n",
       "         [0.9828002 , 0.9843138 , 0.9843138 ],\n",
       "         [0.9808144 , 0.9843138 , 0.9843138 ]],\n",
       "\n",
       "        [[0.9820369 , 0.9826691 , 0.9843138 ],\n",
       "         [0.98212916, 0.98257685, 0.9843138 ],\n",
       "         [0.9843138 , 0.9815892 , 0.9843138 ],\n",
       "         ...,\n",
       "         [0.98140424, 0.9843138 , 0.9843138 ],\n",
       "         [0.9813659 , 0.9833401 , 0.9843138 ],\n",
       "         [0.9833517 , 0.9813543 , 0.9843138 ]],\n",
       "\n",
       "        ...,\n",
       "\n",
       "        [[0.8196079 , 0.8196079 , 0.8313726 ],\n",
       "         [0.8196079 , 0.8196079 , 0.8313726 ],\n",
       "         [0.8206717 , 0.8196079 , 0.8313726 ],\n",
       "         ...,\n",
       "         [0.9843138 , 0.9843138 , 0.9843138 ],\n",
       "         [0.9843138 , 0.98158085, 0.98158085],\n",
       "         [0.9843138 , 0.9803922 , 0.9803922 ]],\n",
       "\n",
       "        [[0.8200819 , 0.8196079 , 0.8313726 ],\n",
       "         [0.8220676 , 0.8196079 , 0.8313726 ],\n",
       "         [0.8235295 , 0.8196079 , 0.8313726 ],\n",
       "         ...,\n",
       "         [0.9843138 , 0.9843138 , 0.9843138 ],\n",
       "         [0.9843138 , 0.9835666 , 0.9835666 ],\n",
       "         [0.9843138 , 0.9803922 , 0.9803922 ]],\n",
       "\n",
       "        [[0.82346344, 0.8196079 , 0.8313726 ],\n",
       "         [0.8235295 , 0.8196079 , 0.8313726 ],\n",
       "         [0.8235295 , 0.8196079 , 0.8313726 ],\n",
       "         ...,\n",
       "         [0.9843138 , 0.9843138 , 0.98361516],\n",
       "         [0.9843138 , 0.9843138 , 0.9843138 ],\n",
       "         [0.9843138 , 0.9821707 , 0.9821707 ]]]], dtype=float32)"
      ]
     },
     "execution_count": 14,
     "metadata": {},
     "output_type": "execute_result"
    }
   ],
   "source": [
    "img, label = train_generator.next()\n",
    "img"
   ]
  },
  {
   "cell_type": "code",
   "execution_count": 15,
   "id": "healthy-bundle",
   "metadata": {},
   "outputs": [
    {
     "data": {
      "text/plain": [
       "(16, 220, 220, 3)"
      ]
     },
     "execution_count": 15,
     "metadata": {},
     "output_type": "execute_result"
    }
   ],
   "source": [
    "img.shape"
   ]
  },
  {
   "cell_type": "code",
   "execution_count": 16,
   "id": "blind-essence",
   "metadata": {},
   "outputs": [
    {
     "data": {
      "text/plain": [
       "array([[1.],\n",
       "       [1.],\n",
       "       [1.],\n",
       "       [1.],\n",
       "       [1.],\n",
       "       [1.],\n",
       "       [1.],\n",
       "       [1.],\n",
       "       [1.],\n",
       "       [1.],\n",
       "       [1.],\n",
       "       [1.],\n",
       "       [1.],\n",
       "       [1.],\n",
       "       [1.],\n",
       "       [1.]], dtype=float32)"
      ]
     },
     "execution_count": 16,
     "metadata": {},
     "output_type": "execute_result"
    }
   ],
   "source": [
    "label"
   ]
  },
  {
   "cell_type": "code",
   "execution_count": 17,
   "id": "genetic-specialist",
   "metadata": {},
   "outputs": [],
   "source": [
    "model.compile(optimizer='adam',\n",
    "             loss = 'binary_crossentropy',\n",
    "             metrics=['acc'])"
   ]
  },
  {
   "cell_type": "code",
   "execution_count": 18,
   "id": "cultural-banner",
   "metadata": {},
   "outputs": [
    {
     "name": "stdout",
     "output_type": "stream",
     "text": [
      "Epoch 1/100\n"
     ]
    },
    {
     "ename": "UnknownError",
     "evalue": " Failed to get convolution algorithm. This is probably because cuDNN failed to initialize, so try looking to see if a warning log message was printed above.\n\t [[node sequential/conv2d/Conv2D (defined at <ipython-input-18-d4d9553b7342>:1) ]] [Op:__inference_train_function_2231]\n\nFunction call stack:\ntrain_function\n",
     "output_type": "error",
     "traceback": [
      "\u001b[1;31m---------------------------------------------------------------------------\u001b[0m",
      "\u001b[1;31mUnknownError\u001b[0m                              Traceback (most recent call last)",
      "\u001b[1;32m<ipython-input-18-d4d9553b7342>\u001b[0m in \u001b[0;36m<module>\u001b[1;34m\u001b[0m\n\u001b[1;32m----> 1\u001b[1;33m \u001b[0mmodel\u001b[0m\u001b[1;33m.\u001b[0m\u001b[0mfit\u001b[0m\u001b[1;33m(\u001b[0m\u001b[0mtrain_generator\u001b[0m\u001b[1;33m,\u001b[0m \u001b[0mepochs\u001b[0m\u001b[1;33m=\u001b[0m\u001b[1;36m100\u001b[0m\u001b[1;33m)\u001b[0m\u001b[1;33m\u001b[0m\u001b[1;33m\u001b[0m\u001b[0m\n\u001b[0m",
      "\u001b[1;32mc:\\users\\user\\appdata\\local\\programs\\python\\python37\\lib\\site-packages\\tensorflow\\python\\keras\\engine\\training.py\u001b[0m in \u001b[0;36m_method_wrapper\u001b[1;34m(self, *args, **kwargs)\u001b[0m\n\u001b[0;32m     64\u001b[0m   \u001b[1;32mdef\u001b[0m \u001b[0m_method_wrapper\u001b[0m\u001b[1;33m(\u001b[0m\u001b[0mself\u001b[0m\u001b[1;33m,\u001b[0m \u001b[1;33m*\u001b[0m\u001b[0margs\u001b[0m\u001b[1;33m,\u001b[0m \u001b[1;33m**\u001b[0m\u001b[0mkwargs\u001b[0m\u001b[1;33m)\u001b[0m\u001b[1;33m:\u001b[0m\u001b[1;33m\u001b[0m\u001b[1;33m\u001b[0m\u001b[0m\n\u001b[0;32m     65\u001b[0m     \u001b[1;32mif\u001b[0m \u001b[1;32mnot\u001b[0m \u001b[0mself\u001b[0m\u001b[1;33m.\u001b[0m\u001b[0m_in_multi_worker_mode\u001b[0m\u001b[1;33m(\u001b[0m\u001b[1;33m)\u001b[0m\u001b[1;33m:\u001b[0m  \u001b[1;31m# pylint: disable=protected-access\u001b[0m\u001b[1;33m\u001b[0m\u001b[1;33m\u001b[0m\u001b[0m\n\u001b[1;32m---> 66\u001b[1;33m       \u001b[1;32mreturn\u001b[0m \u001b[0mmethod\u001b[0m\u001b[1;33m(\u001b[0m\u001b[0mself\u001b[0m\u001b[1;33m,\u001b[0m \u001b[1;33m*\u001b[0m\u001b[0margs\u001b[0m\u001b[1;33m,\u001b[0m \u001b[1;33m**\u001b[0m\u001b[0mkwargs\u001b[0m\u001b[1;33m)\u001b[0m\u001b[1;33m\u001b[0m\u001b[1;33m\u001b[0m\u001b[0m\n\u001b[0m\u001b[0;32m     67\u001b[0m \u001b[1;33m\u001b[0m\u001b[0m\n\u001b[0;32m     68\u001b[0m     \u001b[1;31m# Running inside `run_distribute_coordinator` already.\u001b[0m\u001b[1;33m\u001b[0m\u001b[1;33m\u001b[0m\u001b[1;33m\u001b[0m\u001b[0m\n",
      "\u001b[1;32mc:\\users\\user\\appdata\\local\\programs\\python\\python37\\lib\\site-packages\\tensorflow\\python\\keras\\engine\\training.py\u001b[0m in \u001b[0;36mfit\u001b[1;34m(self, x, y, batch_size, epochs, verbose, callbacks, validation_split, validation_data, shuffle, class_weight, sample_weight, initial_epoch, steps_per_epoch, validation_steps, validation_batch_size, validation_freq, max_queue_size, workers, use_multiprocessing)\u001b[0m\n\u001b[0;32m    846\u001b[0m                 batch_size=batch_size):\n\u001b[0;32m    847\u001b[0m               \u001b[0mcallbacks\u001b[0m\u001b[1;33m.\u001b[0m\u001b[0mon_train_batch_begin\u001b[0m\u001b[1;33m(\u001b[0m\u001b[0mstep\u001b[0m\u001b[1;33m)\u001b[0m\u001b[1;33m\u001b[0m\u001b[1;33m\u001b[0m\u001b[0m\n\u001b[1;32m--> 848\u001b[1;33m               \u001b[0mtmp_logs\u001b[0m \u001b[1;33m=\u001b[0m \u001b[0mtrain_function\u001b[0m\u001b[1;33m(\u001b[0m\u001b[0miterator\u001b[0m\u001b[1;33m)\u001b[0m\u001b[1;33m\u001b[0m\u001b[1;33m\u001b[0m\u001b[0m\n\u001b[0m\u001b[0;32m    849\u001b[0m               \u001b[1;31m# Catch OutOfRangeError for Datasets of unknown size.\u001b[0m\u001b[1;33m\u001b[0m\u001b[1;33m\u001b[0m\u001b[1;33m\u001b[0m\u001b[0m\n\u001b[0;32m    850\u001b[0m               \u001b[1;31m# This blocks until the batch has finished executing.\u001b[0m\u001b[1;33m\u001b[0m\u001b[1;33m\u001b[0m\u001b[1;33m\u001b[0m\u001b[0m\n",
      "\u001b[1;32mc:\\users\\user\\appdata\\local\\programs\\python\\python37\\lib\\site-packages\\tensorflow\\python\\eager\\def_function.py\u001b[0m in \u001b[0;36m__call__\u001b[1;34m(self, *args, **kwds)\u001b[0m\n\u001b[0;32m    578\u001b[0m         \u001b[0mxla_context\u001b[0m\u001b[1;33m.\u001b[0m\u001b[0mExit\u001b[0m\u001b[1;33m(\u001b[0m\u001b[1;33m)\u001b[0m\u001b[1;33m\u001b[0m\u001b[1;33m\u001b[0m\u001b[0m\n\u001b[0;32m    579\u001b[0m     \u001b[1;32melse\u001b[0m\u001b[1;33m:\u001b[0m\u001b[1;33m\u001b[0m\u001b[1;33m\u001b[0m\u001b[0m\n\u001b[1;32m--> 580\u001b[1;33m       \u001b[0mresult\u001b[0m \u001b[1;33m=\u001b[0m \u001b[0mself\u001b[0m\u001b[1;33m.\u001b[0m\u001b[0m_call\u001b[0m\u001b[1;33m(\u001b[0m\u001b[1;33m*\u001b[0m\u001b[0margs\u001b[0m\u001b[1;33m,\u001b[0m \u001b[1;33m**\u001b[0m\u001b[0mkwds\u001b[0m\u001b[1;33m)\u001b[0m\u001b[1;33m\u001b[0m\u001b[1;33m\u001b[0m\u001b[0m\n\u001b[0m\u001b[0;32m    581\u001b[0m \u001b[1;33m\u001b[0m\u001b[0m\n\u001b[0;32m    582\u001b[0m     \u001b[1;32mif\u001b[0m \u001b[0mtracing_count\u001b[0m \u001b[1;33m==\u001b[0m \u001b[0mself\u001b[0m\u001b[1;33m.\u001b[0m\u001b[0m_get_tracing_count\u001b[0m\u001b[1;33m(\u001b[0m\u001b[1;33m)\u001b[0m\u001b[1;33m:\u001b[0m\u001b[1;33m\u001b[0m\u001b[1;33m\u001b[0m\u001b[0m\n",
      "\u001b[1;32mc:\\users\\user\\appdata\\local\\programs\\python\\python37\\lib\\site-packages\\tensorflow\\python\\eager\\def_function.py\u001b[0m in \u001b[0;36m_call\u001b[1;34m(self, *args, **kwds)\u001b[0m\n\u001b[0;32m    642\u001b[0m         \u001b[1;31m# Lifting succeeded, so variables are initialized and we can run the\u001b[0m\u001b[1;33m\u001b[0m\u001b[1;33m\u001b[0m\u001b[1;33m\u001b[0m\u001b[0m\n\u001b[0;32m    643\u001b[0m         \u001b[1;31m# stateless function.\u001b[0m\u001b[1;33m\u001b[0m\u001b[1;33m\u001b[0m\u001b[1;33m\u001b[0m\u001b[0m\n\u001b[1;32m--> 644\u001b[1;33m         \u001b[1;32mreturn\u001b[0m \u001b[0mself\u001b[0m\u001b[1;33m.\u001b[0m\u001b[0m_stateless_fn\u001b[0m\u001b[1;33m(\u001b[0m\u001b[1;33m*\u001b[0m\u001b[0margs\u001b[0m\u001b[1;33m,\u001b[0m \u001b[1;33m**\u001b[0m\u001b[0mkwds\u001b[0m\u001b[1;33m)\u001b[0m\u001b[1;33m\u001b[0m\u001b[1;33m\u001b[0m\u001b[0m\n\u001b[0m\u001b[0;32m    645\u001b[0m     \u001b[1;32melse\u001b[0m\u001b[1;33m:\u001b[0m\u001b[1;33m\u001b[0m\u001b[1;33m\u001b[0m\u001b[0m\n\u001b[0;32m    646\u001b[0m       \u001b[0mcanon_args\u001b[0m\u001b[1;33m,\u001b[0m \u001b[0mcanon_kwds\u001b[0m \u001b[1;33m=\u001b[0m\u001b[0;31m \u001b[0m\u001b[0;31m\\\u001b[0m\u001b[1;33m\u001b[0m\u001b[1;33m\u001b[0m\u001b[0m\n",
      "\u001b[1;32mc:\\users\\user\\appdata\\local\\programs\\python\\python37\\lib\\site-packages\\tensorflow\\python\\eager\\function.py\u001b[0m in \u001b[0;36m__call__\u001b[1;34m(self, *args, **kwargs)\u001b[0m\n\u001b[0;32m   2418\u001b[0m     \u001b[1;32mwith\u001b[0m \u001b[0mself\u001b[0m\u001b[1;33m.\u001b[0m\u001b[0m_lock\u001b[0m\u001b[1;33m:\u001b[0m\u001b[1;33m\u001b[0m\u001b[1;33m\u001b[0m\u001b[0m\n\u001b[0;32m   2419\u001b[0m       \u001b[0mgraph_function\u001b[0m\u001b[1;33m,\u001b[0m \u001b[0margs\u001b[0m\u001b[1;33m,\u001b[0m \u001b[0mkwargs\u001b[0m \u001b[1;33m=\u001b[0m \u001b[0mself\u001b[0m\u001b[1;33m.\u001b[0m\u001b[0m_maybe_define_function\u001b[0m\u001b[1;33m(\u001b[0m\u001b[0margs\u001b[0m\u001b[1;33m,\u001b[0m \u001b[0mkwargs\u001b[0m\u001b[1;33m)\u001b[0m\u001b[1;33m\u001b[0m\u001b[1;33m\u001b[0m\u001b[0m\n\u001b[1;32m-> 2420\u001b[1;33m     \u001b[1;32mreturn\u001b[0m \u001b[0mgraph_function\u001b[0m\u001b[1;33m.\u001b[0m\u001b[0m_filtered_call\u001b[0m\u001b[1;33m(\u001b[0m\u001b[0margs\u001b[0m\u001b[1;33m,\u001b[0m \u001b[0mkwargs\u001b[0m\u001b[1;33m)\u001b[0m  \u001b[1;31m# pylint: disable=protected-access\u001b[0m\u001b[1;33m\u001b[0m\u001b[1;33m\u001b[0m\u001b[0m\n\u001b[0m\u001b[0;32m   2421\u001b[0m \u001b[1;33m\u001b[0m\u001b[0m\n\u001b[0;32m   2422\u001b[0m   \u001b[1;33m@\u001b[0m\u001b[0mproperty\u001b[0m\u001b[1;33m\u001b[0m\u001b[1;33m\u001b[0m\u001b[0m\n",
      "\u001b[1;32mc:\\users\\user\\appdata\\local\\programs\\python\\python37\\lib\\site-packages\\tensorflow\\python\\eager\\function.py\u001b[0m in \u001b[0;36m_filtered_call\u001b[1;34m(self, args, kwargs)\u001b[0m\n\u001b[0;32m   1663\u001b[0m          if isinstance(t, (ops.Tensor,\n\u001b[0;32m   1664\u001b[0m                            resource_variable_ops.BaseResourceVariable))),\n\u001b[1;32m-> 1665\u001b[1;33m         self.captured_inputs)\n\u001b[0m\u001b[0;32m   1666\u001b[0m \u001b[1;33m\u001b[0m\u001b[0m\n\u001b[0;32m   1667\u001b[0m   \u001b[1;32mdef\u001b[0m \u001b[0m_call_flat\u001b[0m\u001b[1;33m(\u001b[0m\u001b[0mself\u001b[0m\u001b[1;33m,\u001b[0m \u001b[0margs\u001b[0m\u001b[1;33m,\u001b[0m \u001b[0mcaptured_inputs\u001b[0m\u001b[1;33m,\u001b[0m \u001b[0mcancellation_manager\u001b[0m\u001b[1;33m=\u001b[0m\u001b[1;32mNone\u001b[0m\u001b[1;33m)\u001b[0m\u001b[1;33m:\u001b[0m\u001b[1;33m\u001b[0m\u001b[1;33m\u001b[0m\u001b[0m\n",
      "\u001b[1;32mc:\\users\\user\\appdata\\local\\programs\\python\\python37\\lib\\site-packages\\tensorflow\\python\\eager\\function.py\u001b[0m in \u001b[0;36m_call_flat\u001b[1;34m(self, args, captured_inputs, cancellation_manager)\u001b[0m\n\u001b[0;32m   1744\u001b[0m       \u001b[1;31m# No tape is watching; skip to running the function.\u001b[0m\u001b[1;33m\u001b[0m\u001b[1;33m\u001b[0m\u001b[1;33m\u001b[0m\u001b[0m\n\u001b[0;32m   1745\u001b[0m       return self._build_call_outputs(self._inference_function.call(\n\u001b[1;32m-> 1746\u001b[1;33m           ctx, args, cancellation_manager=cancellation_manager))\n\u001b[0m\u001b[0;32m   1747\u001b[0m     forward_backward = self._select_forward_and_backward_functions(\n\u001b[0;32m   1748\u001b[0m         \u001b[0margs\u001b[0m\u001b[1;33m,\u001b[0m\u001b[1;33m\u001b[0m\u001b[1;33m\u001b[0m\u001b[0m\n",
      "\u001b[1;32mc:\\users\\user\\appdata\\local\\programs\\python\\python37\\lib\\site-packages\\tensorflow\\python\\eager\\function.py\u001b[0m in \u001b[0;36mcall\u001b[1;34m(self, ctx, args, cancellation_manager)\u001b[0m\n\u001b[0;32m    596\u001b[0m               \u001b[0minputs\u001b[0m\u001b[1;33m=\u001b[0m\u001b[0margs\u001b[0m\u001b[1;33m,\u001b[0m\u001b[1;33m\u001b[0m\u001b[1;33m\u001b[0m\u001b[0m\n\u001b[0;32m    597\u001b[0m               \u001b[0mattrs\u001b[0m\u001b[1;33m=\u001b[0m\u001b[0mattrs\u001b[0m\u001b[1;33m,\u001b[0m\u001b[1;33m\u001b[0m\u001b[1;33m\u001b[0m\u001b[0m\n\u001b[1;32m--> 598\u001b[1;33m               ctx=ctx)\n\u001b[0m\u001b[0;32m    599\u001b[0m         \u001b[1;32melse\u001b[0m\u001b[1;33m:\u001b[0m\u001b[1;33m\u001b[0m\u001b[1;33m\u001b[0m\u001b[0m\n\u001b[0;32m    600\u001b[0m           outputs = execute.execute_with_cancellation(\n",
      "\u001b[1;32mc:\\users\\user\\appdata\\local\\programs\\python\\python37\\lib\\site-packages\\tensorflow\\python\\eager\\execute.py\u001b[0m in \u001b[0;36mquick_execute\u001b[1;34m(op_name, num_outputs, inputs, attrs, ctx, name)\u001b[0m\n\u001b[0;32m     58\u001b[0m     \u001b[0mctx\u001b[0m\u001b[1;33m.\u001b[0m\u001b[0mensure_initialized\u001b[0m\u001b[1;33m(\u001b[0m\u001b[1;33m)\u001b[0m\u001b[1;33m\u001b[0m\u001b[1;33m\u001b[0m\u001b[0m\n\u001b[0;32m     59\u001b[0m     tensors = pywrap_tfe.TFE_Py_Execute(ctx._handle, device_name, op_name,\n\u001b[1;32m---> 60\u001b[1;33m                                         inputs, attrs, num_outputs)\n\u001b[0m\u001b[0;32m     61\u001b[0m   \u001b[1;32mexcept\u001b[0m \u001b[0mcore\u001b[0m\u001b[1;33m.\u001b[0m\u001b[0m_NotOkStatusException\u001b[0m \u001b[1;32mas\u001b[0m \u001b[0me\u001b[0m\u001b[1;33m:\u001b[0m\u001b[1;33m\u001b[0m\u001b[1;33m\u001b[0m\u001b[0m\n\u001b[0;32m     62\u001b[0m     \u001b[1;32mif\u001b[0m \u001b[0mname\u001b[0m \u001b[1;32mis\u001b[0m \u001b[1;32mnot\u001b[0m \u001b[1;32mNone\u001b[0m\u001b[1;33m:\u001b[0m\u001b[1;33m\u001b[0m\u001b[1;33m\u001b[0m\u001b[0m\n",
      "\u001b[1;31mUnknownError\u001b[0m:  Failed to get convolution algorithm. This is probably because cuDNN failed to initialize, so try looking to see if a warning log message was printed above.\n\t [[node sequential/conv2d/Conv2D (defined at <ipython-input-18-d4d9553b7342>:1) ]] [Op:__inference_train_function_2231]\n\nFunction call stack:\ntrain_function\n"
     ]
    }
   ],
   "source": [
    "model.fit(train_generator, epochs=100)"
   ]
  },
  {
   "cell_type": "code",
   "execution_count": 20,
   "id": "continued-craft",
   "metadata": {},
   "outputs": [
    {
     "ename": "RuntimeError",
     "evalue": "Device placement logging must be set at program startup",
     "output_type": "error",
     "traceback": [
      "\u001b[1;31m---------------------------------------------------------------------------\u001b[0m",
      "\u001b[1;31mRuntimeError\u001b[0m                              Traceback (most recent call last)",
      "\u001b[1;32m<ipython-input-20-19642de8c99f>\u001b[0m in \u001b[0;36m<module>\u001b[1;34m\u001b[0m\n\u001b[1;32m----> 1\u001b[1;33m \u001b[0mtf\u001b[0m\u001b[1;33m.\u001b[0m\u001b[0mdebugging\u001b[0m\u001b[1;33m.\u001b[0m\u001b[0mset_log_device_placement\u001b[0m\u001b[1;33m(\u001b[0m\u001b[1;32mTrue\u001b[0m\u001b[1;33m)\u001b[0m\u001b[1;33m\u001b[0m\u001b[1;33m\u001b[0m\u001b[0m\n\u001b[0m",
      "\u001b[1;32mc:\\users\\user\\appdata\\local\\programs\\python\\python37\\lib\\site-packages\\tensorflow\\python\\eager\\context.py\u001b[0m in \u001b[0;36mset_log_device_placement\u001b[1;34m(enabled)\u001b[0m\n\u001b[0;32m   1939\u001b[0m     \u001b[0menabled\u001b[0m\u001b[1;33m:\u001b[0m \u001b[0mWhether\u001b[0m \u001b[0mto\u001b[0m \u001b[0menabled\u001b[0m \u001b[0mdevice\u001b[0m \u001b[0mplacement\u001b[0m \u001b[0mlogging\u001b[0m\u001b[1;33m.\u001b[0m\u001b[1;33m\u001b[0m\u001b[1;33m\u001b[0m\u001b[0m\n\u001b[0;32m   1940\u001b[0m   \"\"\"\n\u001b[1;32m-> 1941\u001b[1;33m   \u001b[0mcontext\u001b[0m\u001b[1;33m(\u001b[0m\u001b[1;33m)\u001b[0m\u001b[1;33m.\u001b[0m\u001b[0mlog_device_placement\u001b[0m \u001b[1;33m=\u001b[0m \u001b[0menabled\u001b[0m\u001b[1;33m\u001b[0m\u001b[1;33m\u001b[0m\u001b[0m\n\u001b[0m\u001b[0;32m   1942\u001b[0m \u001b[1;33m\u001b[0m\u001b[0m\n\u001b[0;32m   1943\u001b[0m \u001b[1;33m\u001b[0m\u001b[0m\n",
      "\u001b[1;32mc:\\users\\user\\appdata\\local\\programs\\python\\python37\\lib\\site-packages\\tensorflow\\python\\eager\\context.py\u001b[0m in \u001b[0;36mlog_device_placement\u001b[1;34m(self, enabled)\u001b[0m\n\u001b[0;32m   1488\u001b[0m     \u001b[1;32mif\u001b[0m \u001b[0mself\u001b[0m\u001b[1;33m.\u001b[0m\u001b[0m_context_handle\u001b[0m \u001b[1;32mis\u001b[0m \u001b[1;32mnot\u001b[0m \u001b[1;32mNone\u001b[0m\u001b[1;33m:\u001b[0m\u001b[1;33m\u001b[0m\u001b[1;33m\u001b[0m\u001b[0m\n\u001b[0;32m   1489\u001b[0m       raise RuntimeError(\n\u001b[1;32m-> 1490\u001b[1;33m           \"Device placement logging must be set at program startup\")\n\u001b[0m\u001b[0;32m   1491\u001b[0m \u001b[1;33m\u001b[0m\u001b[0m\n\u001b[0;32m   1492\u001b[0m     \u001b[0mself\u001b[0m\u001b[1;33m.\u001b[0m\u001b[0m_log_device_placement\u001b[0m \u001b[1;33m=\u001b[0m \u001b[0menabled\u001b[0m\u001b[1;33m\u001b[0m\u001b[1;33m\u001b[0m\u001b[0m\n",
      "\u001b[1;31mRuntimeError\u001b[0m: Device placement logging must be set at program startup"
     ]
    }
   ],
   "source": [
    "tf.debugging.set_log_device_placement(True)"
   ]
  },
  {
   "cell_type": "code",
   "execution_count": null,
   "id": "changed-trauma",
   "metadata": {},
   "outputs": [],
   "source": []
  }
 ],
 "metadata": {
  "kernelspec": {
   "display_name": "Python 3",
   "language": "python",
   "name": "python3"
  },
  "language_info": {
   "codemirror_mode": {
    "name": "ipython",
    "version": 3
   },
   "file_extension": ".py",
   "mimetype": "text/x-python",
   "name": "python",
   "nbconvert_exporter": "python",
   "pygments_lexer": "ipython3",
   "version": "3.7.7"
  }
 },
 "nbformat": 4,
 "nbformat_minor": 5
}
