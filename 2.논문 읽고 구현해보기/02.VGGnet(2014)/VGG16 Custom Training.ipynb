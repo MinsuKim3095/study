{
 "cells": [
  {
   "cell_type": "code",
   "execution_count": 21,
   "id": "bacterial-constraint",
   "metadata": {},
   "outputs": [
    {
     "data": {
      "text/plain": [
       "[name: \"/device:CPU:0\"\n",
       " device_type: \"CPU\"\n",
       " memory_limit: 268435456\n",
       " locality {\n",
       " }\n",
       " incarnation: 2690884698727621462,\n",
       " name: \"/device:XLA_CPU:0\"\n",
       " device_type: \"XLA_CPU\"\n",
       " memory_limit: 17179869184\n",
       " locality {\n",
       " }\n",
       " incarnation: 2048061004348675525\n",
       " physical_device_desc: \"device: XLA_CPU device\",\n",
       " name: \"/device:GPU:0\"\n",
       " device_type: \"GPU\"\n",
       " memory_limit: 4985044352\n",
       " locality {\n",
       "   bus_id: 1\n",
       "   links {\n",
       "   }\n",
       " }\n",
       " incarnation: 14849858936765229874\n",
       " physical_device_desc: \"device: 0, name: GeForce GTX 1660 SUPER, pci bus id: 0000:06:00.0, compute capability: 7.5\",\n",
       " name: \"/device:XLA_GPU:0\"\n",
       " device_type: \"XLA_GPU\"\n",
       " memory_limit: 17179869184\n",
       " locality {\n",
       " }\n",
       " incarnation: 73088402124301748\n",
       " physical_device_desc: \"device: XLA_GPU device\"]"
      ]
     },
     "execution_count": 21,
     "metadata": {},
     "output_type": "execute_result"
    }
   ],
   "source": [
    "import tensorflow as tf\n",
    "from tensorflow.python.client import device_lib\n",
    "device_lib.list_local_devices()"
   ]
  },
  {
   "cell_type": "code",
   "execution_count": 22,
   "id": "valuable-chicken",
   "metadata": {},
   "outputs": [
    {
     "data": {
      "text/plain": [
       "'2.2.0'"
      ]
     },
     "execution_count": 22,
     "metadata": {},
     "output_type": "execute_result"
    }
   ],
   "source": [
    "tf.__version__"
   ]
  },
  {
   "cell_type": "code",
   "execution_count": 2,
   "id": "imposed-frame",
   "metadata": {},
   "outputs": [],
   "source": [
    "tf.debugging.set_log_device_placement(True)"
   ]
  },
  {
   "cell_type": "code",
   "execution_count": 3,
   "id": "timely-exchange",
   "metadata": {},
   "outputs": [
    {
     "name": "stdout",
     "output_type": "stream",
     "text": [
      "Executing op RandomUniform in device /job:localhost/replica:0/task:0/device:GPU:0\n",
      "Executing op Sub in device /job:localhost/replica:0/task:0/device:GPU:0\n",
      "Executing op Mul in device /job:localhost/replica:0/task:0/device:GPU:0\n",
      "Executing op Add in device /job:localhost/replica:0/task:0/device:GPU:0\n",
      "Executing op VarHandleOp in device /job:localhost/replica:0/task:0/device:GPU:0\n",
      "Executing op VarIsInitializedOp in device /job:localhost/replica:0/task:0/device:GPU:0\n",
      "Executing op LogicalNot in device /job:localhost/replica:0/task:0/device:GPU:0\n",
      "Executing op Assert in device /job:localhost/replica:0/task:0/device:GPU:0\n",
      "Executing op AssignVariableOp in device /job:localhost/replica:0/task:0/device:GPU:0\n",
      "Executing op Fill in device /job:localhost/replica:0/task:0/device:GPU:0\n",
      "Executing op VarHandleOp in device /job:localhost/replica:0/task:0/device:GPU:0\n",
      "Executing op VarHandleOp in device /job:localhost/replica:0/task:0/device:GPU:0\n",
      "Executing op VarHandleOp in device /job:localhost/replica:0/task:0/device:GPU:0\n",
      "Executing op VarHandleOp in device /job:localhost/replica:0/task:0/device:GPU:0\n",
      "Executing op VarHandleOp in device /job:localhost/replica:0/task:0/device:GPU:0\n",
      "Executing op VarHandleOp in device /job:localhost/replica:0/task:0/device:GPU:0\n",
      "Executing op VarHandleOp in device /job:localhost/replica:0/task:0/device:GPU:0\n",
      "Executing op VarHandleOp in device /job:localhost/replica:0/task:0/device:GPU:0\n",
      "Executing op VarHandleOp in device /job:localhost/replica:0/task:0/device:GPU:0\n",
      "Executing op VarHandleOp in device /job:localhost/replica:0/task:0/device:GPU:0\n",
      "Executing op VarHandleOp in device /job:localhost/replica:0/task:0/device:GPU:0\n",
      "Executing op VarHandleOp in device /job:localhost/replica:0/task:0/device:GPU:0\n",
      "Executing op VarHandleOp in device /job:localhost/replica:0/task:0/device:GPU:0\n",
      "Executing op VarHandleOp in device /job:localhost/replica:0/task:0/device:GPU:0\n",
      "Executing op VarHandleOp in device /job:localhost/replica:0/task:0/device:GPU:0\n",
      "Executing op VarHandleOp in device /job:localhost/replica:0/task:0/device:GPU:0\n",
      "Executing op VarHandleOp in device /job:localhost/replica:0/task:0/device:GPU:0\n",
      "Executing op VarHandleOp in device /job:localhost/replica:0/task:0/device:GPU:0\n",
      "Executing op VarHandleOp in device /job:localhost/replica:0/task:0/device:GPU:0\n",
      "Executing op VarHandleOp in device /job:localhost/replica:0/task:0/device:GPU:0\n",
      "Executing op VarHandleOp in device /job:localhost/replica:0/task:0/device:GPU:0\n"
     ]
    }
   ],
   "source": [
    "from keras.preprocessing.image import ImageDataGenerator\n",
    "from keras.preprocessing.image import load_img\n",
    "from keras.preprocessing.image import img_to_array\n",
    "from keras import optimizers, initializers, regularizers, metrics\n",
    "from keras.callbacks import ModelCheckpoint\n",
    "import os\n",
    "from glob import glob\n",
    "from PIL import Image\n",
    "import matplotlib.pyplot as plt\n",
    "import numpy as np\n",
    "from numpy import expand_dims\n",
    "from keras import models\n",
    "from keras import layers\n",
    "from tensorflow.python.keras.layers import Conv2D, MaxPooling2D, Flatten\n",
    "from tensorflow.python.keras.layers import Dense, Dropout, Input\n",
    "from tensorflow.python.keras.models import Model\n",
    "from tensorflow.keras.layers import Input, Dense\n",
    "\n",
    "model = models.Sequential()\n",
    "#1층\n",
    "model.add(Conv2D(input_shape=(224,224,3), filters=64, kernel_size=(3,3), strides=(1,1), padding='same', activation='relu'))\n",
    "#2층\n",
    "model.add(Conv2D(input_shape=(224,224,64),filters=64, kernel_size=(3,3), strides=(1,1), padding='same', activation='relu'))\n",
    "#Max Pooling\n",
    "model.add(MaxPooling2D(pool_size =(2,2), strides=(2,2)))\n",
    "#3층\n",
    "model.add(Conv2D(input_shape=(112,112,64),filters=128, kernel_size=(3,3), strides=(1,1), padding ='same', activation='relu'))\n",
    "#4층\n",
    "model.add(Conv2D(input_shape=(112,112,128),filters=128, kernel_size=(3,3), strides=(1,1), padding='same', activation='relu'))\n",
    "#Max Pooling\n",
    "model.add(MaxPooling2D(pool_size =(2,2), strides=(2,2)))\n",
    "#5층\n",
    "model.add(Conv2D(input_shape=(56,56,128), filters=256, kernel_size=(3,3), strides=(1,1), padding='same', activation='relu'))\n",
    "#6층\n",
    "model.add(Conv2D(input_shape=(56,56,256), filters=256, kernel_size=(3,3), strides=(1,1), padding='same', activation='relu'))\n",
    "#7층\n",
    "model.add(Conv2D(input_shape=(56,56,256), filters=256, kernel_size=(3,3), strides=(1,1), padding='same', activation='relu'))\n",
    "#Max Pooling\n",
    "model.add(MaxPooling2D(pool_size=(2,2), strides=(2,2)))\n",
    "#8층\n",
    "model.add(Conv2D(input_shape=(28,28,256), filters=512, kernel_size=(3,3), strides=(1,1), padding='same', activation='relu'))\n",
    "#9층\n",
    "model.add(Conv2D(input_shape=(28,28,512), filters=512, kernel_size=(3,3), strides=(1,1), padding='same', activation='relu'))\n",
    "#10층\n",
    "model.add(Conv2D(input_shape=(28,28,512), filters=512, kernel_size=(3,3), strides=(1,1), padding='same', activation='relu'))\n",
    "#Max Pooling\n",
    "model.add(MaxPooling2D(pool_size=(2,2), strides=(2,2)))\n",
    "#11층\n",
    "model.add(Conv2D(input_shape=(14,14,512), filters=512, kernel_size=(3,3), strides=(1,1), padding='same', activation='relu'))\n",
    "#12층\n",
    "model.add(Conv2D(input_shape=(14,14,512), filters=512, kernel_size=(3,3), strides=(1,1), padding='same', activation='relu'))\n",
    "#13층\n",
    "model.add(Conv2D(input_shape=(14,14,512), filters=512, kernel_size=(3,3), strides=(1,1), padding='same', activation='relu'))\n",
    "#Max Pooling\n",
    "model.add(MaxPooling2D(pool_size=(2,2), strides=(2,2)))\n",
    "#14층 (fc1)\n",
    "model.add(Flatten())\n",
    "model.add(Dense(4096,activation='relu'))\n",
    "#15층 (fc2)\n",
    "model.add(Dense(4096,activation='relu'))\n",
    "model.add(Dense(2048,activation='relu'))\n",
    "model.add(Dense(1024,activation='relu'))\n",
    "model.add(Dense(512,activation='relu'))\n",
    "model.add(Dense(1,activation='sigmoid'))"
   ]
  },
  {
   "cell_type": "code",
   "execution_count": 4,
   "id": "incoming-employee",
   "metadata": {},
   "outputs": [
    {
     "name": "stdout",
     "output_type": "stream",
     "text": [
      "Model: \"sequential\"\n",
      "_________________________________________________________________\n",
      "Layer (type)                 Output Shape              Param #   \n",
      "=================================================================\n",
      "conv2d (Conv2D)              (None, 224, 224, 64)      1792      \n",
      "_________________________________________________________________\n",
      "conv2d_1 (Conv2D)            (None, 224, 224, 64)      36928     \n",
      "_________________________________________________________________\n",
      "max_pooling2d (MaxPooling2D) (None, 112, 112, 64)      0         \n",
      "_________________________________________________________________\n",
      "conv2d_2 (Conv2D)            (None, 112, 112, 128)     73856     \n",
      "_________________________________________________________________\n",
      "conv2d_3 (Conv2D)            (None, 112, 112, 128)     147584    \n",
      "_________________________________________________________________\n",
      "max_pooling2d_1 (MaxPooling2 (None, 56, 56, 128)       0         \n",
      "_________________________________________________________________\n",
      "conv2d_4 (Conv2D)            (None, 56, 56, 256)       295168    \n",
      "_________________________________________________________________\n",
      "conv2d_5 (Conv2D)            (None, 56, 56, 256)       590080    \n",
      "_________________________________________________________________\n",
      "conv2d_6 (Conv2D)            (None, 56, 56, 256)       590080    \n",
      "_________________________________________________________________\n",
      "max_pooling2d_2 (MaxPooling2 (None, 28, 28, 256)       0         \n",
      "_________________________________________________________________\n",
      "conv2d_7 (Conv2D)            (None, 28, 28, 512)       1180160   \n",
      "_________________________________________________________________\n",
      "conv2d_8 (Conv2D)            (None, 28, 28, 512)       2359808   \n",
      "_________________________________________________________________\n",
      "conv2d_9 (Conv2D)            (None, 28, 28, 512)       2359808   \n",
      "_________________________________________________________________\n",
      "max_pooling2d_3 (MaxPooling2 (None, 14, 14, 512)       0         \n",
      "_________________________________________________________________\n",
      "conv2d_10 (Conv2D)           (None, 14, 14, 512)       2359808   \n",
      "_________________________________________________________________\n",
      "conv2d_11 (Conv2D)           (None, 14, 14, 512)       2359808   \n",
      "_________________________________________________________________\n",
      "conv2d_12 (Conv2D)           (None, 14, 14, 512)       2359808   \n",
      "_________________________________________________________________\n",
      "max_pooling2d_4 (MaxPooling2 (None, 7, 7, 512)         0         \n",
      "_________________________________________________________________\n",
      "flatten (Flatten)            (None, 25088)             0         \n",
      "_________________________________________________________________\n",
      "dense (Dense)                (None, 4096)              102764544 \n",
      "_________________________________________________________________\n",
      "dense_1 (Dense)              (None, 4096)              16781312  \n",
      "_________________________________________________________________\n",
      "dense_2 (Dense)              (None, 2048)              8390656   \n",
      "_________________________________________________________________\n",
      "dense_3 (Dense)              (None, 1024)              2098176   \n",
      "_________________________________________________________________\n",
      "dense_4 (Dense)              (None, 512)               524800    \n",
      "_________________________________________________________________\n",
      "dense_5 (Dense)              (None, 1)                 513       \n",
      "=================================================================\n",
      "Total params: 145,274,689\n",
      "Trainable params: 145,274,689\n",
      "Non-trainable params: 0\n",
      "_________________________________________________________________\n"
     ]
    }
   ],
   "source": [
    "model.summary()"
   ]
  },
  {
   "cell_type": "code",
   "execution_count": 5,
   "id": "adopted-reset",
   "metadata": {},
   "outputs": [],
   "source": [
    "###vgg16으로 custom data training해보기###\n",
    "# https://aihub.or.kr/aidata/33\n",
    "# 위해물품 엑스레이 이미지 dataset"
   ]
  },
  {
   "cell_type": "code",
   "execution_count": 6,
   "id": "tamil-bowling",
   "metadata": {},
   "outputs": [],
   "source": [
    "# dataset이 용량이 너무 커서 34개의 카테고리 중 1개인, 술에 관해예측해보기\n",
    "# 4096에서 34로 바로 연결하지않고, 2048,1024,512개의 unit을 거치는 Fully Connected Layer로 연결\n",
    "# feature 정보의 손실을 줄이기 위함"
   ]
  },
  {
   "cell_type": "code",
   "execution_count": 7,
   "id": "knowing-treasurer",
   "metadata": {},
   "outputs": [],
   "source": [
    "## Labelimg를 통해 labeling을 했고, 이를 csv로 변환한후, tfrecord로 다시 변환한다."
   ]
  },
  {
   "cell_type": "code",
   "execution_count": 38,
   "id": "acoustic-contrast",
   "metadata": {},
   "outputs": [
    {
     "name": "stdout",
     "output_type": "stream",
     "text": [
      "Successfully converted xml to csv.\n",
      "Successfully converted xml to csv.\n"
     ]
    }
   ],
   "source": [
    "import os\n",
    "import glob\n",
    "import pandas as pd\n",
    "import xml.etree.ElementTree as ET\n",
    "\n",
    "\n",
    "def xml_to_csv(path):\n",
    "    xml_list = []\n",
    "    for xml_file in glob.glob('C:/Users/user/Desktop/github/study/2.논문 읽고 구현해보기/02.VGGnet(2014)/Alcohol/Alcohol/Single_Default' + '/*.xml'):\n",
    "        tree = ET.parse(xml_file)\n",
    "        root = tree.getroot()\n",
    "        for member in root.findall('object'):\n",
    "            value = (root.find('filename').text,\n",
    "                     int(root.find('size')[0].text),\n",
    "                     int(root.find('size')[1].text),\n",
    "                     member[0].text,\n",
    "                     int(member[4][0].text),\n",
    "                     int(member[4][1].text),\n",
    "                     int(member[4][2].text),\n",
    "                     int(member[4][3].text)\n",
    "                     )\n",
    "            xml_list.append(value)\n",
    "    column_name = ['filename', 'width', 'height', 'class', 'xmin', 'ymin', 'xmax', 'ymax']\n",
    "    xml_df = pd.DataFrame(xml_list, columns=column_name)\n",
    "    return xml_df\n",
    "\n",
    "\n",
    "def main():\n",
    "    for directory in ['train','test']:\n",
    "        image_path = os.path.join(os.getcwd(), 'images/{}'.format(directory))\n",
    "        xml_df = xml_to_csv(image_path)\n",
    "        xml_df.to_csv('data/{}_labels.csv'.format(directory), index=None)\n",
    "        print('Successfully converted xml to csv.')\n",
    "\n",
    "\n",
    "main()"
   ]
  },
  {
   "cell_type": "code",
   "execution_count": 8,
   "id": "viral-titanium",
   "metadata": {},
   "outputs": [],
   "source": [
    "#labelimg로 xray상의 alcohol에 라벨링\n",
    "#train = 125개 ,test = 335개\n",
    "train_dir = './Alcohol/Alcohol/vgg16_custom/train'\n",
    "test_dir = './Alcohol/Alcohol/vgg16_custom/test'\n",
    "\n",
    "IM_WIDTH = 220\n",
    "IM_HEIGHT = 220"
   ]
  },
  {
   "cell_type": "code",
   "execution_count": 9,
   "id": "advanced-portrait",
   "metadata": {},
   "outputs": [],
   "source": [
    "train_datagen = ImageDataGenerator(\n",
    "      rescale=1./255,\n",
    "      rotation_range=180, # 회전 쵀대 180도\n",
    "      width_shift_range=0.2, # 좌우 이동 최대 이미지 가로사이즈 20%\n",
    "      height_shift_range=0.2, # 상하 이동 최대 이미지  세로사이즈 20%\n",
    "      horizontal_flip=True, # 좌우 반전 실행\n",
    "      vertical_flip=True # 상하 반전 실행 \n",
    "      )"
   ]
  },
  {
   "cell_type": "code",
   "execution_count": 10,
   "id": "looking-execution",
   "metadata": {},
   "outputs": [
    {
     "name": "stdout",
     "output_type": "stream",
     "text": [
      "Found 109 images belonging to 1 classes.\n"
     ]
    }
   ],
   "source": [
    "#train_datagen.flow_from_directory() : 디렉토리에서 이미지를 읽을 객체를 생성\n",
    "#train_datagen.flow_from_directory(\n",
    "#        이미지 경로,       : TRAIN_DIR (/dental_image/train/)\n",
    "#        target_size=(이미지가로, 이미지세로), IM_WIDTH (220) x IM_HEIGHT(220)\n",
    "#        batch_size=한번에 리턴할 이미지의 개수, 16개\n",
    "#        class_mode=분류방법, categorical (다중분류) binary(0 1 로 이중 분류)\n",
    "#        shuffle=이미지를 섞을 여부\n",
    "#)\n",
    "        \n",
    "train_generator = train_datagen.flow_from_directory(\n",
    "        train_dir,\n",
    "        target_size=(IM_WIDTH, IM_HEIGHT),\n",
    "        batch_size=16,\n",
    "        class_mode='categorical',\n",
    "        shuffle=True)"
   ]
  },
  {
   "cell_type": "code",
   "execution_count": 11,
   "id": "magnetic-motorcycle",
   "metadata": {},
   "outputs": [
    {
     "name": "stdout",
     "output_type": "stream",
     "text": [
      "Found 16 images belonging to 1 classes.\n"
     ]
    }
   ],
   "source": [
    "# 검증에 사용될 이미지를 읽을 객체\n",
    "#테스트에서는 이미지를 변형 할 필요가 없으므로\n",
    "#ImageDataGenerator에 값을 주지 않음\n",
    "#이미지가 변형되지 않고 같은 이미지 리턴\n",
    "test_datagen = ImageDataGenerator( \n",
    "     rescale=1./255  \n",
    ")\n",
    "#test_datagen.flow_from_directory() : 디렉토리에서 이미지를 읽을 객체를 생성\n",
    "#test_datagen.flow_from_directory(\n",
    "#        이미지 경로,       : TEST_DIR (/dental_image/test/)\n",
    "#        target_size=(이미지가로, 이미지세로), IM_WIDTH (220) x IM_HEIGHT(220)\n",
    "#        batch_size=한번에 리턴할 이미지의 개수, 10개\n",
    "#        class_mode=분류방법, categorical (다중분류) binary(0 1 로 이중 분류)\n",
    "#        shuffle=이미지를 섞을 여부 False 섞지 않음\n",
    "#)\n",
    "        \n",
    "test_generator = test_datagen.flow_from_directory(\n",
    "        test_dir,\n",
    "        target_size=(IM_WIDTH, IM_HEIGHT),\n",
    "        batch_size=16,\n",
    "        class_mode='categorical',\n",
    "        shuffle=False)"
   ]
  },
  {
   "cell_type": "code",
   "execution_count": 12,
   "id": "married-hungary",
   "metadata": {},
   "outputs": [
    {
     "data": {
      "text/plain": [
       "109"
      ]
     },
     "execution_count": 12,
     "metadata": {},
     "output_type": "execute_result"
    }
   ],
   "source": [
    "train_generator.n"
   ]
  },
  {
   "cell_type": "code",
   "execution_count": 13,
   "id": "obvious-decision",
   "metadata": {},
   "outputs": [
    {
     "data": {
      "text/plain": [
       "16"
      ]
     },
     "execution_count": 13,
     "metadata": {},
     "output_type": "execute_result"
    }
   ],
   "source": [
    "test_generator.n"
   ]
  },
  {
   "cell_type": "code",
   "execution_count": 14,
   "id": "sophisticated-novelty",
   "metadata": {},
   "outputs": [
    {
     "name": "stdout",
     "output_type": "stream",
     "text": [
      "16\n",
      "16\n"
     ]
    }
   ],
   "source": [
    "print(train_generator.batch_size)\n",
    "print(test_generator.batch_size)"
   ]
  },
  {
   "cell_type": "code",
   "execution_count": 15,
   "id": "harmful-thomson",
   "metadata": {},
   "outputs": [
    {
     "data": {
      "text/plain": [
       "array([[[[0.9805573 , 0.98108995, 0.98345095],\n",
       "         [0.9815829 , 0.982959  , 0.98304456],\n",
       "         [0.9824556 , 0.9805432 , 0.9841802 ],\n",
       "         ...,\n",
       "         [0.9803922 , 0.9843138 , 0.9843138 ],\n",
       "         [0.9803922 , 0.9843138 , 0.9843138 ],\n",
       "         [0.9653491 , 0.9689037 , 0.96927065]],\n",
       "\n",
       "        [[0.98327345, 0.9807629 , 0.984013  ],\n",
       "         [0.98072106, 0.98398495, 0.98170334],\n",
       "         [0.9841646 , 0.98067915, 0.9822748 ],\n",
       "         ...,\n",
       "         [0.9811264 , 0.9835796 , 0.9835796 ],\n",
       "         [0.980555  , 0.984151  , 0.984151  ],\n",
       "         [0.9803922 , 0.9843138 , 0.9843138 ]],\n",
       "\n",
       "        [[0.9833716 , 0.98372006, 0.98098594],\n",
       "         [0.98129255, 0.98341346, 0.98098195],\n",
       "         [0.9838925 , 0.98125064, 0.98195213],\n",
       "         ...,\n",
       "         [0.9843138 , 0.9810846 , 0.9810846 ],\n",
       "         [0.9843138 , 0.9805131 , 0.9805131 ],\n",
       "         [0.9838631 , 0.9808428 , 0.9808428 ]],\n",
       "\n",
       "        ...,\n",
       "\n",
       "        [[0.9803922 , 0.98206687, 0.98206687],\n",
       "         [0.98259723, 0.9803922 , 0.98259723],\n",
       "         [0.9821506 , 0.9825554 , 0.9843138 ],\n",
       "         ...,\n",
       "         [0.9803922 , 0.9843138 , 0.9803922 ],\n",
       "         [0.9803922 , 0.9843138 , 0.9803922 ],\n",
       "         [0.9803922 , 0.9843138 , 0.9803922 ]],\n",
       "\n",
       "        [[0.9803922 , 0.9814954 , 0.9814954 ],\n",
       "         [0.9831688 , 0.9803922 , 0.9831688 ],\n",
       "         [0.9815791 , 0.9831269 , 0.9843138 ],\n",
       "         ...,\n",
       "         [0.9803922 , 0.9843138 , 0.9803922 ],\n",
       "         [0.9803922 , 0.9843138 , 0.9803922 ],\n",
       "         [0.9803922 , 0.9843138 , 0.9803922 ]],\n",
       "\n",
       "        [[0.9803922 , 0.9809239 , 0.9809239 ],\n",
       "         [0.98374027, 0.9803922 , 0.98374027],\n",
       "         [0.9810076 , 0.9836984 , 0.9843138 ],\n",
       "         ...,\n",
       "         [0.9803922 , 0.9843138 , 0.9803922 ],\n",
       "         [0.9803922 , 0.9843138 , 0.9803922 ],\n",
       "         [0.9803922 , 0.9843138 , 0.9803922 ]]],\n",
       "\n",
       "\n",
       "       [[[0.9826965 , 0.9803922 , 0.9843138 ],\n",
       "         [0.9843138 , 0.9803922 , 0.9843138 ],\n",
       "         [0.9843138 , 0.98079556, 0.9843138 ],\n",
       "         ...,\n",
       "         [0.9806597 , 0.9803922 , 0.9803922 ],\n",
       "         [0.9803922 , 0.9826842 , 0.9826842 ],\n",
       "         [0.9803922 , 0.9843138 , 0.98338383]],\n",
       "\n",
       "        [[0.9806475 , 0.9806475 , 0.9843138 ],\n",
       "         [0.98310804, 0.9803922 , 0.9843138 ],\n",
       "         [0.9843138 , 0.9803922 , 0.9843138 ],\n",
       "         ...,\n",
       "         [0.9803922 , 0.98309577, 0.98309577],\n",
       "         [0.9803922 , 0.9843138 , 0.98297226],\n",
       "         [0.9803922 , 0.9843138 , 0.9804127 ]],\n",
       "\n",
       "        [[0.983207  , 0.983207  , 0.9843138 ],\n",
       "         [0.9805485 , 0.9803922 , 0.9843138 ],\n",
       "         [0.9835196 , 0.9803922 , 0.9843138 ],\n",
       "         ...,\n",
       "         [0.9803922 , 0.9843138 , 0.9825607 ],\n",
       "         [0.9807833 , 0.9843138 , 0.9803922 ],\n",
       "         [0.98334277, 0.9843138 , 0.9803922 ]],\n",
       "\n",
       "        ...,\n",
       "\n",
       "        [[0.8196079 , 0.8196079 , 0.82583755],\n",
       "         [0.8196079 , 0.8196079 , 0.82634044],\n",
       "         [0.8196079 , 0.8196079 , 0.83128566],\n",
       "         ...,\n",
       "         [0.9803922 , 0.9843138 , 0.982896  ],\n",
       "         [0.9803922 , 0.9843138 , 0.9808596 ],\n",
       "         [0.9803922 , 0.9843138 , 0.98383063]],\n",
       "\n",
       "        [[0.8196079 , 0.8196079 , 0.8271636 ],\n",
       "         [0.8196079 , 0.8196079 , 0.8304626 ],\n",
       "         [0.8196079 , 0.8196079 , 0.8253435 ],\n",
       "         ...,\n",
       "         [0.9803922 , 0.983172  , 0.983172  ],\n",
       "         [0.9803922 , 0.9843138 , 0.9824844 ],\n",
       "         [0.9803922 , 0.9843138 , 0.98127115]],\n",
       "\n",
       "        [[0.8196079 , 0.8196079 , 0.82963943],\n",
       "         [0.8196079 , 0.8196079 , 0.82452035],\n",
       "         [0.8196079 , 0.8196079 , 0.8235295 ],\n",
       "         ...,\n",
       "         [0.9803922 , 0.98061246, 0.98061246],\n",
       "         [0.9803922 , 0.98358357, 0.98358357],\n",
       "         [0.9803922 , 0.9843138 , 0.98207283]]],\n",
       "\n",
       "\n",
       "       [[[0.8196079 , 0.8196079 , 0.8313726 ],\n",
       "         [0.8196079 , 0.8196079 , 0.8252465 ],\n",
       "         [0.8196079 , 0.8196079 , 0.8284171 ],\n",
       "         ...,\n",
       "         [0.9843138 , 0.9843138 , 0.9843138 ],\n",
       "         [0.9843138 , 0.9843138 , 0.9843138 ],\n",
       "         [0.9843138 , 0.98389053, 0.98389053]],\n",
       "\n",
       "        [[0.8196079 , 0.8196079 , 0.8313726 ],\n",
       "         [0.8196079 , 0.8196079 , 0.8294764 ],\n",
       "         [0.8196079 , 0.8196079 , 0.8241872 ],\n",
       "         ...,\n",
       "         [0.9843138 , 0.9843138 , 0.9843138 ],\n",
       "         [0.9843138 , 0.98270315, 0.98270315],\n",
       "         [0.9843138 , 0.9805882 , 0.9805882 ]],\n",
       "\n",
       "        [[0.8196079 , 0.8196079 , 0.8313726 ],\n",
       "         [0.8196079 , 0.8196079 , 0.8313726 ],\n",
       "         [0.8196079 , 0.8196079 , 0.8271017 ],\n",
       "         ...,\n",
       "         [0.9843138 , 0.9815158 , 0.9815158 ],\n",
       "         [0.9833224 , 0.9813836 , 0.9813836 ],\n",
       "         [0.9812074 , 0.98349863, 0.98349863]],\n",
       "\n",
       "        ...,\n",
       "\n",
       "        [[0.9843138 , 0.98326766, 0.98143834],\n",
       "         [0.9832449 , 0.9843138 , 0.9814611 ],\n",
       "         [0.9811299 , 0.9843138 , 0.9835761 ],\n",
       "         ...,\n",
       "         [0.98291355, 0.98179245, 0.9803922 ],\n",
       "         [0.9843138 , 0.9822944 , 0.9822944 ],\n",
       "         [0.9843138 , 0.9843138 , 0.9843138 ]],\n",
       "\n",
       "        [[0.9820575 , 0.9843138 , 0.9826485 ],\n",
       "         [0.9808419 , 0.9843138 , 0.98386407],\n",
       "         [0.9829569 , 0.9843138 , 0.9817491 ],\n",
       "         ...,\n",
       "         [0.9807986 , 0.9839074 , 0.9803922 ],\n",
       "         [0.98410094, 0.98060507, 0.9803922 ],\n",
       "         [0.9843138 , 0.9834817 , 0.9834817 ]],\n",
       "\n",
       "        [[0.98202926, 0.9843138 , 0.98267674],\n",
       "         [0.9841443 , 0.9843138 , 0.98056173],\n",
       "         [0.9843138 , 0.9823683 , 0.98233765],\n",
       "         ...,\n",
       "         [0.98210084, 0.98260516, 0.9803922 ],\n",
       "         [0.9819859 , 0.9827201 , 0.9803922 ],\n",
       "         [0.9843138 , 0.98136675, 0.98136675]]],\n",
       "\n",
       "\n",
       "       ...,\n",
       "\n",
       "\n",
       "       [[[0.98186   , 0.98186   , 0.98186   ],\n",
       "         [0.98312765, 0.9843138 , 0.98312765],\n",
       "         [0.9803922 , 0.9843138 , 0.98129666],\n",
       "         ...,\n",
       "         [0.9820291 , 0.9826769 , 0.9803922 ],\n",
       "         [0.9834885 , 0.9812175 , 0.9803922 ],\n",
       "         [0.98367965, 0.98102635, 0.98102635]],\n",
       "\n",
       "        [[0.9804006 , 0.9804006 , 0.9804006 ],\n",
       "         [0.9840405 , 0.9840405 , 0.9840405 ],\n",
       "         [0.98094714, 0.9843138 , 0.98094714],\n",
       "         ...,\n",
       "         [0.98295856, 0.98174745, 0.98174745],\n",
       "         [0.98149914, 0.9832068 , 0.9832068 ],\n",
       "         [0.9803922 , 0.9843138 , 0.98396134]],\n",
       "\n",
       "        [[0.98184323, 0.9803922 , 0.98184323],\n",
       "         [0.9825811 , 0.9825811 , 0.9825811 ],\n",
       "         [0.98240656, 0.9843138 , 0.98240656],\n",
       "         ...,\n",
       "         [0.9803922 , 0.9843138 , 0.98324025],\n",
       "         [0.9803922 , 0.9843138 , 0.9817808 ],\n",
       "         [0.980463  , 0.9843138 , 0.9803922 ]],\n",
       "\n",
       "        ...,\n",
       "\n",
       "        [[0.8196079 , 0.8196079 , 0.8307708 ],\n",
       "         [0.8196079 , 0.8196079 , 0.8278521 ],\n",
       "         [0.8196079 , 0.8196079 , 0.82493335],\n",
       "         ...,\n",
       "         [0.980524  , 0.980524  , 0.9843138 ],\n",
       "         [0.9841639 , 0.9841639 , 0.9843138 ],\n",
       "         [0.98082376, 0.98082376, 0.9843138 ]],\n",
       "\n",
       "        [[0.8196079 , 0.8196079 , 0.82356787],\n",
       "         [0.8196079 , 0.8196079 , 0.82648665],\n",
       "         [0.8196079 , 0.8196079 , 0.8294054 ],\n",
       "         ...,\n",
       "         [0.98171985, 0.98171985, 0.9843138 ],\n",
       "         [0.98270446, 0.98270446, 0.9843138 ],\n",
       "         [0.9822832 , 0.9822832 , 0.9843138 ]],\n",
       "\n",
       "        [[0.8196079 , 0.8196079 , 0.8308477 ],\n",
       "         [0.8196079 , 0.8196079 , 0.8313726 ],\n",
       "         [0.8196079 , 0.8196079 , 0.8313726 ],\n",
       "         ...,\n",
       "         [0.9831793 , 0.9831793 , 0.9843138 ],\n",
       "         [0.9812451 , 0.9812451 , 0.9843138 ],\n",
       "         [0.9837426 , 0.9837426 , 0.9843138 ]]],\n",
       "\n",
       "\n",
       "       [[[0.8196079 , 0.8196079 , 0.8313726 ],\n",
       "         [0.82046604, 0.8196079 , 0.8313726 ],\n",
       "         [0.8220647 , 0.8196079 , 0.8313726 ],\n",
       "         ...,\n",
       "         [0.98143417, 0.9843138 , 0.9803922 ],\n",
       "         [0.9829312 , 0.9843138 , 0.9829312 ],\n",
       "         [0.98211545, 0.9843138 , 0.9843138 ]],\n",
       "\n",
       "        [[0.8196079 , 0.8196079 , 0.8313726 ],\n",
       "         [0.8196079 , 0.8196079 , 0.8313726 ],\n",
       "         [0.8196079 , 0.8196079 , 0.8313726 ],\n",
       "         ...,\n",
       "         [0.98094887, 0.9843138 , 0.98094887],\n",
       "         [0.9840977 , 0.9843138 , 0.9843138 ],\n",
       "         [0.9805168 , 0.9843138 , 0.9843138 ]],\n",
       "\n",
       "        [[0.8196079 , 0.8196079 , 0.8313726 ],\n",
       "         [0.8196079 , 0.8196079 , 0.8313726 ],\n",
       "         [0.8196079 , 0.8196079 , 0.8313726 ],\n",
       "         ...,\n",
       "         [0.9825476 , 0.9843138 , 0.9825476 ],\n",
       "         [0.98249906, 0.9843138 , 0.9843138 ],\n",
       "         [0.9803922 , 0.9828397 , 0.9828397 ]],\n",
       "\n",
       "        ...,\n",
       "\n",
       "        [[0.9805692 , 0.9841368 , 0.9843138 ],\n",
       "         [0.9841501 , 0.9805559 , 0.9843138 ],\n",
       "         [0.98089653, 0.9803922 , 0.98089653],\n",
       "         ...,\n",
       "         [0.9808706 , 0.9808706 , 0.9838354 ],\n",
       "         [0.98246926, 0.98246926, 0.98223674],\n",
       "         [0.9840679 , 0.9840679 , 0.9806381 ]],\n",
       "\n",
       "        [[0.9821678 , 0.9825382 , 0.9843138 ],\n",
       "         [0.9828788 , 0.9803922 , 0.9828788 ],\n",
       "         [0.9803922 , 0.98148656, 0.98148656],\n",
       "         ...,\n",
       "         [0.9803922 , 0.9803922 , 0.9812113 ],\n",
       "         [0.9803922 , 0.9803922 , 0.9828099 ],\n",
       "         [0.980487  , 0.980487  , 0.984219  ]],\n",
       "\n",
       "        [[0.9837665 , 0.9809395 , 0.9843138 ],\n",
       "         [0.98128015, 0.9803922 , 0.98128015],\n",
       "         [0.9803922 , 0.98308516, 0.98308516],\n",
       "         ...,\n",
       "         [0.9803922 , 0.98315406, 0.98315406],\n",
       "         [0.9803922 , 0.9815554 , 0.9815554 ],\n",
       "         [0.9803922 , 0.9803922 , 0.9808276 ]]],\n",
       "\n",
       "\n",
       "       [[[0.9803922 , 0.9843138 , 0.9843138 ],\n",
       "         [0.9803922 , 0.9843138 , 0.9843138 ],\n",
       "         [0.9803922 , 0.9843138 , 0.9843138 ],\n",
       "         ...,\n",
       "         [0.9843138 , 0.9816648 , 0.9816648 ],\n",
       "         [0.9843138 , 0.9843138 , 0.9831124 ],\n",
       "         [0.9831837 , 0.9843138 , 0.9803922 ]],\n",
       "\n",
       "        [[0.9819397 , 0.9843138 , 0.9843138 ],\n",
       "         [0.98119557, 0.9843138 , 0.9843138 ],\n",
       "         [0.9804514 , 0.9843138 , 0.9843138 ],\n",
       "         ...,\n",
       "         [0.9843138 , 0.98240894, 0.98240894],\n",
       "         [0.9843138 , 0.9843138 , 0.98236823],\n",
       "         [0.9824395 , 0.9843138 , 0.9803922 ]],\n",
       "\n",
       "        [[0.9843138 , 0.98283756, 0.98283756],\n",
       "         [0.9843138 , 0.9835817 , 0.9835817 ],\n",
       "         [0.9843017 , 0.9843138 , 0.9843138 ],\n",
       "         ...,\n",
       "         [0.9843138 , 0.9831531 , 0.9831531 ],\n",
       "         [0.9843138 , 0.9843138 , 0.9816241 ],\n",
       "         [0.98169535, 0.9843138 , 0.9803922 ]],\n",
       "\n",
       "        ...,\n",
       "\n",
       "        [[0.9803922 , 0.98223543, 0.9843138 ],\n",
       "         [0.9803922 , 0.98149127, 0.9843138 ],\n",
       "         [0.9803922 , 0.9807471 , 0.9843138 ],\n",
       "         ...,\n",
       "         [0.48714915, 0.48657873, 0.48657873],\n",
       "         [0.49402025, 0.49402025, 0.49402025],\n",
       "         [0.50093675, 0.50111955, 0.50111955]],\n",
       "\n",
       "        [[0.9803922 , 0.9843138 , 0.9825418 ],\n",
       "         [0.9803922 , 0.9843138 , 0.983286  ],\n",
       "         [0.9803922 , 0.9843138 , 0.9840301 ],\n",
       "         ...,\n",
       "         [0.45217663, 0.45129997, 0.45129997],\n",
       "         [0.45628622, 0.45650902, 0.45628622],\n",
       "         [0.46295866, 0.46295866, 0.46295866]],\n",
       "\n",
       "        [[0.9820929 , 0.9826131 , 0.9820929 ],\n",
       "         [0.9813488 , 0.9833572 , 0.9813488 ],\n",
       "         [0.98060465, 0.98410136, 0.98060465],\n",
       "         ...,\n",
       "         [0.42234066, 0.42234066, 0.42234066],\n",
       "         [0.42587525, 0.42903805, 0.42587525],\n",
       "         [0.4313291 , 0.43476588, 0.43423483]]]], dtype=float32)"
      ]
     },
     "execution_count": 15,
     "metadata": {},
     "output_type": "execute_result"
    }
   ],
   "source": [
    "img, label = train_generator.next()\n",
    "img"
   ]
  },
  {
   "cell_type": "code",
   "execution_count": 16,
   "id": "healthy-bundle",
   "metadata": {},
   "outputs": [
    {
     "data": {
      "text/plain": [
       "(16, 220, 220, 3)"
      ]
     },
     "execution_count": 16,
     "metadata": {},
     "output_type": "execute_result"
    }
   ],
   "source": [
    "img.shape"
   ]
  },
  {
   "cell_type": "code",
   "execution_count": 17,
   "id": "blind-essence",
   "metadata": {},
   "outputs": [
    {
     "data": {
      "text/plain": [
       "array([[1.],\n",
       "       [1.],\n",
       "       [1.],\n",
       "       [1.],\n",
       "       [1.],\n",
       "       [1.],\n",
       "       [1.],\n",
       "       [1.],\n",
       "       [1.],\n",
       "       [1.],\n",
       "       [1.],\n",
       "       [1.],\n",
       "       [1.],\n",
       "       [1.],\n",
       "       [1.],\n",
       "       [1.]], dtype=float32)"
      ]
     },
     "execution_count": 17,
     "metadata": {},
     "output_type": "execute_result"
    }
   ],
   "source": [
    "label"
   ]
  },
  {
   "cell_type": "code",
   "execution_count": 18,
   "id": "genetic-specialist",
   "metadata": {},
   "outputs": [
    {
     "name": "stdout",
     "output_type": "stream",
     "text": [
      "Executing op VarHandleOp in device /job:localhost/replica:0/task:0/device:GPU:0\n"
     ]
    }
   ],
   "source": [
    "model.compile(optimizer='adam',\n",
    "             loss = 'binary_crossentropy',\n",
    "             metrics=['acc'])"
   ]
  },
  {
   "cell_type": "code",
   "execution_count": 20,
   "id": "cultural-banner",
   "metadata": {},
   "outputs": [
    {
     "name": "stdout",
     "output_type": "stream",
     "text": [
      "Executing op TensorDataset in device /job:localhost/replica:0/task:0/device:CPU:0\n",
      "Executing op FlatMapDataset in device /job:localhost/replica:0/task:0/device:CPU:0\n",
      "Executing op PrefetchDataset in device /job:localhost/replica:0/task:0/device:CPU:0\n",
      "Executing op OptimizeDataset in device /job:localhost/replica:0/task:0/device:CPU:0\n",
      "Executing op ModelDataset in device /job:localhost/replica:0/task:0/device:CPU:0\n",
      "Executing op OptimizeDataset in device /job:localhost/replica:0/task:0/device:CPU:0\n",
      "Executing op ModelDataset in device /job:localhost/replica:0/task:0/device:CPU:0\n",
      "Epoch 1/20\n"
     ]
    },
    {
     "ename": "UnknownError",
     "evalue": " Failed to get convolution algorithm. This is probably because cuDNN failed to initialize, so try looking to see if a warning log message was printed above.\n\t [[node sequential/conv2d/Conv2D (defined at <ipython-input-19-d4d9553b7342>:1) ]] [Op:__inference_train_function_2231]\n\nFunction call stack:\ntrain_function\n",
     "output_type": "error",
     "traceback": [
      "\u001b[1;31m---------------------------------------------------------------------------\u001b[0m",
      "\u001b[1;31mUnknownError\u001b[0m                              Traceback (most recent call last)",
      "\u001b[1;32m<ipython-input-20-868118377116>\u001b[0m in \u001b[0;36m<module>\u001b[1;34m\u001b[0m\n\u001b[1;32m----> 1\u001b[1;33m \u001b[0mmodel\u001b[0m\u001b[1;33m.\u001b[0m\u001b[0mfit\u001b[0m\u001b[1;33m(\u001b[0m\u001b[0mtrain_generator\u001b[0m\u001b[1;33m,\u001b[0m \u001b[0mepochs\u001b[0m\u001b[1;33m=\u001b[0m\u001b[1;36m20\u001b[0m\u001b[1;33m)\u001b[0m\u001b[1;33m\u001b[0m\u001b[1;33m\u001b[0m\u001b[0m\n\u001b[0m",
      "\u001b[1;32mc:\\users\\user\\appdata\\local\\programs\\python\\python37\\lib\\site-packages\\tensorflow\\python\\keras\\engine\\training.py\u001b[0m in \u001b[0;36m_method_wrapper\u001b[1;34m(self, *args, **kwargs)\u001b[0m\n\u001b[0;32m     64\u001b[0m   \u001b[1;32mdef\u001b[0m \u001b[0m_method_wrapper\u001b[0m\u001b[1;33m(\u001b[0m\u001b[0mself\u001b[0m\u001b[1;33m,\u001b[0m \u001b[1;33m*\u001b[0m\u001b[0margs\u001b[0m\u001b[1;33m,\u001b[0m \u001b[1;33m**\u001b[0m\u001b[0mkwargs\u001b[0m\u001b[1;33m)\u001b[0m\u001b[1;33m:\u001b[0m\u001b[1;33m\u001b[0m\u001b[1;33m\u001b[0m\u001b[0m\n\u001b[0;32m     65\u001b[0m     \u001b[1;32mif\u001b[0m \u001b[1;32mnot\u001b[0m \u001b[0mself\u001b[0m\u001b[1;33m.\u001b[0m\u001b[0m_in_multi_worker_mode\u001b[0m\u001b[1;33m(\u001b[0m\u001b[1;33m)\u001b[0m\u001b[1;33m:\u001b[0m  \u001b[1;31m# pylint: disable=protected-access\u001b[0m\u001b[1;33m\u001b[0m\u001b[1;33m\u001b[0m\u001b[0m\n\u001b[1;32m---> 66\u001b[1;33m       \u001b[1;32mreturn\u001b[0m \u001b[0mmethod\u001b[0m\u001b[1;33m(\u001b[0m\u001b[0mself\u001b[0m\u001b[1;33m,\u001b[0m \u001b[1;33m*\u001b[0m\u001b[0margs\u001b[0m\u001b[1;33m,\u001b[0m \u001b[1;33m**\u001b[0m\u001b[0mkwargs\u001b[0m\u001b[1;33m)\u001b[0m\u001b[1;33m\u001b[0m\u001b[1;33m\u001b[0m\u001b[0m\n\u001b[0m\u001b[0;32m     67\u001b[0m \u001b[1;33m\u001b[0m\u001b[0m\n\u001b[0;32m     68\u001b[0m     \u001b[1;31m# Running inside `run_distribute_coordinator` already.\u001b[0m\u001b[1;33m\u001b[0m\u001b[1;33m\u001b[0m\u001b[1;33m\u001b[0m\u001b[0m\n",
      "\u001b[1;32mc:\\users\\user\\appdata\\local\\programs\\python\\python37\\lib\\site-packages\\tensorflow\\python\\keras\\engine\\training.py\u001b[0m in \u001b[0;36mfit\u001b[1;34m(self, x, y, batch_size, epochs, verbose, callbacks, validation_split, validation_data, shuffle, class_weight, sample_weight, initial_epoch, steps_per_epoch, validation_steps, validation_batch_size, validation_freq, max_queue_size, workers, use_multiprocessing)\u001b[0m\n\u001b[0;32m    846\u001b[0m                 batch_size=batch_size):\n\u001b[0;32m    847\u001b[0m               \u001b[0mcallbacks\u001b[0m\u001b[1;33m.\u001b[0m\u001b[0mon_train_batch_begin\u001b[0m\u001b[1;33m(\u001b[0m\u001b[0mstep\u001b[0m\u001b[1;33m)\u001b[0m\u001b[1;33m\u001b[0m\u001b[1;33m\u001b[0m\u001b[0m\n\u001b[1;32m--> 848\u001b[1;33m               \u001b[0mtmp_logs\u001b[0m \u001b[1;33m=\u001b[0m \u001b[0mtrain_function\u001b[0m\u001b[1;33m(\u001b[0m\u001b[0miterator\u001b[0m\u001b[1;33m)\u001b[0m\u001b[1;33m\u001b[0m\u001b[1;33m\u001b[0m\u001b[0m\n\u001b[0m\u001b[0;32m    849\u001b[0m               \u001b[1;31m# Catch OutOfRangeError for Datasets of unknown size.\u001b[0m\u001b[1;33m\u001b[0m\u001b[1;33m\u001b[0m\u001b[1;33m\u001b[0m\u001b[0m\n\u001b[0;32m    850\u001b[0m               \u001b[1;31m# This blocks until the batch has finished executing.\u001b[0m\u001b[1;33m\u001b[0m\u001b[1;33m\u001b[0m\u001b[1;33m\u001b[0m\u001b[0m\n",
      "\u001b[1;32mc:\\users\\user\\appdata\\local\\programs\\python\\python37\\lib\\site-packages\\tensorflow\\python\\eager\\def_function.py\u001b[0m in \u001b[0;36m__call__\u001b[1;34m(self, *args, **kwds)\u001b[0m\n\u001b[0;32m    578\u001b[0m         \u001b[0mxla_context\u001b[0m\u001b[1;33m.\u001b[0m\u001b[0mExit\u001b[0m\u001b[1;33m(\u001b[0m\u001b[1;33m)\u001b[0m\u001b[1;33m\u001b[0m\u001b[1;33m\u001b[0m\u001b[0m\n\u001b[0;32m    579\u001b[0m     \u001b[1;32melse\u001b[0m\u001b[1;33m:\u001b[0m\u001b[1;33m\u001b[0m\u001b[1;33m\u001b[0m\u001b[0m\n\u001b[1;32m--> 580\u001b[1;33m       \u001b[0mresult\u001b[0m \u001b[1;33m=\u001b[0m \u001b[0mself\u001b[0m\u001b[1;33m.\u001b[0m\u001b[0m_call\u001b[0m\u001b[1;33m(\u001b[0m\u001b[1;33m*\u001b[0m\u001b[0margs\u001b[0m\u001b[1;33m,\u001b[0m \u001b[1;33m**\u001b[0m\u001b[0mkwds\u001b[0m\u001b[1;33m)\u001b[0m\u001b[1;33m\u001b[0m\u001b[1;33m\u001b[0m\u001b[0m\n\u001b[0m\u001b[0;32m    581\u001b[0m \u001b[1;33m\u001b[0m\u001b[0m\n\u001b[0;32m    582\u001b[0m     \u001b[1;32mif\u001b[0m \u001b[0mtracing_count\u001b[0m \u001b[1;33m==\u001b[0m \u001b[0mself\u001b[0m\u001b[1;33m.\u001b[0m\u001b[0m_get_tracing_count\u001b[0m\u001b[1;33m(\u001b[0m\u001b[1;33m)\u001b[0m\u001b[1;33m:\u001b[0m\u001b[1;33m\u001b[0m\u001b[1;33m\u001b[0m\u001b[0m\n",
      "\u001b[1;32mc:\\users\\user\\appdata\\local\\programs\\python\\python37\\lib\\site-packages\\tensorflow\\python\\eager\\def_function.py\u001b[0m in \u001b[0;36m_call\u001b[1;34m(self, *args, **kwds)\u001b[0m\n\u001b[0;32m    609\u001b[0m       \u001b[1;31m# In this case we have created variables on the first call, so we run the\u001b[0m\u001b[1;33m\u001b[0m\u001b[1;33m\u001b[0m\u001b[1;33m\u001b[0m\u001b[0m\n\u001b[0;32m    610\u001b[0m       \u001b[1;31m# defunned version which is guaranteed to never create variables.\u001b[0m\u001b[1;33m\u001b[0m\u001b[1;33m\u001b[0m\u001b[1;33m\u001b[0m\u001b[0m\n\u001b[1;32m--> 611\u001b[1;33m       \u001b[1;32mreturn\u001b[0m \u001b[0mself\u001b[0m\u001b[1;33m.\u001b[0m\u001b[0m_stateless_fn\u001b[0m\u001b[1;33m(\u001b[0m\u001b[1;33m*\u001b[0m\u001b[0margs\u001b[0m\u001b[1;33m,\u001b[0m \u001b[1;33m**\u001b[0m\u001b[0mkwds\u001b[0m\u001b[1;33m)\u001b[0m  \u001b[1;31m# pylint: disable=not-callable\u001b[0m\u001b[1;33m\u001b[0m\u001b[1;33m\u001b[0m\u001b[0m\n\u001b[0m\u001b[0;32m    612\u001b[0m     \u001b[1;32melif\u001b[0m \u001b[0mself\u001b[0m\u001b[1;33m.\u001b[0m\u001b[0m_stateful_fn\u001b[0m \u001b[1;32mis\u001b[0m \u001b[1;32mnot\u001b[0m \u001b[1;32mNone\u001b[0m\u001b[1;33m:\u001b[0m\u001b[1;33m\u001b[0m\u001b[1;33m\u001b[0m\u001b[0m\n\u001b[0;32m    613\u001b[0m       \u001b[1;31m# Release the lock early so that multiple threads can perform the call\u001b[0m\u001b[1;33m\u001b[0m\u001b[1;33m\u001b[0m\u001b[1;33m\u001b[0m\u001b[0m\n",
      "\u001b[1;32mc:\\users\\user\\appdata\\local\\programs\\python\\python37\\lib\\site-packages\\tensorflow\\python\\eager\\function.py\u001b[0m in \u001b[0;36m__call__\u001b[1;34m(self, *args, **kwargs)\u001b[0m\n\u001b[0;32m   2418\u001b[0m     \u001b[1;32mwith\u001b[0m \u001b[0mself\u001b[0m\u001b[1;33m.\u001b[0m\u001b[0m_lock\u001b[0m\u001b[1;33m:\u001b[0m\u001b[1;33m\u001b[0m\u001b[1;33m\u001b[0m\u001b[0m\n\u001b[0;32m   2419\u001b[0m       \u001b[0mgraph_function\u001b[0m\u001b[1;33m,\u001b[0m \u001b[0margs\u001b[0m\u001b[1;33m,\u001b[0m \u001b[0mkwargs\u001b[0m \u001b[1;33m=\u001b[0m \u001b[0mself\u001b[0m\u001b[1;33m.\u001b[0m\u001b[0m_maybe_define_function\u001b[0m\u001b[1;33m(\u001b[0m\u001b[0margs\u001b[0m\u001b[1;33m,\u001b[0m \u001b[0mkwargs\u001b[0m\u001b[1;33m)\u001b[0m\u001b[1;33m\u001b[0m\u001b[1;33m\u001b[0m\u001b[0m\n\u001b[1;32m-> 2420\u001b[1;33m     \u001b[1;32mreturn\u001b[0m \u001b[0mgraph_function\u001b[0m\u001b[1;33m.\u001b[0m\u001b[0m_filtered_call\u001b[0m\u001b[1;33m(\u001b[0m\u001b[0margs\u001b[0m\u001b[1;33m,\u001b[0m \u001b[0mkwargs\u001b[0m\u001b[1;33m)\u001b[0m  \u001b[1;31m# pylint: disable=protected-access\u001b[0m\u001b[1;33m\u001b[0m\u001b[1;33m\u001b[0m\u001b[0m\n\u001b[0m\u001b[0;32m   2421\u001b[0m \u001b[1;33m\u001b[0m\u001b[0m\n\u001b[0;32m   2422\u001b[0m   \u001b[1;33m@\u001b[0m\u001b[0mproperty\u001b[0m\u001b[1;33m\u001b[0m\u001b[1;33m\u001b[0m\u001b[0m\n",
      "\u001b[1;32mc:\\users\\user\\appdata\\local\\programs\\python\\python37\\lib\\site-packages\\tensorflow\\python\\eager\\function.py\u001b[0m in \u001b[0;36m_filtered_call\u001b[1;34m(self, args, kwargs)\u001b[0m\n\u001b[0;32m   1663\u001b[0m          if isinstance(t, (ops.Tensor,\n\u001b[0;32m   1664\u001b[0m                            resource_variable_ops.BaseResourceVariable))),\n\u001b[1;32m-> 1665\u001b[1;33m         self.captured_inputs)\n\u001b[0m\u001b[0;32m   1666\u001b[0m \u001b[1;33m\u001b[0m\u001b[0m\n\u001b[0;32m   1667\u001b[0m   \u001b[1;32mdef\u001b[0m \u001b[0m_call_flat\u001b[0m\u001b[1;33m(\u001b[0m\u001b[0mself\u001b[0m\u001b[1;33m,\u001b[0m \u001b[0margs\u001b[0m\u001b[1;33m,\u001b[0m \u001b[0mcaptured_inputs\u001b[0m\u001b[1;33m,\u001b[0m \u001b[0mcancellation_manager\u001b[0m\u001b[1;33m=\u001b[0m\u001b[1;32mNone\u001b[0m\u001b[1;33m)\u001b[0m\u001b[1;33m:\u001b[0m\u001b[1;33m\u001b[0m\u001b[1;33m\u001b[0m\u001b[0m\n",
      "\u001b[1;32mc:\\users\\user\\appdata\\local\\programs\\python\\python37\\lib\\site-packages\\tensorflow\\python\\eager\\function.py\u001b[0m in \u001b[0;36m_call_flat\u001b[1;34m(self, args, captured_inputs, cancellation_manager)\u001b[0m\n\u001b[0;32m   1744\u001b[0m       \u001b[1;31m# No tape is watching; skip to running the function.\u001b[0m\u001b[1;33m\u001b[0m\u001b[1;33m\u001b[0m\u001b[1;33m\u001b[0m\u001b[0m\n\u001b[0;32m   1745\u001b[0m       return self._build_call_outputs(self._inference_function.call(\n\u001b[1;32m-> 1746\u001b[1;33m           ctx, args, cancellation_manager=cancellation_manager))\n\u001b[0m\u001b[0;32m   1747\u001b[0m     forward_backward = self._select_forward_and_backward_functions(\n\u001b[0;32m   1748\u001b[0m         \u001b[0margs\u001b[0m\u001b[1;33m,\u001b[0m\u001b[1;33m\u001b[0m\u001b[1;33m\u001b[0m\u001b[0m\n",
      "\u001b[1;32mc:\\users\\user\\appdata\\local\\programs\\python\\python37\\lib\\site-packages\\tensorflow\\python\\eager\\function.py\u001b[0m in \u001b[0;36mcall\u001b[1;34m(self, ctx, args, cancellation_manager)\u001b[0m\n\u001b[0;32m    596\u001b[0m               \u001b[0minputs\u001b[0m\u001b[1;33m=\u001b[0m\u001b[0margs\u001b[0m\u001b[1;33m,\u001b[0m\u001b[1;33m\u001b[0m\u001b[1;33m\u001b[0m\u001b[0m\n\u001b[0;32m    597\u001b[0m               \u001b[0mattrs\u001b[0m\u001b[1;33m=\u001b[0m\u001b[0mattrs\u001b[0m\u001b[1;33m,\u001b[0m\u001b[1;33m\u001b[0m\u001b[1;33m\u001b[0m\u001b[0m\n\u001b[1;32m--> 598\u001b[1;33m               ctx=ctx)\n\u001b[0m\u001b[0;32m    599\u001b[0m         \u001b[1;32melse\u001b[0m\u001b[1;33m:\u001b[0m\u001b[1;33m\u001b[0m\u001b[1;33m\u001b[0m\u001b[0m\n\u001b[0;32m    600\u001b[0m           outputs = execute.execute_with_cancellation(\n",
      "\u001b[1;32mc:\\users\\user\\appdata\\local\\programs\\python\\python37\\lib\\site-packages\\tensorflow\\python\\eager\\execute.py\u001b[0m in \u001b[0;36mquick_execute\u001b[1;34m(op_name, num_outputs, inputs, attrs, ctx, name)\u001b[0m\n\u001b[0;32m     58\u001b[0m     \u001b[0mctx\u001b[0m\u001b[1;33m.\u001b[0m\u001b[0mensure_initialized\u001b[0m\u001b[1;33m(\u001b[0m\u001b[1;33m)\u001b[0m\u001b[1;33m\u001b[0m\u001b[1;33m\u001b[0m\u001b[0m\n\u001b[0;32m     59\u001b[0m     tensors = pywrap_tfe.TFE_Py_Execute(ctx._handle, device_name, op_name,\n\u001b[1;32m---> 60\u001b[1;33m                                         inputs, attrs, num_outputs)\n\u001b[0m\u001b[0;32m     61\u001b[0m   \u001b[1;32mexcept\u001b[0m \u001b[0mcore\u001b[0m\u001b[1;33m.\u001b[0m\u001b[0m_NotOkStatusException\u001b[0m \u001b[1;32mas\u001b[0m \u001b[0me\u001b[0m\u001b[1;33m:\u001b[0m\u001b[1;33m\u001b[0m\u001b[1;33m\u001b[0m\u001b[0m\n\u001b[0;32m     62\u001b[0m     \u001b[1;32mif\u001b[0m \u001b[0mname\u001b[0m \u001b[1;32mis\u001b[0m \u001b[1;32mnot\u001b[0m \u001b[1;32mNone\u001b[0m\u001b[1;33m:\u001b[0m\u001b[1;33m\u001b[0m\u001b[1;33m\u001b[0m\u001b[0m\n",
      "\u001b[1;31mUnknownError\u001b[0m:  Failed to get convolution algorithm. This is probably because cuDNN failed to initialize, so try looking to see if a warning log message was printed above.\n\t [[node sequential/conv2d/Conv2D (defined at <ipython-input-19-d4d9553b7342>:1) ]] [Op:__inference_train_function_2231]\n\nFunction call stack:\ntrain_function\n"
     ]
    }
   ],
   "source": [
    "model.fit(train_generator, epochs=20)"
   ]
  },
  {
   "cell_type": "code",
   "execution_count": null,
   "id": "changed-trauma",
   "metadata": {},
   "outputs": [],
   "source": []
  }
 ],
 "metadata": {
  "kernelspec": {
   "display_name": "Python 3",
   "language": "python",
   "name": "python3"
  },
  "language_info": {
   "codemirror_mode": {
    "name": "ipython",
    "version": 3
   },
   "file_extension": ".py",
   "mimetype": "text/x-python",
   "name": "python",
   "nbconvert_exporter": "python",
   "pygments_lexer": "ipython3",
   "version": "3.7.7"
  }
 },
 "nbformat": 4,
 "nbformat_minor": 5
}
