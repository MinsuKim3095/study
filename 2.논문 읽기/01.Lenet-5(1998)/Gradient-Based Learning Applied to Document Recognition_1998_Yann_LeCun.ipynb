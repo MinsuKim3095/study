{
 "cells": [
  {
   "cell_type": "code",
   "execution_count": 1,
   "id": "terminal-scale",
   "metadata": {},
   "outputs": [],
   "source": [
    "#LeNet-5는 손으로 적은 우편번호를 전통적인 방법보다 효율적으로 확인하기 위해 고안된 CNN 구조"
   ]
  },
  {
   "cell_type": "code",
   "execution_count": 2,
   "id": "committed-allocation",
   "metadata": {},
   "outputs": [],
   "source": [
    "#역전파 알고리즘으로 훈련된 다층신경망의 경우, Gradient 기반 학습 기술에 있어서\n",
    "#고차원의 패턴을 가진 데이터를 분류함에 있어 적은 전처리만으로 좋은 성능을 보여준다."
   ]
  },
  {
   "cell_type": "code",
   "execution_count": 3,
   "id": "tutorial-validation",
   "metadata": {},
   "outputs": [],
   "source": [
    "#GTN(Graph Transformer Networks)의 경우, 여러 모듈들에 대해 Gradient 기반 학습을 하도록 하여\n",
    "#비즈니스/ 개인수표를 읽는데 있어 정확도를 높여서 상업적으로 적용이 됐다."
   ]
  },
  {
   "cell_type": "code",
   "execution_count": 4,
   "id": "intensive-reflection",
   "metadata": {},
   "outputs": [],
   "source": [
    "#전통적인 패턴인식 모델은 수작업된(Hand-crafted) 특징 추출기를 통해 입력 데이터에서 정보를 수집하였다.\n",
    "#입력 데이터의 이미지가 사이즈가 커서 weight parameter의 개수가 커지고, 이는 메모리 사용량이 커지기때문.\n",
    "#이미지 사이즈를 줄이거나 문자가 센터에 오도록 전처리를 하여 학습하는 방법도있지만\n",
    "#회전,이동,변형등의 모든경우를 고려하기 어렵다.\n",
    "#그래서 기존 네트워크모델은 더 많은 학습데이터를 필요로 했었다."
   ]
  },
  {
   "cell_type": "code",
   "execution_count": 5,
   "id": "distinct-video",
   "metadata": {},
   "outputs": [],
   "source": [
    "#기존 fully-connected network의 경우 입력데이터의 topology를 무시하고 학습함을 의미함\n",
    "#입력데이터의 연관 관계를 무시한다는 의미"
   ]
  },
  {
   "cell_type": "code",
   "execution_count": 6,
   "id": "north-chain",
   "metadata": {},
   "outputs": [],
   "source": [
    "#CNN을 구성하는 아키텍처의 아이디어\n",
    "#Local receptive fields\n",
    "#Shared weights\n",
    "#Sub-sampling"
   ]
  },
  {
   "cell_type": "code",
   "execution_count": null,
   "id": "functioning-spine",
   "metadata": {},
   "outputs": [],
   "source": [
    "#Receptive-fields(수용영역)\n",
    "#visual cortex(시각피질)의 매커니즘에서 아이디어를 착안\n",
    "#고양이에게 그림을 보여줬을때, 특정 그림에서만 뉴런이 반응하는것을 모티브로 삼아\n",
    "#입력된 이미지의 특정(local)의 특징을 추출하도록 함\n",
    "#이때 kernel또는 filter를 적용한다고 하며, 특정 사이즈로 적용함\n",
    "#이러한 과정을 Convolution 한다고 한다.\n",
    "#filter는 하나의 weight가 된다.\n",
    "#Convolution이 끝나면 feature map을 얻게 됨.\n",
    "#이러한 filter를 통해 network의 다음 layer를 입력 데이터로부터 fully-connected가 아닌\n",
    "#local하게 구성함으로써 사용되는 weight 파라메터의 수도 줄어들게 된다."
   ]
  }
 ],
 "metadata": {
  "kernelspec": {
   "display_name": "Python 3",
   "language": "python",
   "name": "python3"
  },
  "language_info": {
   "codemirror_mode": {
    "name": "ipython",
    "version": 3
   },
   "file_extension": ".py",
   "mimetype": "text/x-python",
   "name": "python",
   "nbconvert_exporter": "python",
   "pygments_lexer": "ipython3",
   "version": "3.7.7"
  }
 },
 "nbformat": 4,
 "nbformat_minor": 5
}
