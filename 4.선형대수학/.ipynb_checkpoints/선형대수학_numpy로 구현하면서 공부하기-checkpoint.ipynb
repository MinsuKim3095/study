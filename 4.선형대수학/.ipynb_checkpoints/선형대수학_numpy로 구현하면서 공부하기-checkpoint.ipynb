{
 "cells": [
  {
   "cell_type": "code",
   "execution_count": 107,
   "id": "above-potential",
   "metadata": {},
   "outputs": [],
   "source": [
    "#빅북총서 005 선형대수학 (이상구, 이재화, 김경원 저)"
   ]
  },
  {
   "cell_type": "code",
   "execution_count": 108,
   "id": "floppy-finish",
   "metadata": {},
   "outputs": [],
   "source": [
    "##1.공학과 수학에서의 벡터 : n-공간##"
   ]
  },
  {
   "cell_type": "code",
   "execution_count": null,
   "id": "seventh-indonesia",
   "metadata": {},
   "outputs": [],
   "source": [
    "#R^2의 점 P1(0,-4), P2(-3,1), Q(2,3), Q1(2,-1), Q2(-1,4)에 대하여\n",
    "import numpy as np\n",
    "o = np.array([0,0])\n",
    "P1 = np.array([0,-4])\n",
    "P2 = np.array([-3,1])\n",
    "Q = np.array([2,3])\n",
    "Q1 = np.array([2,-1])\n",
    "Q2 = np.array([-1,4])"
   ]
  },
  {
   "cell_type": "code",
   "execution_count": 6,
   "id": "atomic-chancellor",
   "metadata": {},
   "outputs": [
    {
     "name": "stdout",
     "output_type": "stream",
     "text": [
      "vector OQ =  [2 3]\n",
      "vector P1Q1 =  [2 3]\n",
      "vector P2Q2 =  [2 3]\n"
     ]
    }
   ],
   "source": [
    "print('vector OQ = ', Q-o)\n",
    "print('vector P1Q1 = ', Q1-P1)\n",
    "print('vector P2Q2 = ', Q2-P2)"
   ]
  },
  {
   "cell_type": "code",
   "execution_count": 7,
   "id": "studied-paint",
   "metadata": {},
   "outputs": [
    {
     "name": "stdout",
     "output_type": "stream",
     "text": [
      "vector OQ = vector P1Q1 = vector P2Q2\n"
     ]
    }
   ],
   "source": [
    "print('vector OQ = vector P1Q1 = vector P2Q2')"
   ]
  },
  {
   "cell_type": "code",
   "execution_count": 9,
   "id": "union-league",
   "metadata": {},
   "outputs": [
    {
     "name": "stdout",
     "output_type": "stream",
     "text": [
      "p1 + p2 =  [2 4]\n",
      "p1 - p2 =  [0 0]\n"
     ]
    }
   ],
   "source": [
    "p1 = np.array([1,2])\n",
    "p2 = np.array([1,2])\n",
    "\n",
    "print('p1 + p2 = ',p1+p2)\n",
    "print('p1 - p2 = ', p1-p2)"
   ]
  },
  {
   "cell_type": "code",
   "execution_count": 10,
   "id": "superb-practitioner",
   "metadata": {},
   "outputs": [],
   "source": [
    "#영벡터 (원점)\n",
    "p0 = np.array([0,0])"
   ]
  },
  {
   "cell_type": "code",
   "execution_count": 11,
   "id": "verbal-liverpool",
   "metadata": {},
   "outputs": [
    {
     "name": "stdout",
     "output_type": "stream",
     "text": [
      "[0 0]\n"
     ]
    }
   ],
   "source": [
    "print(p0 + 0)"
   ]
  },
  {
   "cell_type": "code",
   "execution_count": 12,
   "id": "inappropriate-tongue",
   "metadata": {},
   "outputs": [
    {
     "name": "stdout",
     "output_type": "stream",
     "text": [
      "[0 0]\n"
     ]
    }
   ],
   "source": [
    "print(p0 + -1*p0)"
   ]
  },
  {
   "cell_type": "code",
   "execution_count": 13,
   "id": "entertaining-metro",
   "metadata": {},
   "outputs": [
    {
     "name": "stdout",
     "output_type": "stream",
     "text": [
      "[0 0]\n"
     ]
    }
   ],
   "source": [
    "print(p1+ -1*p1)"
   ]
  },
  {
   "cell_type": "code",
   "execution_count": 14,
   "id": "civil-radical",
   "metadata": {},
   "outputs": [],
   "source": [
    "# -1 * p1 = -p1을 p1의 음벡터라고 한다"
   ]
  },
  {
   "cell_type": "code",
   "execution_count": 16,
   "id": "hawaiian-charles",
   "metadata": {},
   "outputs": [],
   "source": [
    "#예제2"
   ]
  },
  {
   "cell_type": "code",
   "execution_count": 17,
   "id": "simple-situation",
   "metadata": {},
   "outputs": [],
   "source": [
    "x = np.array([1,2])\n",
    "y = np.array([-2,4])\n",
    "\n",
    "#x+y, x-y, (-2)x를 구하여라"
   ]
  },
  {
   "cell_type": "code",
   "execution_count": 19,
   "id": "proof-pleasure",
   "metadata": {},
   "outputs": [
    {
     "name": "stdout",
     "output_type": "stream",
     "text": [
      "x + y = [-1  6]\n",
      "x - y = [ 3 -2]\n",
      "(-2)*x = [-2 -4]\n"
     ]
    }
   ],
   "source": [
    "print('x + y =',x+y)\n",
    "print('x - y =',x-y)\n",
    "print('(-2)*x =', -2*x)"
   ]
  },
  {
   "cell_type": "code",
   "execution_count": 20,
   "id": "terminal-creature",
   "metadata": {},
   "outputs": [],
   "source": [
    "#x = ([x1,x2,x3])일때, 실수 x1,x2x3을 (공간)벡터x의 성분(component)이라고 한다."
   ]
  },
  {
   "cell_type": "code",
   "execution_count": 22,
   "id": "expressed-termination",
   "metadata": {},
   "outputs": [
    {
     "name": "stdout",
     "output_type": "stream",
     "text": [
      "선분 pq =  [3 3 3]\n",
      "선분 pq =  3 3 3\n"
     ]
    }
   ],
   "source": [
    "p = np.array([0,0,0])\n",
    "q = np.array([3,3,3])\n",
    "\n",
    "print('선분 pq = ',q-p)\n",
    "print('선분 pq = ',q[0]-p[0],q[1]-p[1],q[2]-p[2])\n"
   ]
  },
  {
   "cell_type": "code",
   "execution_count": 23,
   "id": "conceptual-wyoming",
   "metadata": {},
   "outputs": [],
   "source": [
    "#예제3\n",
    "#R^3의 점 p1(0,-4,2), p2(-3,1,0), Q(2,3,4), Q1(2,-1,6), Q2(-1,4,4)에 대하여\n",
    "# OQ, p1q1, p2q2를 성분으로 표시하라"
   ]
  },
  {
   "cell_type": "code",
   "execution_count": 26,
   "id": "fourth-cologne",
   "metadata": {},
   "outputs": [
    {
     "name": "stdout",
     "output_type": "stream",
     "text": [
      "OQ =  [2 3 4]\n",
      "p1q1 =  [2 3 4]\n",
      "p2q2 =  [2 3 4]\n"
     ]
    }
   ],
   "source": [
    "p1 = np.array([0,-4,2])\n",
    "p2 = np.array([-3,1,0])\n",
    "Q = np.array([2,3,4])\n",
    "Q1 = np.array([2,-1,6])\n",
    "Q2 = np.array([-1,4,4])\n",
    "o = np.array([0,0,0])\n",
    "print('OQ = ',Q-o)\n",
    "print('p1q1 = ', Q1-p1)\n",
    "print('p2q2 = ', Q2-p2)"
   ]
  },
  {
   "cell_type": "code",
   "execution_count": 27,
   "id": "hundred-tribute",
   "metadata": {},
   "outputs": [],
   "source": [
    "#n차원 벡터 전체의 집합을 n-공간(n차원 공간)R^n 으로 나타낸다.\n",
    "#n개의 실수의 순서조(x1,x2,...,xn)을 n차원 벡터라 하고\n",
    "#이때 실수 x1,x2,...,xn을 x의 성분이라 한다"
   ]
  },
  {
   "cell_type": "code",
   "execution_count": 28,
   "id": "dangerous-garbage",
   "metadata": {},
   "outputs": [],
   "source": [
    "#예제4\n",
    "#R^4의 벡터 x=([1,2,-3,4]) y=([-2,4,1,0])에 대하여\n",
    "# x+y, x-y, (-2)x를 구하여라"
   ]
  },
  {
   "cell_type": "code",
   "execution_count": 29,
   "id": "altered-casting",
   "metadata": {},
   "outputs": [
    {
     "name": "stdout",
     "output_type": "stream",
     "text": [
      "x+y = [-1  6 -2  4]\n",
      "x-y = [ 3 -2 -4  4]\n",
      "(-2)x =  [-2 -4  6 -8]\n"
     ]
    }
   ],
   "source": [
    "x = np.array([1,2,-3,4])\n",
    "y = np.array([-2,4,1,0])\n",
    "print('x+y =', x+y)\n",
    "print('x-y =', x-y)\n",
    "print('(-2)x = ', (-2)*x)"
   ]
  },
  {
   "cell_type": "code",
   "execution_count": 30,
   "id": "monthly-mapping",
   "metadata": {},
   "outputs": [],
   "source": [
    "#v1,v2,v3,...,vk가 R^의 벡터이고, 계수 c1,c2,..ck가 실수일때,\n",
    "# X = c1v1+c2v2+...+ckvk인 형태를\n",
    "# v1,v2,...vk의 일차결합(linear combination)이라 한다"
   ]
  },
  {
   "cell_type": "code",
   "execution_count": 31,
   "id": "chicken-assembly",
   "metadata": {},
   "outputs": [
    {
     "name": "stdout",
     "output_type": "stream",
     "text": [
      "2*x-3*y+z =  [ 13 -10  -6   1]\n"
     ]
    }
   ],
   "source": [
    "x = np.array([1,2,-3,4])\n",
    "y = np.array([-2,4,1,0])\n",
    "z = np.array([5,-2,3,-7])\n",
    "print('2*x-3*y+z = ', 2*x - 3*y + z)"
   ]
  },
  {
   "cell_type": "code",
   "execution_count": 33,
   "id": "identified-reviewer",
   "metadata": {},
   "outputs": [],
   "source": [
    "##2.내적과 직교###"
   ]
  },
  {
   "cell_type": "code",
   "execution_count": 34,
   "id": "female-amateur",
   "metadata": {},
   "outputs": [],
   "source": [
    "import math"
   ]
  },
  {
   "cell_type": "code",
   "execution_count": 38,
   "id": "sustainable-triumph",
   "metadata": {},
   "outputs": [],
   "source": [
    "#R^의 벡터 |x| = (x1,x2,...,xn)에 대하여 sqrt(x1+x2+,...+xn)을 x의 노름(norm,length,magnitude)라 한다"
   ]
  },
  {
   "cell_type": "code",
   "execution_count": 39,
   "id": "canadian-setup",
   "metadata": {},
   "outputs": [],
   "source": [
    "#위의 |x|는 원점에서 점P(x1,x2,...,xn)에 이르는 거리로 정의됨을 의미한다"
   ]
  },
  {
   "cell_type": "code",
   "execution_count": 40,
   "id": "moderate-collection",
   "metadata": {},
   "outputs": [],
   "source": [
    "#예를들어 R^의 두벡터 x= (x1,x2,...xn)과 y=(y1,y2,...,yn)에 대하여\n",
    "#|x|-|y|는 두점 P(x1,x2,...xn)과 Q(y1,y2,..yn)사이의 거리로 정의한다"
   ]
  },
  {
   "cell_type": "code",
   "execution_count": 55,
   "id": "official-indiana",
   "metadata": {},
   "outputs": [
    {
     "name": "stdout",
     "output_type": "stream",
     "text": [
      "The value of norm is\n",
      "4.242640687119285\n"
     ]
    }
   ],
   "source": [
    "from numpy import linalg as la\n",
    "x = np.array([2,-1,3,2])\n",
    "y = np.array([3,2,1,-4])\n",
    "print('The value of norm is')\n",
    "x = la.norm(x)\n",
    "print(x)"
   ]
  },
  {
   "cell_type": "code",
   "execution_count": 66,
   "id": "upper-cross",
   "metadata": {},
   "outputs": [
    {
     "data": {
      "text/plain": [
       "18"
      ]
     },
     "execution_count": 66,
     "metadata": {},
     "output_type": "execute_result"
    }
   ],
   "source": [
    "(2**2) + ((-1)**2) + (3**2) + (2**2)"
   ]
  },
  {
   "cell_type": "code",
   "execution_count": 56,
   "id": "golden-saturday",
   "metadata": {},
   "outputs": [
    {
     "data": {
      "text/plain": [
       "4.242640687119285"
      ]
     },
     "execution_count": 56,
     "metadata": {},
     "output_type": "execute_result"
    }
   ],
   "source": [
    "math.sqrt(18)"
   ]
  },
  {
   "cell_type": "code",
   "execution_count": 67,
   "id": "loved-engineering",
   "metadata": {},
   "outputs": [
    {
     "data": {
      "text/plain": [
       "4.242640687119285"
      ]
     },
     "execution_count": 67,
     "metadata": {},
     "output_type": "execute_result"
    }
   ],
   "source": [
    "abs(x)"
   ]
  },
  {
   "cell_type": "code",
   "execution_count": 69,
   "id": "placed-crash",
   "metadata": {},
   "outputs": [],
   "source": [
    "y = la.norm(y)"
   ]
  },
  {
   "cell_type": "code",
   "execution_count": 70,
   "id": "entire-vietnam",
   "metadata": {},
   "outputs": [
    {
     "name": "stdout",
     "output_type": "stream",
     "text": [
      "5.477225575051661\n"
     ]
    }
   ],
   "source": [
    "print(y)"
   ]
  },
  {
   "cell_type": "code",
   "execution_count": 71,
   "id": "electrical-trance",
   "metadata": {},
   "outputs": [
    {
     "data": {
      "text/plain": [
       "30"
      ]
     },
     "execution_count": 71,
     "metadata": {},
     "output_type": "execute_result"
    }
   ],
   "source": [
    "(3**2)+(2**2)+(1**2)+((-4)**2)"
   ]
  },
  {
   "cell_type": "code",
   "execution_count": 72,
   "id": "billion-editor",
   "metadata": {},
   "outputs": [
    {
     "data": {
      "text/plain": [
       "5.477225575051661"
      ]
     },
     "execution_count": 72,
     "metadata": {},
     "output_type": "execute_result"
    }
   ],
   "source": [
    "math.sqrt(30)"
   ]
  },
  {
   "cell_type": "code",
   "execution_count": 74,
   "id": "sudden-chicago",
   "metadata": {},
   "outputs": [],
   "source": [
    "#||x-y|| 구하기"
   ]
  },
  {
   "cell_type": "code",
   "execution_count": 77,
   "id": "champion-pixel",
   "metadata": {},
   "outputs": [
    {
     "data": {
      "text/plain": [
       "7.0710678118654755"
      ]
     },
     "execution_count": 77,
     "metadata": {},
     "output_type": "execute_result"
    }
   ],
   "source": [
    "x = np.array([2,-1,3,2])\n",
    "y = np.array([3,2,1,-4])\n",
    "abs(la.norm(x-y))"
   ]
  },
  {
   "cell_type": "code",
   "execution_count": 81,
   "id": "primary-template",
   "metadata": {},
   "outputs": [
    {
     "data": {
      "text/plain": [
       "50"
      ]
     },
     "execution_count": 81,
     "metadata": {},
     "output_type": "execute_result"
    }
   ],
   "source": [
    "((2-3)**2) + ((-1-2)**2) + ((3-1)**2) + ((2-(-4))**2)"
   ]
  },
  {
   "cell_type": "code",
   "execution_count": 86,
   "id": "integrated-marking",
   "metadata": {},
   "outputs": [
    {
     "name": "stdout",
     "output_type": "stream",
     "text": [
      "7.0710678118654755\n"
     ]
    }
   ],
   "source": [
    "math.sqrt(50)\n",
    "print(abs(la.norm(x-y)))"
   ]
  },
  {
   "cell_type": "code",
   "execution_count": 88,
   "id": "negative-harassment",
   "metadata": {},
   "outputs": [],
   "source": [
    "#벡터 x,y에 대하여 xㆍy를 구하여라 (내적)\n",
    "x = np.array([2,-1,3,2])\n",
    "y = np.array([3,2,1,-4])"
   ]
  },
  {
   "cell_type": "code",
   "execution_count": 84,
   "id": "unable-aviation",
   "metadata": {},
   "outputs": [
    {
     "name": "stdout",
     "output_type": "stream",
     "text": [
      "[ 6 -2  3 -8]\n"
     ]
    }
   ],
   "source": [
    "print(x*y)"
   ]
  },
  {
   "cell_type": "code",
   "execution_count": 87,
   "id": "literary-valley",
   "metadata": {},
   "outputs": [],
   "source": [
    "#벡터 x = (x1,x2,x3,...,xn)\n",
    "#벡터 y = (y1,y2,y3,...,yn)\n",
    "#에 대하여 실수 x1y1+x2y2+...+xnyn을 x와 y의 내적이라하고 xㆍy로 나타낸다"
   ]
  },
  {
   "cell_type": "code",
   "execution_count": 91,
   "id": "romance-spring",
   "metadata": {},
   "outputs": [
    {
     "name": "stdout",
     "output_type": "stream",
     "text": [
      "-1\n"
     ]
    }
   ],
   "source": [
    "print(sum(x*y)) ###이렇게 표현 가능"
   ]
  },
  {
   "cell_type": "code",
   "execution_count": 92,
   "id": "romantic-router",
   "metadata": {},
   "outputs": [],
   "source": [
    "##다음이 성립한다.##\n",
    "# xㆍx>=0 and xㆍx =0이면 x =0\n",
    "# xㆍy = y ㆍx\n",
    "# (x+y) ㆍ z = xㆍz+yㆍz"
   ]
  },
  {
   "cell_type": "code",
   "execution_count": 94,
   "id": "convenient-abuse",
   "metadata": {},
   "outputs": [],
   "source": [
    "#임의의 벡터 x,y에 대하여 다음 부등식이 성립한다\n",
    "#|xㆍy| <= ||x|| ||y||\n",
    "#단, 등호는 x,y중 하나가 다른것의 실수배일때만 성립한다"
   ]
  },
  {
   "cell_type": "code",
   "execution_count": 95,
   "id": "crude-preview",
   "metadata": {},
   "outputs": [],
   "source": [
    "#R^n의 벡터 x,y에 대하여\n",
    "# xㆍy = ||x|| ||y|| cosθ, o<=θ<=π인 θ를 x와y가 이루는 각(사잇각)이라고 한다"
   ]
  },
  {
   "cell_type": "code",
   "execution_count": 96,
   "id": "incoming-table",
   "metadata": {},
   "outputs": [],
   "source": [
    "#xㆍy = 0 일때 ,x와 y는 서로 직교한다(90도 라는 얘기)"
   ]
  },
  {
   "cell_type": "code",
   "execution_count": 97,
   "id": "smart-donor",
   "metadata": {},
   "outputs": [],
   "source": [
    "#R^n의 벡터 x에 대하여 그 노름이 1인 벡터,\n",
    "# ||x|| = 1 인 벡터를 단위벡터라고 한다.\n",
    "# 또한 R^의 벡터 x,y가 서로 직교한다면 이를 직교벡터 라고하고\n",
    "# x,y가 직교벡터이면서 각각 단위벡터이면 정규직교 벡터라고 한다"
   ]
  },
  {
   "cell_type": "code",
   "execution_count": 98,
   "id": "composed-slovakia",
   "metadata": {},
   "outputs": [],
   "source": [
    "#예제\n",
    "#R^4의 두 벡터 x(1,0,1,1), y=(-1,0,0,1)은 서로 직교함을 보여라"
   ]
  },
  {
   "cell_type": "code",
   "execution_count": 99,
   "id": "civil-oxford",
   "metadata": {},
   "outputs": [],
   "source": [
    "# xㆍy = 0 이면 직교"
   ]
  },
  {
   "cell_type": "code",
   "execution_count": 103,
   "id": "polyphonic-jenny",
   "metadata": {},
   "outputs": [
    {
     "name": "stdout",
     "output_type": "stream",
     "text": [
      "0\n"
     ]
    }
   ],
   "source": [
    "x = np.array([1,0,1,1])\n",
    "y = np.array([-1,0,0,1])\n",
    "print(sum(x*y))"
   ]
  },
  {
   "cell_type": "code",
   "execution_count": 109,
   "id": "statistical-complement",
   "metadata": {},
   "outputs": [],
   "source": [
    "#삼각부등식 성립\n",
    "# ||x+y|| <= ||x|| +||y||\n",
    "#등호는 x,y중 하나가 다른것의 k>=0배 일때 성립"
   ]
  },
  {
   "cell_type": "code",
   "execution_count": 115,
   "id": "stable-brother",
   "metadata": {},
   "outputs": [
    {
     "name": "stdout",
     "output_type": "stream",
     "text": [
      "4.242640687119285\n",
      "5.477225575051661\n",
      "norm_xy =  6.782329983125268\n",
      "norm_x+norm+y =  9.719866262170946\n",
      "삼각부등식 성립\n"
     ]
    }
   ],
   "source": [
    "#예제#\n",
    "#벡터 x,y가 삼각부등식이 성립함을 확인하라\n",
    "x = np.array([2,-1,3,2])\n",
    "y = np.array([3,2,1,-4])\n",
    "norm_x = abs(la.norm(x))\n",
    "print(norm_x)\n",
    "norm_y = abs(la.norm(y))\n",
    "print(norm_y)\n",
    "norm_xy = abs(la.norm(x+y))\n",
    "print('norm_xy = ',norm_xy)\n",
    "print('norm_x+norm+y = ', norm_x+norm_y)\n",
    "if norm_xy <=norm_x+norm_y :\n",
    "    print('삼각부등식 성립')\n",
    "else :\n",
    "    print('삼각부등식 성립하지않음')"
   ]
  },
  {
   "cell_type": "code",
   "execution_count": 106,
   "id": "hindu-electric",
   "metadata": {},
   "outputs": [],
   "source": [
    "##3.직선과 평면의 벡터 방정식##"
   ]
  },
  {
   "cell_type": "code",
   "execution_count": 1,
   "id": "included-healthcare",
   "metadata": {},
   "outputs": [],
   "source": [
    "#R^3에서 한점 P0(x0,y0,z0)을 지나고, 0 아닌 벡터 v=ai+bj+ck=(a,b,c)에 평행한 직선은\n",
    "# 벡터v와 P0P가 평행하면서 P0p = tv를 만족하는 점 P(x,y,z) 전체의 집합과 같다"
   ]
  },
  {
   "cell_type": "code",
   "execution_count": 13,
   "id": "handmade-representation",
   "metadata": {},
   "outputs": [],
   "source": [
    "from PIL import Image\n",
    "import matplotlib.pyplot as plt"
   ]
  },
  {
   "cell_type": "code",
   "execution_count": 17,
   "id": "attractive-corrections",
   "metadata": {},
   "outputs": [],
   "source": [
    "image = Image.open('1.jpg')\n",
    "plt.show(image)"
   ]
  },
  {
   "cell_type": "code",
   "execution_count": null,
   "id": "united-executive",
   "metadata": {},
   "outputs": [],
   "source": []
  }
 ],
 "metadata": {
  "kernelspec": {
   "display_name": "Python 3",
   "language": "python",
   "name": "python3"
  },
  "language_info": {
   "codemirror_mode": {
    "name": "ipython",
    "version": 3
   },
   "file_extension": ".py",
   "mimetype": "text/x-python",
   "name": "python",
   "nbconvert_exporter": "python",
   "pygments_lexer": "ipython3",
   "version": "3.7.7"
  }
 },
 "nbformat": 4,
 "nbformat_minor": 5
}
